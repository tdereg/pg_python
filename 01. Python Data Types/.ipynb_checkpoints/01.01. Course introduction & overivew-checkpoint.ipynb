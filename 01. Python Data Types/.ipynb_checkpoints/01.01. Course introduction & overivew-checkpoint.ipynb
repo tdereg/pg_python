{
 "cells": [
  {
   "cell_type": "markdown",
   "metadata": {},
   "source": [
    "# Course Table of Contents \n",
    "## Introduction\n",
    "* How to set up Python envitonment:\n",
    "    * Install Python\n",
    "    * Jupyter Notebooks\n",
    "    * Git and GitHub\n",
    "    * Additional learing resources\n",
    "* Python 2 VS Python 3\n",
    "\n",
    "## Basic data structures\n",
    "* Numbers\n",
    "* Strings\n",
    "* Lists\n",
    "* Dictionaries\n",
    "* Tuples\n",
    "* Files\n",
    "* Sets\n",
    "* Booleans\n",
    "\n",
    "## Operators\n",
    "* Basic operators\n",
    "* Chained comparision operators\n",
    "\n",
    "## Python statements\n",
    "* If, elif, else\n",
    "* For loop(s)\n",
    "* While loop(s)\n",
    "* range ()\n",
    "* List comprehensions \n",
    "\n",
    "## Methods and Functions\n",
    "* Methods\n",
    "* Functions\n",
    "* Lambda expressions\n",
    "* Nested statements\n",
    "\n",
    "## PROJECT 1\n",
    "## Object Oriented Programming\n",
    "## Modules and Packages\n",
    "## Errors and exception handling\n",
    "## PROJECT 2\n",
    "## Build-in Functions\n",
    "## Python Decorators\n",
    "## Python Generators\n",
    "## PROEJCT 3\n",
    "## Advanced Python Modules\n",
    "## Advanced Python Objects and Data Structures\n",
    "## Advanced Object Oriented Programming\n",
    "## GUIs\n",
    "## Parrarel Processing"
   ]
  },
  {
   "cell_type": "markdown",
   "metadata": {},
   "source": [
    "# Introduction\n",
    "## Where to write Python code?\n",
    "1. Text Editors \n",
    "2. IDE\n",
    "3. Notebooks\n",
    "    - Great for learning\n",
    "    - See input and output next to each other\n",
    "\t- Support in-line markdown notes, visualizations, videos, and more\n",
    "\t- Special formats that are not .py\n",
    "\t- Most popular is Jupyter Notebook\n",
    "\n",
    "## How to run python code\n",
    "1. Command Line\n",
    "    - show how\n",
    "2. Submlime editor\n",
    "    - show how\n",
    "3. Jupyter notebook\n",
    "    - Download & install\n",
    "        - Anaconda\n",
    "        - Jupyter Notebook\n",
    "\t- Edit & save .py file\n",
    "\t- Create new Jupyter Notebook (New -> Python3)\n",
    "\t- 'Untitled' & how to change the name\n",
    "\t- 'cell' based system - you write the code in the cell and run the cell\n",
    "\t- quickly iterate and fix mistakes -> good for people learing python\n",
    "\t- Shift + Enter to run the cell (Help -> keyboard shourcats)\n",
    "\t- Change 'cell' from 'code' to 'markdown' and use to make your notes"
   ]
  },
  {
   "cell_type": "markdown",
   "metadata": {},
   "source": [
    "## Jupyter Notebook Keyboard shourtcats \n",
    "1. `Shift` + `Enter` runs the code\n",
    "2. `object_name.` + `Tab` displays object's methods\n",
    "3. `object_name.method_name` + `Shift+Tab` to see more details on `method_name` method (or use `help` method instead)\n"
   ]
  },
  {
   "cell_type": "markdown",
   "metadata": {},
   "source": [
    "# Git & GitHub\n",
    "- [git tutorial](http://gitimmersion.com)\n",
    "- [GitHub Guides](http://guides.github.org/activities/hello-world)"
   ]
  },
  {
   "cell_type": "markdown",
   "metadata": {},
   "source": [
    "02/08"
   ]
  }
 ],
 "metadata": {
  "kernelspec": {
   "display_name": "Python 3",
   "language": "python",
   "name": "python3"
  },
  "language_info": {
   "codemirror_mode": {
    "name": "ipython",
    "version": 3
   },
   "file_extension": ".py",
   "mimetype": "text/x-python",
   "name": "python",
   "nbconvert_exporter": "python",
   "pygments_lexer": "ipython3",
   "version": "3.7.4"
  }
 },
 "nbformat": 4,
 "nbformat_minor": 2
}
