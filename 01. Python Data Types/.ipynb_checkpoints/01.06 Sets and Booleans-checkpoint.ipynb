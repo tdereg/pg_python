{
 "cells": [
  {
   "cell_type": "markdown",
   "metadata": {},
   "source": [
    "# Sets\n",
    " - A set is an unordered collection of items. \n",
    " - Every element is unique (no duplicates) and must be immutable (cannot be changed).\n",
    " - Althought *set* elements cannot be changed, the set itself is mutable. We can add or remove items from it.\n",
    " "
   ]
  },
  {
   "cell_type": "markdown",
   "metadata": {},
   "source": [
    "**Creating a *set***"
   ]
  },
  {
   "cell_type": "code",
   "execution_count": null,
   "metadata": {},
   "outputs": [],
   "source": [
    "# Construct *set* them by using the *set()* function\n",
    "x = set()\n",
    "print (x)\n",
    "x.add(1)\n",
    "print (x)\n",
    "x.add(2)\n",
    "print (x)\n",
    "x.add ('one')\n",
    "print (x)\n",
    "x.add (1) # no error, but at the same time '1' is not added for the second time\n",
    "print (x)"
   ]
  },
  {
   "cell_type": "code",
   "execution_count": null,
   "metadata": {},
   "outputs": [],
   "source": [
    "y = {1, 2, 'one'}\n",
    "print (y)"
   ]
  },
  {
   "cell_type": "code",
   "execution_count": null,
   "metadata": {},
   "outputs": [],
   "source": [
    "# you can cast list to sets (even when list contains duplicates)\n",
    "list1 = [1,1,2,2,3,4,5,6,1,1]\n",
    "z = set (list1)\n",
    "print(z)"
   ]
  },
  {
   "cell_type": "markdown",
   "metadata": {},
   "source": [
    "**Removing elements from a *set***"
   ]
  },
  {
   "cell_type": "code",
   "execution_count": null,
   "metadata": {},
   "outputs": [],
   "source": [
    "y = {1, 2, 'one'}\n",
    "print (y)\n",
    "y.remove(2)\n",
    "print (y)"
   ]
  },
  {
   "cell_type": "code",
   "execution_count": null,
   "metadata": {},
   "outputs": [],
   "source": [
    "# removed element safely, even if it's not a part of set\n",
    "y = {1, 2, 'one'}\n",
    "print (y)\n",
    "y.discard(3)\n",
    "print (y)"
   ]
  },
  {
   "cell_type": "markdown",
   "metadata": {},
   "source": [
    "## Mathematical *set* operations"
   ]
  },
  {
   "cell_type": "markdown",
   "metadata": {},
   "source": [
    "***Set* Union**\n",
    "![Set Union](img/set-union.jpg)\n",
    "- Union of `A` and `B` is a set of all elements from both sets.\n",
    "- Union is performed using `|` operator. Same can be accomplished using the method `union()`."
   ]
  },
  {
   "cell_type": "code",
   "execution_count": null,
   "metadata": {},
   "outputs": [],
   "source": [
    "A = {1, 2, 3, 4, 5}\n",
    "B = {4, 5, 6, 7, 8}\n",
    "\n",
    "print(A | B)\n",
    "print(A.union(B))"
   ]
  },
  {
   "cell_type": "markdown",
   "metadata": {},
   "source": [
    "***Set* Intersection**\n",
    "![Set Intersection](img/set-intersection.jpg)\n",
    "- Intersection of `A` and `B` is a set of elements that are common in both sets.\n",
    "- Intersection is performed using `&` operator. Same can be accomplished using the method `intersection()`."
   ]
  },
  {
   "cell_type": "code",
   "execution_count": null,
   "metadata": {},
   "outputs": [],
   "source": [
    "A = {1, 2, 3, 4, 5}\n",
    "B = {4, 5, 6, 7, 8}\n",
    "\n",
    "print(A & B)\n",
    "print(A.intersection(B))"
   ]
  },
  {
   "cell_type": "markdown",
   "metadata": {},
   "source": [
    "***Set* Difference**\n",
    "![Set Difference](img/set-difference.jpg)\n",
    "\n",
    "- Difference of `A` and `B` (`A - B`) is a set of elements that are only in `A` but not in `B`. \n",
    "- Similarly, `B - A` is a set of element in `B` but not in `A`.\n",
    "- Difference is performed using `-` operator. Same can be accomplished using the method `difference ()`."
   ]
  },
  {
   "cell_type": "code",
   "execution_count": null,
   "metadata": {},
   "outputs": [],
   "source": [
    "A = {1, 2, 3, 4, 5}\n",
    "B = {4, 5, 6, 7, 8}\n",
    "\n",
    "print(A - B)\n",
    "print(A.difference(B))"
   ]
  },
  {
   "cell_type": "markdown",
   "metadata": {},
   "source": [
    "***Set* Symmetric Difference**\n",
    "![Set Symmetric Difference](img/set-symmetric-difference.jpg)\n",
    "\n",
    "- Symmetric Difference of `A` and `B` is a set of elements in both `A` and `B` except those that are common in both.\n",
    "- Symmetric difference is performed using `^` operator. Same can be accomplished using the method  `symmetric_difference()`."
   ]
  },
  {
   "cell_type": "code",
   "execution_count": null,
   "metadata": {},
   "outputs": [],
   "source": [
    "A = {1, 2, 3, 4, 5}\n",
    "B = {4, 5, 6, 7, 8}\n",
    "\n",
    "print(A ^ B)\n",
    "print(A.symmetric_difference(B))"
   ]
  },
  {
   "cell_type": "markdown",
   "metadata": {},
   "source": [
    "# Boolean\n",
    " - Can take one of two values: True or False (integers 1 and 0)\n",
    " - Boolean variable can be undefined (neither true nor false) - assign value 'None'"
   ]
  },
  {
   "cell_type": "code",
   "execution_count": null,
   "metadata": {},
   "outputs": [],
   "source": [
    "a = True # set boolean object ro be true\n",
    "a"
   ]
  },
  {
   "cell_type": "code",
   "execution_count": null,
   "metadata": {},
   "outputs": [],
   "source": [
    "a = 1 < 2 # you can use comparation elements to create boolean value\n",
    "a"
   ]
  },
  {
   "cell_type": "code",
   "execution_count": null,
   "metadata": {},
   "outputs": [],
   "source": [
    "a = None # none is logical placeholder for value we don't want to assign yet\n",
    "print (a)"
   ]
  }
 ],
 "metadata": {
  "kernelspec": {
   "display_name": "Python 3",
   "language": "python",
   "name": "python3"
  },
  "language_info": {
   "codemirror_mode": {
    "name": "ipython",
    "version": 3
   },
   "file_extension": ".py",
   "mimetype": "text/x-python",
   "name": "python",
   "nbconvert_exporter": "python",
   "pygments_lexer": "ipython3",
   "version": "3.7.4"
  }
 },
 "nbformat": 4,
 "nbformat_minor": 2
}
