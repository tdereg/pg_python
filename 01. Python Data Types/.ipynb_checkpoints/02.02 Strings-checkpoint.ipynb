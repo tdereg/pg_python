{
 "cells": [
  {
   "cell_type": "markdown",
   "metadata": {},
   "source": [
    "# Strings\n",
    " - sequence of characters used to store text inforamtion \n",
    " - single quotes or double quotes ('hello' or \"hello\")\n",
    " - sequence means you can use indexes to get acceess to any character in the string\n",
    " - each character has specific postion in String. \n",
    " - you can use indexes to grab specific letter from within the string e.g. first, last or 3rd letter"
   ]
  },
  {
   "cell_type": "code",
   "execution_count": 1,
   "metadata": {},
   "outputs": [
    {
     "data": {
      "text/plain": [
       "'This is string...'"
      ]
     },
     "execution_count": 1,
     "metadata": {},
     "output_type": "execute_result"
    }
   ],
   "source": [
    "\"This is string...\""
   ]
  },
  {
   "cell_type": "code",
   "execution_count": 2,
   "metadata": {},
   "outputs": [
    {
     "data": {
      "text/plain": [
       "'...and this is also a string'"
      ]
     },
     "execution_count": 2,
     "metadata": {},
     "output_type": "execute_result"
    }
   ],
   "source": [
    "'...and this is also a string' # in Python you can use single quotes and/or double quotes to create a string"
   ]
  },
  {
   "cell_type": "code",
   "execution_count": 3,
   "metadata": {},
   "outputs": [
    {
     "data": {
      "text/plain": [
       "'good if you have to use single or double \"quotes\" inside string'"
      ]
     },
     "execution_count": 3,
     "metadata": {},
     "output_type": "execute_result"
    }
   ],
   "source": [
    "'good if you have to use single or double \"quotes\" inside string'"
   ]
  },
  {
   "cell_type": "code",
   "execution_count": 4,
   "metadata": {},
   "outputs": [
    {
     "ename": "SyntaxError",
     "evalue": "invalid syntax (<ipython-input-4-2763baf87cd9>, line 1)",
     "output_type": "error",
     "traceback": [
      "\u001b[1;36m  File \u001b[1;32m\"<ipython-input-4-2763baf87cd9>\"\u001b[1;36m, line \u001b[1;32m1\u001b[0m\n\u001b[1;33m    'I'll show one more example' # this is good example when using single and double quotes makes real sense\u001b[0m\n\u001b[1;37m        ^\u001b[0m\n\u001b[1;31mSyntaxError\u001b[0m\u001b[1;31m:\u001b[0m invalid syntax\n"
     ]
    }
   ],
   "source": [
    "'I'll show one more example' # this is good example when using single and double quotes makes real sense"
   ]
  },
  {
   "cell_type": "markdown",
   "metadata": {},
   "source": [
    "## <i>Print</i> statement"
   ]
  },
  {
   "cell_type": "code",
   "execution_count": 5,
   "metadata": {},
   "outputs": [
    {
     "name": "stdout",
     "output_type": "stream",
     "text": [
      "Name: Tom\n",
      "First character: T\n"
     ]
    }
   ],
   "source": [
    "name = \"Tom\"\n",
    "print (\"Name: \" + name) # use 'print' statement to print string on the screen; this is how you print from within Python script\n",
    "print (\"First character: \" + name[0])"
   ]
  },
  {
   "cell_type": "code",
   "execution_count": 6,
   "metadata": {},
   "outputs": [
    {
     "name": "stdout",
     "output_type": "stream",
     "text": [
      "hello\tworld \n",
      "new line\n"
     ]
    }
   ],
   "source": [
    "print (\"hello\\tworld \\nnew line\") # you can use special characters like new line (\\n) or tab (\\t)"
   ]
  },
  {
   "cell_type": "markdown",
   "metadata": {},
   "source": [
    "## <i>String</i> indexing\n",
    " - Indexing (geting specific character fo )\n",
    "    - <code>String:    \"Tom\"</code>\n",
    "    - <code>Character: \"T\", \"o\", \"m\"</code>\n",
    "    - <code>Index:      0    1    2</code>\n",
    "    - <code>Reverse:    0   -2   -1</code>\n",
    " - Strings is a sequence of characters\n",
    " - You can use indexes to get access to parts of the sequence\n",
    " - Use brackets <code>[]</code> after an object to call its index. \n",
    " - Indexing starts at 0\n",
    " - Use a `:` to perform slicing - grab a part of a <i>String</i>"
   ]
  },
  {
   "cell_type": "code",
   "execution_count": 7,
   "metadata": {},
   "outputs": [
    {
     "name": "stdout",
     "output_type": "stream",
     "text": [
      "Name: Tom\n",
      "First character: T\n",
      "Second character: o\n",
      "Third character: m\n",
      "Last character: m\n",
      "Last but one: o\n",
      "Before last but one: T\n"
     ]
    }
   ],
   "source": [
    "name = \"Tom\"\n",
    "print (\"Name: \" + name) # use 'print' statement to print string on the screen; this is how you print from within Python script\n",
    "print (\"First character: \" + name[0])\n",
    "print (\"Second character: \" + name[1])\n",
    "print (\"Third character: \" + name[2])\n",
    "print (\"Last character: \" + name[-1])\n",
    "print (\"Last but one: \" + name[-2])\n",
    "print (\"Before last but one: \" + name[-3])"
   ]
  },
  {
   "cell_type": "markdown",
   "metadata": {},
   "source": [
    "## <i>String</i> slicing\n",
    " - [start:stop:step]\n",
    " - start: index of the begging of slice\n",
    " - end: index you will go up to\n",
    " - step: the size of jump to you take"
   ]
  },
  {
   "cell_type": "code",
   "execution_count": 8,
   "metadata": {},
   "outputs": [
    {
     "name": "stdout",
     "output_type": "stream",
     "text": [
      "om\n"
     ]
    }
   ],
   "source": [
    "name = \"Tom\"\n",
    "print (name[1:])"
   ]
  },
  {
   "cell_type": "code",
   "execution_count": 9,
   "metadata": {},
   "outputs": [
    {
     "name": "stdout",
     "output_type": "stream",
     "text": [
      "m\n"
     ]
    }
   ],
   "source": [
    "name = \"Tom\"\n",
    "print (name[2:])"
   ]
  },
  {
   "cell_type": "code",
   "execution_count": 10,
   "metadata": {},
   "outputs": [
    {
     "name": "stdout",
     "output_type": "stream",
     "text": [
      "To\n"
     ]
    }
   ],
   "source": [
    "name = \"Tom\"\n",
    "print (name[:2])"
   ]
  },
  {
   "cell_type": "code",
   "execution_count": 11,
   "metadata": {},
   "outputs": [
    {
     "name": "stdout",
     "output_type": "stream",
     "text": [
      "oma\n"
     ]
    }
   ],
   "source": [
    "name = \"Thomas\"\n",
    "print (name[2:5])"
   ]
  },
  {
   "cell_type": "code",
   "execution_count": 12,
   "metadata": {},
   "outputs": [
    {
     "name": "stdout",
     "output_type": "stream",
     "text": [
      "Thomas\n"
     ]
    }
   ],
   "source": [
    "name = \"Thomas\"\n",
    "print (name[:]) # the whole string"
   ]
  },
  {
   "cell_type": "code",
   "execution_count": 13,
   "metadata": {},
   "outputs": [
    {
     "name": "stdout",
     "output_type": "stream",
     "text": [
      "Toa\n"
     ]
    }
   ],
   "source": [
    "name = \"Thomas\"\n",
    "print (name[::2]) # grab everything but go in steps (every second letter)"
   ]
  },
  {
   "cell_type": "code",
   "execution_count": 14,
   "metadata": {},
   "outputs": [
    {
     "name": "stdout",
     "output_type": "stream",
     "text": [
      "samohT\n"
     ]
    }
   ],
   "source": [
    "name = \"Thomas\"\n",
    "print (name[::-1]) # nice trick if you want to revert a String"
   ]
  },
  {
   "cell_type": "code",
   "execution_count": 15,
   "metadata": {},
   "outputs": [
    {
     "name": "stdout",
     "output_type": "stream",
     "text": [
      "s\n"
     ]
    }
   ],
   "source": [
    "name = \"Thomas\"\n",
    "print (name[-1:]) # last letter"
   ]
  },
  {
   "cell_type": "code",
   "execution_count": 16,
   "metadata": {},
   "outputs": [
    {
     "name": "stdout",
     "output_type": "stream",
     "text": [
      "s\n"
     ]
    }
   ],
   "source": [
    "name = \"Thomas\"\n",
    "print (name[-1:]) # last letter"
   ]
  },
  {
   "cell_type": "code",
   "execution_count": 17,
   "metadata": {},
   "outputs": [
    {
     "name": "stdout",
     "output_type": "stream",
     "text": [
      "from second string till the end: 3456789\n",
      "from the beggingin till third string: 123\n",
      "from second to third: 23\n",
      "from beggign to end, every second character: 13579\n",
      "revert string (negative step): 987654321\n"
     ]
    }
   ],
   "source": [
    "test_string = \"123456789\"\n",
    "print (\"from second string till the end: \"+ test_string[2:])\n",
    "print (\"from the beggingin till third string: \"+ test_string[:3])\n",
    "print (\"from second to third: \"+ test_string[1:3])\n",
    "print (\"from beggign to end, every second character: \"+ test_string[::2])\n",
    "print (\"revert string (negative step): \"+ test_string[::-1])"
   ]
  },
  {
   "cell_type": "markdown",
   "metadata": {},
   "source": [
    "Instead of using `print` method you can use the `.format()` method to add formatting"
   ]
  },
  {
   "cell_type": "code",
   "execution_count": 18,
   "metadata": {},
   "outputs": [
    {
     "data": {
      "text/plain": [
       "'Insert another string with curly brackets: The inserted string'"
      ]
     },
     "execution_count": 18,
     "metadata": {},
     "output_type": "execute_result"
    }
   ],
   "source": [
    "'Insert another string with curly brackets: {}'.format('The inserted string')"
   ]
  },
  {
   "cell_type": "code",
   "execution_count": 19,
   "metadata": {},
   "outputs": [
    {
     "name": "stdout",
     "output_type": "stream",
     "text": [
      "First name: Tom\n",
      "Last name: Deregowski\n"
     ]
    }
   ],
   "source": [
    "first_name = \"Tom\"\n",
    "last_name = \"Deregowski\"\n",
    "name = \"First name: {}\\nLast name: {}\".format(first_name, last_name)\n",
    "print(name)"
   ]
  },
  {
   "cell_type": "markdown",
   "metadata": {},
   "source": [
    "## <i>String</i> immutability\n",
    " - Strings have an important property known as immutability\n",
    " - Once a string is created, the elements within it can not be changed or replaced"
   ]
  },
  {
   "cell_type": "code",
   "execution_count": 20,
   "metadata": {},
   "outputs": [
    {
     "ename": "TypeError",
     "evalue": "'str' object does not support item assignment",
     "output_type": "error",
     "traceback": [
      "\u001b[1;31m---------------------------------------------------------------------------\u001b[0m",
      "\u001b[1;31mTypeError\u001b[0m                                 Traceback (most recent call last)",
      "\u001b[1;32m<ipython-input-20-665800be13ad>\u001b[0m in \u001b[0;36m<module>\u001b[1;34m\u001b[0m\n\u001b[0;32m      1\u001b[0m \u001b[0mname\u001b[0m \u001b[1;33m=\u001b[0m \u001b[1;34m\"Rose\"\u001b[0m\u001b[1;33m\u001b[0m\u001b[1;33m\u001b[0m\u001b[0m\n\u001b[1;32m----> 2\u001b[1;33m \u001b[0mname\u001b[0m\u001b[1;33m[\u001b[0m\u001b[1;36m0\u001b[0m\u001b[1;33m]\u001b[0m \u001b[1;33m=\u001b[0m \u001b[1;34m\"T\"\u001b[0m\u001b[1;33m\u001b[0m\u001b[1;33m\u001b[0m\u001b[0m\n\u001b[0m",
      "\u001b[1;31mTypeError\u001b[0m: 'str' object does not support item assignment"
     ]
    }
   ],
   "source": [
    "name = \"Rose\"\n",
    "name[0] = \"T\""
   ]
  },
  {
   "cell_type": "markdown",
   "metadata": {},
   "source": [
    "## <i>String</i> methods\n",
    " - Objects in Object Oriented programming languages have built-in methods\n",
    " - These methods can perform actions or commands on the object itself\n",
    " - Methods can take parameter(s)\n",
    " - How we call methods: `object.method(parameters)`\n",
    " - More details later in the corse"
   ]
  },
  {
   "cell_type": "code",
   "execution_count": 21,
   "metadata": {},
   "outputs": [
    {
     "data": {
      "text/plain": [
       "12"
      ]
     },
     "execution_count": 21,
     "metadata": {},
     "output_type": "execute_result"
    }
   ],
   "source": [
    "len(\"hello world!\") # you can also use fucntion 'len' to check length of the string (inclusing space and punctuation)"
   ]
  },
  {
   "cell_type": "code",
   "execution_count": 22,
   "metadata": {},
   "outputs": [
    {
     "name": "stdout",
     "output_type": "stream",
     "text": [
      "Upper: ROSE\n",
      "Lower: rose\n"
     ]
    }
   ],
   "source": [
    "name = \"RoSe\"\n",
    "address = \"Gdynia, Luzycka 8b\"\n",
    "print (\"Upper: \" + name.upper())\n",
    "print (\"Lower: \" + name.lower())"
   ]
  },
  {
   "cell_type": "code",
   "execution_count": 23,
   "metadata": {},
   "outputs": [
    {
     "name": "stdout",
     "output_type": "stream",
     "text": [
      "['Gdynia,', 'Luzycka', '8b']\n"
     ]
    }
   ],
   "source": [
    "print (address.split()) # split by space (default)"
   ]
  },
  {
   "cell_type": "code",
   "execution_count": 24,
   "metadata": {},
   "outputs": [
    {
     "name": "stdout",
     "output_type": "stream",
     "text": [
      "['Gdyni', ', Luzyck', ' 8b']\n"
     ]
    }
   ],
   "source": [
    "print (address.split('a')) # split by space (default)"
   ]
  }
 ],
 "metadata": {
  "kernelspec": {
   "display_name": "Python 3",
   "language": "python",
   "name": "python3"
  },
  "language_info": {
   "codemirror_mode": {
    "name": "ipython",
    "version": 3
   },
   "file_extension": ".py",
   "mimetype": "text/x-python",
   "name": "python",
   "nbconvert_exporter": "python",
   "pygments_lexer": "ipython3",
   "version": "3.7.4"
  }
 },
 "nbformat": 4,
 "nbformat_minor": 2
}
