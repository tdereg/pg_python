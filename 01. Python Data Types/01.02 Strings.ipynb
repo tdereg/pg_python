{
 "cells": [
  {
   "cell_type": "markdown",
   "metadata": {},
   "source": [
    "# Strings\n",
    " - sequence of characters used to store text inforamtion \n",
    " - single quotes or double quotes ('hello' or \"hello\"); it gives you flexibility and allows you to use quotes and apostrophes within yourstring\n",
    " - sequence means you can use indexes to get acceess to any character in the string\n",
    " - each character has specific postion in String. \n",
    " - you can use indexes to grab specific letter from within the string e.g. first, last or 3rd letter"
   ]
  },
  {
   "cell_type": "code",
   "execution_count": null,
   "metadata": {},
   "outputs": [],
   "source": [
    "\"This is string...\""
   ]
  },
  {
   "cell_type": "code",
   "execution_count": null,
   "metadata": {},
   "outputs": [],
   "source": [
    "'...and this is also a string' # in Python you can use single quotes and/or double quotes to create a string"
   ]
  },
  {
   "cell_type": "code",
   "execution_count": null,
   "metadata": {},
   "outputs": [],
   "source": [
    "'good if you have to use single or double \"quotes\" inside string'"
   ]
  },
  {
   "cell_type": "code",
   "execution_count": null,
   "metadata": {},
   "outputs": [],
   "source": [
    "\"I'll show one more example\" # this is good example when using single and double quotes makes real sense"
   ]
  },
  {
   "cell_type": "markdown",
   "metadata": {},
   "source": [
    "## <i>Print</i> statement"
   ]
  },
  {
   "cell_type": "code",
   "execution_count": null,
   "metadata": {},
   "outputs": [],
   "source": [
    "name = \"Rose\"\n",
    "print (\"Name: \" + name) # use 'print' statement to print string on the screen; this is how you print from within Python script\n",
    "print (\"First character of my name is: \" + name[0])"
   ]
  },
  {
   "cell_type": "code",
   "execution_count": null,
   "metadata": {},
   "outputs": [],
   "source": [
    "# \\t \\n\n",
    "print (\"hello\\tworld \\nnew line\") # you can use special characters like new line (\\n) or tab (\\t)"
   ]
  },
  {
   "cell_type": "markdown",
   "metadata": {},
   "source": [
    "## Using Variables in *Strings*\n",
    " - In some situations, you’ll want to use a variable’s value inside a string. \n",
    " - You might want two variables to represent a first name and a last name respectively, and then want to combine those values to display someone’s full name:"
   ]
  },
  {
   "cell_type": "code",
   "execution_count": null,
   "metadata": {},
   "outputs": [],
   "source": [
    "first_name = \"ada\"\n",
    "last_name = \"lovelace\"\n",
    "age = 40\n",
    "\n",
    "full_name = f\"First name: {first_name}\\nLast name: {last_name}\\nAge: {age}\\n\" # f-string AKA foramted strings\n",
    "print(full_name)"
   ]
  },
  {
   "cell_type": "markdown",
   "metadata": {},
   "source": [
    "*F-strings* were first introduced in Python 3.6. If you’re using Python 3.5 or earlier, you’ll need to use the `format()` method rather than `f` syntax. \n",
    "\n",
    "To use `format()`, list the variables you want to use in the string inside the parentheses\n",
    "following format. Each variable is referred to by a set of braces; the braces will be\n",
    "filled by the values listed in parentheses in the order provided:\n",
    "\n",
    "    full_name = \"{} {}\".format(first_name, last_name)\n"
   ]
  },
  {
   "cell_type": "code",
   "execution_count": null,
   "metadata": {},
   "outputs": [],
   "source": [
    "'Insert another string with curly brackets: {}'.format('The inserted string')"
   ]
  },
  {
   "cell_type": "code",
   "execution_count": null,
   "metadata": {},
   "outputs": [],
   "source": [
    "first_name = \"Ada\"\n",
    "last_name = \"Lovelance\"\n",
    "name = \"First name: {}\\nLast name: {}\\nAge: {}\".format(first_name, last_name, age)\n",
    "print(name)"
   ]
  },
  {
   "cell_type": "markdown",
   "metadata": {},
   "source": [
    "## Adding whitespaces to *String* \n",
    "Whitespace refers to any nonprinting character, such as spaces, tabs (`t`), and end-of-line symbols (`\\n`):\n"
   ]
  },
  {
   "cell_type": "code",
   "execution_count": null,
   "metadata": {},
   "outputs": [],
   "source": [
    "print(\"\\tPython\")"
   ]
  },
  {
   "cell_type": "code",
   "execution_count": null,
   "metadata": {},
   "outputs": [],
   "source": [
    "print(\"Languages:\\nPython\\nJava\\nScala\")"
   ]
  },
  {
   "cell_type": "code",
   "execution_count": null,
   "metadata": {},
   "outputs": [],
   "source": [
    "print(\"Languages:\\n\\tPython\\n\\tJava\\n\\tScala\")"
   ]
  },
  {
   "cell_type": "markdown",
   "metadata": {},
   "source": [
    "## Stripping whitespaces from *String* \n",
    "\n",
    "Extra whitespace can be confusing in your programs. To programmers `'python'` and `'python '` look pretty much the same. But to a program, they are two different strings. Python detects the extra space in `'python '` and considers it significant unless you tell it otherwise.\n",
    "\n",
    "It’s important to think about whitespace, because often you’ll want to compare two strings to determine whether they are the same.\n",
    "\n",
    "Python can look for extra whitespace on the right and left sides of a string."
   ]
  },
  {
   "cell_type": "code",
   "execution_count": null,
   "metadata": {},
   "outputs": [],
   "source": [
    "favorite_language = ' python '\n",
    "print (favorite_language + \".\")\n",
    "print (favorite_language.lstrip() + \".\")\n",
    "print (favorite_language.rstrip() + \".\")\n",
    "print (favorite_language.strip() + \".\")"
   ]
  },
  {
   "cell_type": "markdown",
   "metadata": {},
   "source": [
    "## <i>String</i> indexing\n",
    " - Indexing (geting specific character fo )\n",
    "    - <code>String:    \"Tom\"</code>\n",
    "    - <code>Character: \"T\", \"o\", \"m\"</code>\n",
    "    - <code>Index:      0    1    2</code>\n",
    "    - <code>Reverse:    0   -2   -1</code>\n",
    " - Strings is a sequence of characters\n",
    " - You can use indexes to get access to parts of the sequence\n",
    " - Use brackets <code>[]</code> after an object to call its index. \n",
    " - Indexing starts at 0\n",
    " - Use a `:` to perform slicing - grab a part of a <i>String</i>"
   ]
  },
  {
   "cell_type": "code",
   "execution_count": null,
   "metadata": {},
   "outputs": [],
   "source": [
    "name = \"Tom\"\n",
    "print (\"Name: \" + name) # use 'print' statement to print string; this is how you print from within Python script\n",
    "print (\"First character: \" + name[0])\n",
    "print (\"Second character: \" + name[1])\n",
    "print (\"Third character: \" + name[2])\n",
    "print (\"Last character: \" + name[-1])\n",
    "print (\"Last but one: \" + name[-2])\n",
    "print (\"Before last but one: \" + name[-3])"
   ]
  },
  {
   "cell_type": "markdown",
   "metadata": {},
   "source": [
    "## <i>String</i> slicing\n",
    " - `[start:stop:step]`\n",
    " - `start`: index of the begging of slice\n",
    " - `end`: index you will go up to\n",
    " - `step`: the size of jump to you take"
   ]
  },
  {
   "cell_type": "code",
   "execution_count": null,
   "metadata": {},
   "outputs": [],
   "source": [
    "name = \"Tom\"\n",
    "print (name[1:])"
   ]
  },
  {
   "cell_type": "code",
   "execution_count": null,
   "metadata": {},
   "outputs": [],
   "source": [
    "name = \"Tom\"\n",
    "print (name[2:])"
   ]
  },
  {
   "cell_type": "code",
   "execution_count": null,
   "metadata": {},
   "outputs": [],
   "source": [
    "name = \"Tom\"\n",
    "print (name[:2])"
   ]
  },
  {
   "cell_type": "code",
   "execution_count": null,
   "metadata": {},
   "outputs": [],
   "source": [
    "name = \"Thomas\"\n",
    "print (name[2:5])"
   ]
  },
  {
   "cell_type": "code",
   "execution_count": null,
   "metadata": {},
   "outputs": [],
   "source": [
    "name = \"Thomas\"\n",
    "print (name[:]) # the whole string"
   ]
  },
  {
   "cell_type": "code",
   "execution_count": null,
   "metadata": {},
   "outputs": [],
   "source": [
    "name = \"Thomas\"\n",
    "print (name[::2]) # grab everything but go in steps (every second letter)"
   ]
  },
  {
   "cell_type": "code",
   "execution_count": null,
   "metadata": {},
   "outputs": [],
   "source": [
    "name = \"Thomas\"\n",
    "print (name[::-1]) # nice trick if you want to revert a String"
   ]
  },
  {
   "cell_type": "code",
   "execution_count": null,
   "metadata": {},
   "outputs": [],
   "source": [
    "name = \"Thomas\"\n",
    "print (name[-1:]) # last letter"
   ]
  },
  {
   "cell_type": "code",
   "execution_count": null,
   "metadata": {},
   "outputs": [],
   "source": [
    "test_string = \"123456789\"\n",
    "print (\"from second string till the end: \"+ test_string[2:])\n",
    "print (\"from the beggingin till third string: \"+ test_string[:3])\n",
    "print (\"from second to third: \"+ test_string[1:3])\n",
    "print (\"from beggign to end, every second character: \"+ test_string[::2])\n",
    "print (\"revert string (negative step): \"+ test_string[::-1])"
   ]
  },
  {
   "cell_type": "markdown",
   "metadata": {},
   "source": [
    "## <i>String</i> immutability\n",
    " - Strings have an important property known as immutability\n",
    " - Once a string is created, the elements within it can not be changed or replaced"
   ]
  },
  {
   "cell_type": "code",
   "execution_count": null,
   "metadata": {},
   "outputs": [],
   "source": [
    "name = \"Rose\"\n",
    "name[0] = \"T\""
   ]
  },
  {
   "cell_type": "markdown",
   "metadata": {},
   "source": [
    "## <i>String</i> methods\n",
    " - Objects in Object Oriented programming languages have built-in methods\n",
    " - These methods can perform actions or commands on the object itself\n",
    " - Methods can take parameter(s)\n",
    " - How we call methods: `object.method(parameters)`\n",
    " - The dot (`.`) after `name` in `name.upper()` tells Python to make the `upper()` method act on the variable `name`. \n",
    " - Every method is followed by a set of parentheses, \n",
    "     - Methods often need additional information to do their work. \n",
    "     - That information is provided inside the parentheses\n",
    "     - If method doersn't need any parameters, parentheses are empty.\n",
    " - More details later in the corse"
   ]
  },
  {
   "cell_type": "code",
   "execution_count": null,
   "metadata": {},
   "outputs": [],
   "source": [
    "len(\"hello world!\") # you can also use fucntion 'len' to check length of the string (inclusing space and punctuation)"
   ]
  },
  {
   "cell_type": "code",
   "execution_count": null,
   "metadata": {},
   "outputs": [],
   "source": [
    "name = \"RoSe\"\n",
    "address = \"Gdynia, Luzycka 8b\"\n",
    "print (\"Upper: \" + name.upper())\n",
    "print (\"Lower: \" + name.lower())"
   ]
  },
  {
   "cell_type": "code",
   "execution_count": null,
   "metadata": {},
   "outputs": [],
   "source": [
    "name = \"RoSe\"\n",
    "address = \"gdynia, luzycka 8b\"\n",
    "print (\"Title:: \" + name.title())\n",
    "print (\"Title: \" + address.title())"
   ]
  },
  {
   "cell_type": "code",
   "execution_count": null,
   "metadata": {},
   "outputs": [],
   "source": [
    "print (address.split()) # split by space (default)"
   ]
  },
  {
   "cell_type": "code",
   "execution_count": null,
   "metadata": {},
   "outputs": [],
   "source": [
    "print (address.split('a')) # split by space (default)"
   ]
  },
  {
   "cell_type": "markdown",
   "metadata": {},
   "source": [
    "**Excercise 1**: Use a variable to represent a person’s name, and print a message to\n",
    "that person. Your message should be simple, such as, “Hello Eric, would you like to learn some\n",
    "Python today?”"
   ]
  },
  {
   "cell_type": "code",
   "execution_count": null,
   "metadata": {},
   "outputs": [],
   "source": []
  },
  {
   "cell_type": "markdown",
   "metadata": {},
   "source": [
    "**Excercise 2**: Use a variable to represent a person’s name, and then print that person’s\n",
    "name in lowercase, uppercase, and title case."
   ]
  },
  {
   "cell_type": "code",
   "execution_count": null,
   "metadata": {},
   "outputs": [],
   "source": []
  },
  {
   "cell_type": "markdown",
   "metadata": {},
   "source": [
    "**Excercise 3**: Find a quote from a famous person you admire. Print the quote and the name of its author. Your output should look something like the following, including the quotation marks:\n",
    "\n",
    "\n",
    "    Neil deGrasse Tyson once said: \n",
    "        “The good thing about science is that it's true whether or not you believe in it.”"
   ]
  },
  {
   "cell_type": "code",
   "execution_count": null,
   "metadata": {},
   "outputs": [],
   "source": []
  },
  {
   "cell_type": "markdown",
   "metadata": {},
   "source": [
    "**Excercise 4**: Repeat Exercise 3, but this time, represent the famous person’s name using a variable called `famous_person`. Then compose your message and represent it with a new variable called `message`. Print your message."
   ]
  },
  {
   "cell_type": "code",
   "execution_count": null,
   "metadata": {},
   "outputs": [],
   "source": []
  },
  {
   "cell_type": "markdown",
   "metadata": {},
   "source": [
    "**Excercise 5**: Use a variable to represent a person’s name, and include some whitespace characters at the beginning and end of the name. Make sure you use each character combination, `\\t1` and `\\n`, at least once.\n",
    "Print the name once, so the whitespace around the name is displayed. Then print the name using each of the three stripping functions: `lstrip()`, `rstrip()`, and `strip()`.\n"
   ]
  },
  {
   "cell_type": "code",
   "execution_count": null,
   "metadata": {},
   "outputs": [],
   "source": []
  }
 ],
 "metadata": {
  "kernelspec": {
   "display_name": "Python 3",
   "language": "python",
   "name": "python3"
  },
  "language_info": {
   "codemirror_mode": {
    "name": "ipython",
    "version": 3
   },
   "file_extension": ".py",
   "mimetype": "text/x-python",
   "name": "python",
   "nbconvert_exporter": "python",
   "pygments_lexer": "ipython3",
   "version": "3.7.4"
  }
 },
 "nbformat": 4,
 "nbformat_minor": 2
}
