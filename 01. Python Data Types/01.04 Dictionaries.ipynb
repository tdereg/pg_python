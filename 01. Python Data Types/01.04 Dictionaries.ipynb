{
 "cells": [
  {
   "cell_type": "markdown",
   "metadata": {},
   "source": [
    "# Dictionaries\n",
    " - A dictionary in Python is a collection of *key-value* pairs\n",
    " - Each *key* is connected to a value, \n",
    " - You can use a *key* to access the value associated with that *key*.\n",
    " - A *key’s* value can be a number, a string, a list, or even another dictionary. In fact, you can use any object that you can create in Python as a value in a dictionary.\n",
    " - If you're familiar with other languages you can think of *Dictionaries* as *Hash Tables* or *Hash Maps* in other OOP languages.\n",
    " - *Dictionaries* won't retain order since they have objects defined by a key.\n",
    " - In Python, a dictionary is wrapped in braces, {}, with a series of key-value pairs inside the braces\n",
    " \n",
    "     my_dict = {'key1':'value1','key2':'value2'}"
   ]
  },
  {
   "cell_type": "code",
   "execution_count": null,
   "metadata": {},
   "outputs": [],
   "source": [
    "my_dict = {'key1':'value1','key2':'value2'} # create dictionary\n",
    "my_dict"
   ]
  },
  {
   "cell_type": "markdown",
   "metadata": {},
   "source": [
    "- A *key-value* pair is a set of values associated with each other. \n",
    "- When you provide a *key*, Python returns the value associated with that key. \n",
    "- Every key is connected to its value by a colon (`:`), and individual key-value pairs areseparated by commas (`,`). \n",
    "\n",
    "To get the value associated with a *key*, give the name of the dictionary and then place the *key* inside a set of square brackets:"
   ]
  },
  {
   "cell_type": "code",
   "execution_count": null,
   "metadata": {},
   "outputs": [],
   "source": [
    "print (my_dict['key2']) # call values by their key\n"
   ]
  },
  {
   "cell_type": "code",
   "execution_count": null,
   "metadata": {},
   "outputs": [],
   "source": [
    "# Dictionaries are very flexible in the data types they can hold\n",
    "my_dict = {'key1':123,'key2':[12,23,33],'key3':['item0','item1','item2']}\n",
    "my_dict"
   ]
  },
  {
   "cell_type": "code",
   "execution_count": null,
   "metadata": {},
   "outputs": [],
   "source": [
    "my_dict['key1'] # this is how you call item from Dictionary "
   ]
  },
  {
   "cell_type": "code",
   "execution_count": null,
   "metadata": {},
   "outputs": [],
   "source": [
    "my_dict['key2'][2] # you can call index on the Dictionary item value..."
   ]
  },
  {
   "cell_type": "code",
   "execution_count": null,
   "metadata": {},
   "outputs": [],
   "source": [
    "my_dict['key3'][0].upper() #... or even call a method on dictionary element"
   ]
  },
  {
   "cell_type": "markdown",
   "metadata": {},
   "source": [
    "Dictionary are so flexibl that you can even create nested dictionary inside a dictionary nested inside another dictionary"
   ]
  },
  {
   "cell_type": "code",
   "execution_count": null,
   "metadata": {},
   "outputs": [],
   "source": [
    "d = {'key1':{'nested key':{'subnested key':'value'}}}\n",
    "d['key1']['nested key']['subnested key']"
   ]
  },
  {
   "cell_type": "markdown",
   "metadata": {},
   "source": [
    "**Adding a new element to *Distionary***\n",
    "\n",
    "- Dictionaries are dynamic structures, you can add new *key-value* pairs to a dictionary at any time. \n",
    "- To add a new *key-value* pair, you would give the name of the *dictionary* followed by the new key in square brackets along with the new value:"
   ]
  },
  {
   "cell_type": "code",
   "execution_count": null,
   "metadata": {},
   "outputs": [],
   "source": [
    "# adding new key-value by assignments:\n",
    "sample_dict = {}\n",
    "print (sample_dict)\n",
    "sample_dict['new element'] = 'new value'\n",
    "print (sample_dict)"
   ]
  },
  {
   "cell_type": "markdown",
   "metadata": {},
   "source": [
    "**Modifying values in a *Dictionary***\n",
    "\n",
    "- To modify a value in a dictionary, give the name of the dictionary with the key in square brackets and then the new value you want associated with that key."
   ]
  },
  {
   "cell_type": "code",
   "execution_count": null,
   "metadata": {},
   "outputs": [],
   "source": [
    "# you can affect values of Dictionary elements\n",
    "my_dict = {'key1':123,'key2':[12,23,33],'key3':['item0','item1','item2']}\n",
    "print (my_dict['key1'])\n",
    "my_dict['key1'] -= 123\n",
    "print (my_dict['key1'])"
   ]
  },
  {
   "cell_type": "markdown",
   "metadata": {},
   "source": [
    "**Removing *Key-Value* Pairs**\n",
    "\n",
    "- When you no longer need a piece of information that’s stored in adictionary, you can use the `del` statement to completely remove a *key-value* pair. \n",
    "- All `del` statement needs is the name of the dictionary and the key that you want to remove"
   ]
  },
  {
   "cell_type": "code",
   "execution_count": null,
   "metadata": {},
   "outputs": [],
   "source": [
    "my_dict = {'key1':123,'key2':[12,23,33],'key3':['item0','item1','item2']}\n",
    "print (my_dict)\n",
    "\n",
    "del my_dict['key2']\n",
    "\n",
    "print (my_dict)"
   ]
  },
  {
   "cell_type": "markdown",
   "metadata": {},
   "source": [
    "**A *Dictionary* of Similar Objects**\n",
    "\n",
    "*Dictionaries* are mainly used to store:\n",
    " - different kinds of information about one object (i.e. an alien in a game)\n",
    " - one kind of information about many objects (i.e. to store the result of poll, where answers come from many people)\n",
    "    "
   ]
  },
  {
   "cell_type": "code",
   "execution_count": null,
   "metadata": {},
   "outputs": [],
   "source": [
    "favorite_languages = { \n",
    "    'jen': 'python', \n",
    "    'sarah': 'c', \n",
    "    'edward': 'ruby', \n",
    "    'phil': 'python', }\n",
    "\n",
    "language = favorite_languages['sarah'].title()\n",
    "print(f\"Sarah's favorite language is {language}.\")"
   ]
  },
  {
   "cell_type": "markdown",
   "metadata": {},
   "source": [
    "**Using get() to Access Values**\n",
    "\n",
    "Using keys in square brackets to retrieve the value you’re interested in from a dictionary might cause one potential problem: if the key you ask for doesn’t exist, you’ll get an error:"
   ]
  },
  {
   "cell_type": "code",
   "execution_count": null,
   "metadata": {},
   "outputs": [],
   "source": [
    "alien_0 = {'color': 'green', 'speed': 'slow'}\n",
    "print(alien_0['points'])"
   ]
  },
  {
   "cell_type": "markdown",
   "metadata": {},
   "source": [
    "- For dictionaries, specifically, you can use the `get()` method to set a default value that will be returned if the requested key doesn’t exist. \n",
    "- The `get()` method requires a *key* as a first argument. \n",
    "- As a second (optional) argument, you can pass the value to be returned if the key doesn’t exist"
   ]
  },
  {
   "cell_type": "code",
   "execution_count": null,
   "metadata": {},
   "outputs": [],
   "source": [
    "alien_0 = {'color': 'green', 'speed': 'slow'}\n",
    "point_value = alien_0.get('points', 'No point value assigned.')\n",
    "print(point_value)\n",
    "\n",
    "color_value = alien_0.get('color', 'No color value assigned.')\n",
    "print(color_value)"
   ]
  },
  {
   "cell_type": "markdown",
   "metadata": {},
   "source": [
    "## <i>Dictionary </i> methods"
   ]
  },
  {
   "cell_type": "code",
   "execution_count": null,
   "metadata": {},
   "outputs": [],
   "source": [
    "d = {'key1':1,'key2':2,'key3':3}"
   ]
  },
  {
   "cell_type": "code",
   "execution_count": null,
   "metadata": {},
   "outputs": [],
   "source": [
    "d.values() # return a list of values"
   ]
  },
  {
   "cell_type": "code",
   "execution_count": null,
   "metadata": {},
   "outputs": [],
   "source": [
    "d.keys() # return a list of keys"
   ]
  },
  {
   "cell_type": "code",
   "execution_count": null,
   "metadata": {},
   "outputs": [],
   "source": [
    "d.items() # return tuples of all items"
   ]
  },
  {
   "cell_type": "code",
   "execution_count": null,
   "metadata": {},
   "outputs": [],
   "source": [
    "list_keys = d.keys() # return a list of keys\n",
    "\n",
    "print (f\"List of keys: {list_keys}\")\n",
    "\n",
    "# iterate through the list of keys, and display each value\n",
    "for list_key in list_keys :\n",
    "    print (f\"Key: {list_key}, value: {d.get(list_key)}\")\n",
    "    \n"
   ]
  },
  {
   "cell_type": "markdown",
   "metadata": {},
   "source": [
    "**Excercise 1:**\n",
    "\n",
    "- Use a dictionary to store information about a person you know. \n",
    "- Store their *first name*, *last name*, *age*, and the *city* in which they live. \n",
    "- You should have keys such as `first_name`, `last_name`, `age`, and `city`. \n",
    "- Print each piece of information stored in your dictionary."
   ]
  },
  {
   "cell_type": "code",
   "execution_count": null,
   "metadata": {},
   "outputs": [],
   "source": []
  },
  {
   "cell_type": "markdown",
   "metadata": {},
   "source": [
    "**Excercise 2**\n",
    "- Use a dictionary to store people’s favorite numbers. \n",
    "- Think of five names, and use them as keys in your dictionary. \n",
    "- Think of a favorite number for each person, and store each as a value in your dictionary. \n",
    "- Print each person’s name and their favorite number. "
   ]
  },
  {
   "cell_type": "code",
   "execution_count": null,
   "metadata": {},
   "outputs": [],
   "source": []
  },
  {
   "cell_type": "markdown",
   "metadata": {},
   "source": [
    "**Excercise 3**\n",
    "\n",
    "A Python dictionary can be used to model an actual dictionary. However, to avoid confusion, let’s call it a *glossary*.\n",
    " - Think of five programming words you’ve learned about during this course. \n",
    " - Use these words as the *keys* in your glossary, and store their meanings as *values*.\n",
    " - Print each word and its meaning as neatly formatted output (print the word followed by a colon and then its meaning)\n",
    " - Use the new line character (`\\n`) to insert a blank line between each word-meaning pair in your output."
   ]
  },
  {
   "cell_type": "code",
   "execution_count": null,
   "metadata": {},
   "outputs": [],
   "source": []
  },
  {
   "cell_type": "markdown",
   "metadata": {},
   "source": [
    "## Nesting\n",
    "- Sometimes you’ll want to store multiple dictionaries in a list. This is called nesting). \n",
    "- You can nest dictionaries inside a list, a list of items inside a dictionary, or even a dictionary inside another dictionary. "
   ]
  },
  {
   "cell_type": "markdown",
   "metadata": {},
   "source": [
    "**A List of Dictionaries**\n",
    "\n",
    "- The `alien_0` dictionary contains a variety of information about one alien, but it has no room to store information about a second alien, much less a screen full of aliens. \n",
    "- To manage a fleet of aliens you can make a list of aliens in which each alien is a dictionary of information about soecific alien."
   ]
  },
  {
   "cell_type": "code",
   "execution_count": null,
   "metadata": {},
   "outputs": [],
   "source": [
    "alien_0 = {'color': 'green', 'points': 5}\n",
    "alien_1 = {'color': 'yellow', 'points': 10}\n",
    "alien_2 = {'color': 'red', 'points': 15}\n",
    "\n",
    "aliens = [alien_0, alien_1, alien_2]\n",
    "\n",
    "for alien in aliens:\n",
    "    print(alien)"
   ]
  },
  {
   "cell_type": "markdown",
   "metadata": {},
   "source": [
    "**A List in a Dictionary**\n",
    "\n",
    "- Rather than putting a dictionary inside a list, it’s sometimes useful to put a list inside a dictionary. \n",
    "- For example, consider how you might describe a pizza that someone is ordering. \n",
    "- If you were to use only a list, all you could really store is a list of the pizza’s toppings. \n",
    "- With a dictionary, a list of toppings can be just one aspect of the pizza you’re describing.\n",
    "\n",
    "In the following example, two kinds of information are stored for each pizza a type of crust and a list of toppings: \n",
    " - The list of toppings is a value associated with the key 'toppings'. \n",
    " - To use the items in the list, we give the name of the dictionary and the key 'toppings', as we would any value in the dictionary. \n",
    " - Instead of returning a single value, we get a list of toppings"
   ]
  },
  {
   "cell_type": "code",
   "execution_count": null,
   "metadata": {},
   "outputs": [],
   "source": [
    "# Store information about a pizza being ordered.\n",
    "pizza = {\n",
    "    'crust': 'thick',\n",
    "    'toppings': ['mushrooms', 'extra cheese'],\n",
    "}\n",
    "\n",
    "# Summarize the order.\n",
    "print(f\"You ordered a {pizza['crust']}-crust pizza with the following toppings:\")\n",
    "\n",
    "for topping in pizza['toppings']:\n",
    "    print(\"\\t\" + topping)"
   ]
  },
  {
   "cell_type": "markdown",
   "metadata": {},
   "source": [
    "**A Dictionary in a Dictionary**\n",
    "\n",
    "- You can nest a dictionary inside another dictionary, but your code can get complicated quickly when you do. \n",
    "- For example, if you have several users for a website, each with a unique username, you can use the usernames as the keys in a dictionary. \n",
    "- You can then store information about each user by using a dictionary as the value associated with their username. \n",
    "- In the following listing, we store three pieces of information about each user: \n",
    "    - their first name, \n",
    "    - last name, \n",
    "    - location. \n",
    "- We’ll access this information by looping through the usernames and the dictionary of information associated with each username:"
   ]
  },
  {
   "cell_type": "code",
   "execution_count": null,
   "metadata": {},
   "outputs": [],
   "source": [
    "users = {\n",
    "    'aeinstein': {\n",
    "        'first': 'albert',\n",
    "        'last': 'einstein',\n",
    "        'location': 'princeton',\n",
    "    },\n",
    "    'msklodowska-curie': {\n",
    "        'first': 'marie',\n",
    "        'last': 'sklodowska-curie',\n",
    "        'location': 'paris',\n",
    "    },\n",
    "}\n",
    "\n",
    "for user_key in users.keys():\n",
    "    user_info = users.get(user_key)\n",
    "    full_name = f\"{user_info['first']} {user_info['last']}\"\n",
    "    location = user_info['location']\n",
    "    print(f\"User key: {user_key}\")\n",
    "    print(f\"\\tFull name: {full_name.title()}\")\n",
    "    print(f\"\\tLocation: {location.title()}\")\n",
    "    \n"
   ]
  },
  {
   "cell_type": "markdown",
   "metadata": {},
   "source": [
    "**Excercise 4**: \n",
    "- Start with the program you wrote for *Exercise 1*. \n",
    "- Make two new dictionaries representing different people, and store all three dictionaries in a list called people.\n",
    "- Loop through your list of people. As you loop through the list, print everything you know about each person."
   ]
  },
  {
   "cell_type": "code",
   "execution_count": null,
   "metadata": {},
   "outputs": [],
   "source": []
  },
  {
   "cell_type": "markdown",
   "metadata": {},
   "source": [
    "**Excercise 5**: \n",
    "- Make several dictionaries, where each dictionary represents a different pet.\n",
    "- In each dictionary, include the kind of animal and the owner’s name. \n",
    "- Store these dictionaries in a list called pets. \n",
    "- Next, loop through your list and as you do, print everything you know about each pet."
   ]
  },
  {
   "cell_type": "code",
   "execution_count": null,
   "metadata": {},
   "outputs": [],
   "source": []
  },
  {
   "cell_type": "markdown",
   "metadata": {},
   "source": [
    "**Excercise 6**: \n",
    "- Start with the program you wrote for Exercise 4.  \n",
    "- Make a dictionary called `favorite_places`. \n",
    "- For each person define up to three favourite places and store them in dictionary where:\n",
    "    - Key is `'place_1'`, `'place_2'` and `'place_3'`\n",
    "    - Value is person's favorite place.\n",
    "- Loop through the dictionary, and print each person’s name and their favorite places."
   ]
  },
  {
   "cell_type": "code",
   "execution_count": null,
   "metadata": {},
   "outputs": [],
   "source": []
  },
  {
   "cell_type": "markdown",
   "metadata": {},
   "source": [
    "**Excercise 7**: \n",
    "- Start with the program you wrote for Exercise 2\n",
    "- Modify it so each person can have more than one favorite number. \n",
    "- Print each person’s name along with their favorite numbers."
   ]
  },
  {
   "cell_type": "code",
   "execution_count": null,
   "metadata": {},
   "outputs": [],
   "source": []
  },
  {
   "cell_type": "markdown",
   "metadata": {},
   "source": [
    "**Excercise 8**: \n",
    "\n",
    "- Make a dictionary called `cities`. \n",
    "- Use the names of three cities as keys in your dictionary. \n",
    "- Create a dictionary of information about each city and include:\n",
    "    - the country that the city is in, \n",
    "    - its approximate population, \n",
    "    - one fact about that city. \n",
    "- The keys for each city’s dictionary should be something like `country`, `population`, and `fact`. \n",
    "- Print the name of each city and all of the information you have stored about it."
   ]
  },
  {
   "cell_type": "code",
   "execution_count": null,
   "metadata": {},
   "outputs": [],
   "source": []
  },
  {
   "cell_type": "markdown",
   "metadata": {},
   "source": [
    "**Excercise 9**: \n",
    "- Use one of the example programs from this lesson, and extend it by (do only one of extensions listed below):\n",
    "    - adding new keys and values, \n",
    "    - changing the context of the program or \n",
    "    - improving the formatting of the output."
   ]
  },
  {
   "cell_type": "code",
   "execution_count": null,
   "metadata": {},
   "outputs": [],
   "source": []
  }
 ],
 "metadata": {
  "kernelspec": {
   "display_name": "Python 3",
   "language": "python",
   "name": "python3"
  },
  "language_info": {
   "codemirror_mode": {
    "name": "ipython",
    "version": 3
   },
   "file_extension": ".py",
   "mimetype": "text/x-python",
   "name": "python",
   "nbconvert_exporter": "python",
   "pygments_lexer": "ipython3",
   "version": "3.7.4"
  }
 },
 "nbformat": 4,
 "nbformat_minor": 2
}
