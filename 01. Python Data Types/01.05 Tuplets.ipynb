{
 "cells": [
  {
   "cell_type": "markdown",
   "metadata": {},
   "source": [
    "# Tuplets\n",
    " - Very similar to lists, however, unlike lists they are *immutable* (they can not be changed),\n",
    " - Because of this immutability, tuples can't grow: once a tuple is made we can not add to it.\n",
    " - Tuples have built-in methods, but not as many as lists do\n",
    " - When to use tuplets?\n",
    "     - to present things that shouldn't be changed e.g. days of the week, names of months... \n",
    "     - if in your program you are passing around an object and need to make sure it does not get changed\n",
    "\n",
    "The construction of a tuples use `()` with elements separated by commas:"
   ]
  },
  {
   "cell_type": "code",
   "execution_count": null,
   "metadata": {},
   "outputs": [],
   "source": [
    "t = (1,2,3) # create a tuple "
   ]
  },
  {
   "cell_type": "code",
   "execution_count": null,
   "metadata": {},
   "outputs": [],
   "source": [
    "len(t) # check len just like a list"
   ]
  },
  {
   "cell_type": "code",
   "execution_count": null,
   "metadata": {},
   "outputs": [],
   "source": [
    "t[1] # use indexes just like with lists"
   ]
  },
  {
   "cell_type": "code",
   "execution_count": null,
   "metadata": {},
   "outputs": [],
   "source": [
    "t[:-1] # and slicing..."
   ]
  },
  {
   "cell_type": "code",
   "execution_count": null,
   "metadata": {},
   "outputs": [],
   "source": [
    "t = ('one',2) # within tuplets you can mix object types. \n",
    "t\n",
    "# btw. shouln't be tuplets immutable?"
   ]
  },
  {
   "cell_type": "markdown",
   "metadata": {},
   "source": [
    "**Basic Tuple Methods**"
   ]
  },
  {
   "cell_type": "code",
   "execution_count": null,
   "metadata": {},
   "outputs": [],
   "source": [
    "t = ('two', 'seven', 'one', 'two', 'eight', 'two')\n",
    "t.index('one') # return index of particualr element"
   ]
  },
  {
   "cell_type": "code",
   "execution_count": null,
   "metadata": {},
   "outputs": [],
   "source": [
    "t.count('two') # count the number of times a value appears in tuple"
   ]
  },
  {
   "cell_type": "markdown",
   "metadata": {},
   "source": [
    "**Immutability**\n",
    "You cannot change Tuplet element:"
   ]
  },
  {
   "cell_type": "code",
   "execution_count": null,
   "metadata": {},
   "outputs": [],
   "source": [
    "t = ('two', 'seven', 'one', 'two', 'eight')\n",
    "print (t[1])\n",
    "# you cannnot change tuplet element, \n",
    "t[1] = 'ten'"
   ]
  },
  {
   "cell_type": "markdown",
   "metadata": {},
   "source": [
    "...but you can assign a new value to a variablethat represents a tuple:"
   ]
  },
  {
   "cell_type": "code",
   "execution_count": null,
   "metadata": {},
   "outputs": [],
   "source": [
    "t = ('two', 'seven', 'one', 'two', 'eight')\n",
    "print (t)\n",
    "\n",
    "t = ('three', 'ten', 'six')\n",
    "print (t)"
   ]
  },
  {
   "cell_type": "markdown",
   "metadata": {},
   "source": [
    "**Excercise 01** \n",
    "\n",
    "A buffet-style restaurant offers only five basic foods. Think of five simple foods, and store them in a tuple. \n",
    "- Print each food the restaurant offers.\n",
    "- Try to modify one of the items, and make sure that Python rejects the change.\n",
    "- The restaurant changes its menu, replacing two of the items with different foods. \n",
    "    - Add a line that rewrites the tuple, \n",
    "    - Print each of the items on the revised menu."
   ]
  },
  {
   "cell_type": "code",
   "execution_count": null,
   "metadata": {},
   "outputs": [],
   "source": []
  }
 ],
 "metadata": {
  "kernelspec": {
   "display_name": "Python 3",
   "language": "python",
   "name": "python3"
  },
  "language_info": {
   "codemirror_mode": {
    "name": "ipython",
    "version": 3
   },
   "file_extension": ".py",
   "mimetype": "text/x-python",
   "name": "python",
   "nbconvert_exporter": "python",
   "pygments_lexer": "ipython3",
   "version": "3.7.4"
  }
 },
 "nbformat": 4,
 "nbformat_minor": 2
}
