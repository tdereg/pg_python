{
 "cells": [
  {
   "cell_type": "markdown",
   "metadata": {},
   "source": [
    "# Strings\n",
    " - sequence of characters used to store text inforamtion \n",
    " - single quotes or double quotes ('hello' or \"hello\"); it gives you flexibility and allows you to use quotes and apostrophes within yourstring\n",
    " - sequence means you can use indexes to get acceess to any character in the string\n",
    " - each character has specific postion in String. \n",
    " - you can use indexes to grab specific letter from within the string e.g. first, last or 3rd letter"
   ]
  },
  {
   "cell_type": "code",
   "execution_count": 2,
   "metadata": {},
   "outputs": [
    {
     "data": {
      "text/plain": [
       "'He said: \"bla bla bla\"'"
      ]
     },
     "execution_count": 2,
     "metadata": {},
     "output_type": "execute_result"
    }
   ],
   "source": [
    "\"This is string...\""
   ]
  },
  {
   "cell_type": "code",
   "execution_count": 2,
   "metadata": {},
   "outputs": [
    {
     "data": {
      "text/plain": [
       "'...and this is also a string'"
      ]
     },
     "execution_count": 2,
     "metadata": {},
     "output_type": "execute_result"
    }
   ],
   "source": [
    "'...and this is also a string' # in Python you can use single quotes and/or double quotes to create a string"
   ]
  },
  {
   "cell_type": "code",
   "execution_count": 3,
   "metadata": {},
   "outputs": [
    {
     "data": {
      "text/plain": [
       "'good if you have to use single or double \"quotes\" inside string'"
      ]
     },
     "execution_count": 3,
     "metadata": {},
     "output_type": "execute_result"
    }
   ],
   "source": [
    "'good if you have to use single or double \"quotes\" inside string'"
   ]
  },
  {
   "cell_type": "code",
   "execution_count": 4,
   "metadata": {},
   "outputs": [
    {
     "data": {
      "text/plain": [
       "\"I'll show one more example\""
      ]
     },
     "execution_count": 4,
     "metadata": {},
     "output_type": "execute_result"
    }
   ],
   "source": [
    "'I'll show one more example' # this is good example when using single and double quotes makes real sense"
   ]
  },
  {
   "cell_type": "markdown",
   "metadata": {},
   "source": [
    "## <i>Print</i> statement"
   ]
  },
  {
   "cell_type": "code",
   "execution_count": 6,
   "metadata": {},
   "outputs": [
    {
     "name": "stdout",
     "output_type": "stream",
     "text": [
      "Name: Rose\n",
      "First character of my name is: R\n"
     ]
    }
   ],
   "source": [
    "name = \"Rose\"\n",
    "print (\"Name: \" + name) # use 'print' statement to print string on the screen; this is how you print from within Python script\n",
    "print (\"First character of my name is: \" + name[0])"
   ]
  },
  {
   "cell_type": "code",
   "execution_count": 9,
   "metadata": {},
   "outputs": [
    {
     "name": "stdout",
     "output_type": "stream",
     "text": [
      "hello\tworld \n",
      "new line\n"
     ]
    }
   ],
   "source": [
    "# \\t \\n\n",
    "print (\"hello\\tworld \\nnew line\") # you can use special characters like new line (\\n) or tab (\\t)"
   ]
  },
  {
   "cell_type": "markdown",
   "metadata": {},
   "source": [
    "## Using Variables in *Strings*\n",
    "In some situations, you’ll want to use a variable’s value inside a string. For example, you might want two variables to represent a first name and a last name respectively, and then want to combine those values to display\n",
    "someone’s full name:"
   ]
  },
  {
   "cell_type": "code",
   "execution_count": 11,
   "metadata": {},
   "outputs": [
    {
     "name": "stdout",
     "output_type": "stream",
     "text": [
      "adalovelace\n"
     ]
    }
   ],
   "source": [
    "first_name = \"ada\"\n",
    "last_name = \"lovelace\"\n",
    "\n",
    "full_name = first_name+\" \"+last_name\n",
    "# full_name = f\"{first_name} {last_name}\" # f-string AKA foramted strings\n",
    "print(full_name)"
   ]
  },
  {
   "cell_type": "markdown",
   "metadata": {},
   "source": [
    "*F-strings* were first introduced in Python 3.6. If you’re using Python 3.5 or earlier, you’ll need to use the `format()` method rather than `f` syntax. \n",
    "\n",
    "To use `format()`, list the variables you want to use in the string inside the parentheses\n",
    "following format. Each variable is referred to by a set of braces; the braces will be\n",
    "filled by the values listed in parentheses in the order provided:\n",
    "\n",
    "    full_name = \"{} {}\".format(first_name, last_name)\n"
   ]
  },
  {
   "cell_type": "markdown",
   "metadata": {},
   "source": [
    "## Adding whitespaces to *String* \n",
    "Whitespace refers to any nonprinting character, such as spaces, tabs (`t`), and end-of-line symbols (`\\n`):\n"
   ]
  },
  {
   "cell_type": "code",
   "execution_count": 6,
   "metadata": {},
   "outputs": [
    {
     "name": "stdout",
     "output_type": "stream",
     "text": [
      "\tPython\n"
     ]
    }
   ],
   "source": [
    "print(\"\\tPython\")"
   ]
  },
  {
   "cell_type": "code",
   "execution_count": 7,
   "metadata": {},
   "outputs": [
    {
     "name": "stdout",
     "output_type": "stream",
     "text": [
      "Languages:\n",
      "Python\n",
      "Java\n",
      "Scala\n"
     ]
    }
   ],
   "source": [
    "print(\"Languages:\\nPython\\nJava\\nScala\")"
   ]
  },
  {
   "cell_type": "code",
   "execution_count": 8,
   "metadata": {},
   "outputs": [
    {
     "name": "stdout",
     "output_type": "stream",
     "text": [
      "Languages:\n",
      "\tPython\n",
      "\tJava\n",
      "\tScala\n"
     ]
    }
   ],
   "source": [
    "print(\"Languages:\\n\\tPython\\n\\tJava\\n\\tScala\")"
   ]
  },
  {
   "cell_type": "markdown",
   "metadata": {},
   "source": [
    "## Stripping whitespaces from *String* \n",
    "\n",
    "Extra whitespace can be confusing in your programs. To programmers `'python'` and `'python '` look pretty much the same. But to a program, they are two different strings. Python detects the extra space in `'python '` and considers it significant unless you tell it otherwise.\n",
    "\n",
    "It’s important to think about whitespace, because often you’ll want to compare two strings to determine whether they are the same.\n",
    "\n",
    "Python can look for extra whitespace on the right and left sides of a string."
   ]
  },
  {
   "cell_type": "code",
   "execution_count": 11,
   "metadata": {},
   "outputs": [
    {
     "name": "stdout",
     "output_type": "stream",
     "text": [
      " python .\n",
      "python .\n",
      " python.\n",
      "python.\n"
     ]
    }
   ],
   "source": [
    "favorite_language = ' python '\n",
    "print (favorite_language + \".\")\n",
    "print (favorite_language.lstrip() + \".\")\n",
    "print (favorite_language.rstrip() + \".\")\n",
    "print (favorite_language.strip() + \".\")"
   ]
  },
  {
   "cell_type": "markdown",
   "metadata": {},
   "source": [
    "## <i>String</i> indexing\n",
    " - Indexing (geting specific character fo )\n",
    "    - <code>String:    \"Tom\"</code>\n",
    "    - <code>Character: \"T\", \"o\", \"m\"</code>\n",
    "    - <code>Index:      0    1    2</code>\n",
    "    - <code>Reverse:    0   -2   -1</code>\n",
    " - Strings is a sequence of characters\n",
    " - You can use indexes to get access to parts of the sequence\n",
    " - Use brackets <code>[]</code> after an object to call its index. \n",
    " - Indexing starts at 0\n",
    " - Use a `:` to perform slicing - grab a part of a <i>String</i>"
   ]
  },
  {
   "cell_type": "code",
   "execution_count": 7,
   "metadata": {},
   "outputs": [
    {
     "name": "stdout",
     "output_type": "stream",
     "text": [
      "Name: Tom\n",
      "First character: T\n",
      "Second character: o\n",
      "Third character: m\n",
      "Last character: m\n",
      "Last but one: o\n",
      "Before last but one: T\n"
     ]
    }
   ],
   "source": [
    "name = \"Tom\"\n",
    "print (\"Name: \" + name) # use 'print' statement to print string on the screen; this is how you print from within Python script\n",
    "print (\"First character: \" + name[0])\n",
    "print (\"Second character: \" + name[1])\n",
    "print (\"Third character: \" + name[2])\n",
    "print (\"Last character: \" + name[-1])\n",
    "print (\"Last but one: \" + name[-2])\n",
    "print (\"Before last but one: \" + name[-3])"
   ]
  },
  {
   "cell_type": "markdown",
   "metadata": {},
   "source": [
    "## <i>String</i> slicing\n",
    " - [start:stop:step]\n",
    " - start: index of the begging of slice\n",
    " - end: index you will go up to\n",
    " - step: the size of jump to you take"
   ]
  },
  {
   "cell_type": "code",
   "execution_count": 8,
   "metadata": {},
   "outputs": [
    {
     "name": "stdout",
     "output_type": "stream",
     "text": [
      "om\n"
     ]
    }
   ],
   "source": [
    "name = \"Tom\"\n",
    "print (name[1:])"
   ]
  },
  {
   "cell_type": "code",
   "execution_count": 9,
   "metadata": {},
   "outputs": [
    {
     "name": "stdout",
     "output_type": "stream",
     "text": [
      "m\n"
     ]
    }
   ],
   "source": [
    "name = \"Tom\"\n",
    "print (name[2:])"
   ]
  },
  {
   "cell_type": "code",
   "execution_count": 10,
   "metadata": {},
   "outputs": [
    {
     "name": "stdout",
     "output_type": "stream",
     "text": [
      "To\n"
     ]
    }
   ],
   "source": [
    "name = \"Tom\"\n",
    "print (name[:2])"
   ]
  },
  {
   "cell_type": "code",
   "execution_count": 11,
   "metadata": {},
   "outputs": [
    {
     "name": "stdout",
     "output_type": "stream",
     "text": [
      "oma\n"
     ]
    }
   ],
   "source": [
    "name = \"Thomas\"\n",
    "print (name[2:5])"
   ]
  },
  {
   "cell_type": "code",
   "execution_count": 12,
   "metadata": {},
   "outputs": [
    {
     "name": "stdout",
     "output_type": "stream",
     "text": [
      "Thomas\n"
     ]
    }
   ],
   "source": [
    "name = \"Thomas\"\n",
    "print (name[:]) # the whole string"
   ]
  },
  {
   "cell_type": "code",
   "execution_count": 13,
   "metadata": {},
   "outputs": [
    {
     "name": "stdout",
     "output_type": "stream",
     "text": [
      "Toa\n"
     ]
    }
   ],
   "source": [
    "name = \"Thomas\"\n",
    "print (name[::2]) # grab everything but go in steps (every second letter)"
   ]
  },
  {
   "cell_type": "code",
   "execution_count": 14,
   "metadata": {},
   "outputs": [
    {
     "name": "stdout",
     "output_type": "stream",
     "text": [
      "samohT\n"
     ]
    }
   ],
   "source": [
    "name = \"Thomas\"\n",
    "print (name[::-1]) # nice trick if you want to revert a String"
   ]
  },
  {
   "cell_type": "code",
   "execution_count": 15,
   "metadata": {},
   "outputs": [
    {
     "name": "stdout",
     "output_type": "stream",
     "text": [
      "s\n"
     ]
    }
   ],
   "source": [
    "name = \"Thomas\"\n",
    "print (name[-1:]) # last letter"
   ]
  },
  {
   "cell_type": "code",
   "execution_count": 16,
   "metadata": {},
   "outputs": [
    {
     "name": "stdout",
     "output_type": "stream",
     "text": [
      "s\n"
     ]
    }
   ],
   "source": [
    "name = \"Thomas\"\n",
    "print (name[-1:]) # last letter"
   ]
  },
  {
   "cell_type": "code",
   "execution_count": 17,
   "metadata": {},
   "outputs": [
    {
     "name": "stdout",
     "output_type": "stream",
     "text": [
      "from second string till the end: 3456789\n",
      "from the beggingin till third string: 123\n",
      "from second to third: 23\n",
      "from beggign to end, every second character: 13579\n",
      "revert string (negative step): 987654321\n"
     ]
    }
   ],
   "source": [
    "test_string = \"123456789\"\n",
    "print (\"from second string till the end: \"+ test_string[2:])\n",
    "print (\"from the beggingin till third string: \"+ test_string[:3])\n",
    "print (\"from second to third: \"+ test_string[1:3])\n",
    "print (\"from beggign to end, every second character: \"+ test_string[::2])\n",
    "print (\"revert string (negative step): \"+ test_string[::-1])"
   ]
  },
  {
   "cell_type": "markdown",
   "metadata": {},
   "source": [
    "Instead of using `print` method you can use the `.format()` method to add formatting"
   ]
  },
  {
   "cell_type": "code",
   "execution_count": 18,
   "metadata": {},
   "outputs": [
    {
     "data": {
      "text/plain": [
       "'Insert another string with curly brackets: The inserted string'"
      ]
     },
     "execution_count": 18,
     "metadata": {},
     "output_type": "execute_result"
    }
   ],
   "source": [
    "'Insert another string with curly brackets: {}'.format('The inserted string')"
   ]
  },
  {
   "cell_type": "code",
   "execution_count": 19,
   "metadata": {},
   "outputs": [
    {
     "name": "stdout",
     "output_type": "stream",
     "text": [
      "First name: Tom\n",
      "Last name: Deregowski\n"
     ]
    }
   ],
   "source": [
    "first_name = \"Tom\"\n",
    "last_name = \"Deregowski\"\n",
    "name = \"First name: {}\\nLast name: {}\".format(first_name, last_name)\n",
    "print(name)"
   ]
  },
  {
   "cell_type": "markdown",
   "metadata": {},
   "source": [
    "## <i>String</i> immutability\n",
    " - Strings have an important property known as immutability\n",
    " - Once a string is created, the elements within it can not be changed or replaced"
   ]
  },
  {
   "cell_type": "code",
   "execution_count": 20,
   "metadata": {},
   "outputs": [
    {
     "ename": "TypeError",
     "evalue": "'str' object does not support item assignment",
     "output_type": "error",
     "traceback": [
      "\u001b[1;31m---------------------------------------------------------------------------\u001b[0m",
      "\u001b[1;31mTypeError\u001b[0m                                 Traceback (most recent call last)",
      "\u001b[1;32m<ipython-input-20-665800be13ad>\u001b[0m in \u001b[0;36m<module>\u001b[1;34m\u001b[0m\n\u001b[0;32m      1\u001b[0m \u001b[0mname\u001b[0m \u001b[1;33m=\u001b[0m \u001b[1;34m\"Rose\"\u001b[0m\u001b[1;33m\u001b[0m\u001b[1;33m\u001b[0m\u001b[0m\n\u001b[1;32m----> 2\u001b[1;33m \u001b[0mname\u001b[0m\u001b[1;33m[\u001b[0m\u001b[1;36m0\u001b[0m\u001b[1;33m]\u001b[0m \u001b[1;33m=\u001b[0m \u001b[1;34m\"T\"\u001b[0m\u001b[1;33m\u001b[0m\u001b[1;33m\u001b[0m\u001b[0m\n\u001b[0m",
      "\u001b[1;31mTypeError\u001b[0m: 'str' object does not support item assignment"
     ]
    }
   ],
   "source": [
    "name = \"Rose\"\n",
    "name[0] = \"T\""
   ]
  },
  {
   "cell_type": "markdown",
   "metadata": {},
   "source": [
    "## <i>String</i> methods\n",
    " - Objects in Object Oriented programming languages have built-in methods\n",
    " - These methods can perform actions or commands on the object itself\n",
    " - Methods can take parameter(s)\n",
    " - How we call methods: `object.method(parameters)`\n",
    " - The dot (`.`) after `name` in `name.upper()` tells Python to make the `upper()` method act on the variable `name`. \n",
    " - Every method is followed by a set of parentheses, \n",
    "     - Methods often need additional information to do their work. \n",
    "     - That information is provided inside the parentheses\n",
    "     - If method doersn't need any parameters, parentheses are empty.\n",
    " - More details later in the corse"
   ]
  },
  {
   "cell_type": "code",
   "execution_count": 21,
   "metadata": {},
   "outputs": [
    {
     "data": {
      "text/plain": [
       "12"
      ]
     },
     "execution_count": 21,
     "metadata": {},
     "output_type": "execute_result"
    }
   ],
   "source": [
    "len(\"hello world!\") # you can also use fucntion 'len' to check length of the string (inclusing space and punctuation)"
   ]
  },
  {
   "cell_type": "code",
   "execution_count": 22,
   "metadata": {},
   "outputs": [
    {
     "name": "stdout",
     "output_type": "stream",
     "text": [
      "Upper: ROSE\n",
      "Lower: rose\n"
     ]
    }
   ],
   "source": [
    "name = \"RoSe\"\n",
    "address = \"Gdynia, Luzycka 8b\"\n",
    "print (\"Upper: \" + name.upper())\n",
    "print (\"Lower: \" + name.lower())"
   ]
  },
  {
   "cell_type": "code",
   "execution_count": 2,
   "metadata": {},
   "outputs": [
    {
     "name": "stdout",
     "output_type": "stream",
     "text": [
      "Title:: Rose\n",
      "Title: Gdynia, Luzycka 8B\n"
     ]
    }
   ],
   "source": [
    "name = \"RoSe\"\n",
    "address = \"gdynia, luzycka 8b\"\n",
    "print (\"Title:: \" + name.title())\n",
    "print (\"Title: \" + address.title())"
   ]
  },
  {
   "cell_type": "code",
   "execution_count": 23,
   "metadata": {},
   "outputs": [
    {
     "name": "stdout",
     "output_type": "stream",
     "text": [
      "['Gdynia,', 'Luzycka', '8b']\n"
     ]
    }
   ],
   "source": [
    "print (address.split()) # split by space (default)"
   ]
  },
  {
   "cell_type": "code",
   "execution_count": 24,
   "metadata": {},
   "outputs": [
    {
     "name": "stdout",
     "output_type": "stream",
     "text": [
      "['Gdyni', ', Luzyck', ' 8b']\n"
     ]
    }
   ],
   "source": [
    "print (address.split('a')) # split by space (default)"
   ]
  },
  {
   "cell_type": "markdown",
   "metadata": {},
   "source": [
    "2-3. Personal Message: Use a variable to represent a person’s name, and print a message to\n",
    "that person. Your message should be simple, such as, “Hello Eric, would you like to learn some\n",
    "Python today?”\n",
    "2-4. Name Cases: Use a variable to represent a person’s name, and then print that person’s\n",
    "name in lowercase, uppercase, and title case.\n",
    "2-5. Famous Quote: Find a quote from a famous person you admire. Print the quote and the\n",
    "name of its author. Your output should look something like the following, including the\n",
    "quotation marks:\n",
    "Albert Einstein once said, “A person who never made a mistake\n",
    "never tried anything new.”\n",
    "2-6. Famous Quote 2: Repeat Exercise 2-5, but this time, represent the famous person’s name\n",
    "using a variable called famous_person. Then compose your message and represent it with a\n",
    "new variable called message. Print your message.\n",
    "2-7. Stripping Names: Use a variable to represent a person’s name, and include some\n",
    "whitespace characters at the beginning and end of the name. Make sure you use each character\n",
    "combination, \"\\t\" and \"\\n\", at least once.\n",
    "Print the name once, so the whitespace around the name is displayed. Then print the name\n",
    "using each of the three stripping functions, lstrip(), rstrip(), and strip()."
   ]
  },
  {
   "cell_type": "markdown",
   "metadata": {},
   "source": [
    "**Excercise 1**: Use a variable to represent a person’s name, and print a message to\n",
    "that person. Your message should be simple, such as, “Hello Eric, would you like to learn some\n",
    "Python today?”"
   ]
  },
  {
   "cell_type": "code",
   "execution_count": null,
   "metadata": {},
   "outputs": [],
   "source": []
  },
  {
   "cell_type": "markdown",
   "metadata": {},
   "source": [
    "**Excercise 2**: Use a variable to represent a person’s name, and then print that person’s\n",
    "name in lowercase, uppercase, and title case."
   ]
  },
  {
   "cell_type": "code",
   "execution_count": null,
   "metadata": {},
   "outputs": [],
   "source": []
  },
  {
   "cell_type": "markdown",
   "metadata": {},
   "source": [
    "**Excercise 3**: Find a quote from a famous person you admire. Print the quote and the name of its author. Your output should look something like the following, including the quotation marks:\n",
    "\n",
    "\n",
    "    Neil deGrasse Tyson once said: \n",
    "        “The good thing about science is that it's true whether or not you believe in it.”"
   ]
  },
  {
   "cell_type": "code",
   "execution_count": null,
   "metadata": {},
   "outputs": [],
   "source": []
  },
  {
   "cell_type": "markdown",
   "metadata": {},
   "source": [
    "**Excercise 4**: Repeat Exercise 3, but this time, represent the famous person’s name using a variable called `famous_person`. Then compose your message and represent it with a new variable called `message`. Print your message."
   ]
  },
  {
   "cell_type": "code",
   "execution_count": null,
   "metadata": {},
   "outputs": [],
   "source": []
  },
  {
   "cell_type": "markdown",
   "metadata": {},
   "source": [
    "**Excercise 5**: Use a variable to represent a person’s name, and include some whitespace characters at the beginning and end of the name. Make sure you use each character combination, `\\t1` and `\\n`, at least once.\n",
    "Print the name once, so the whitespace around the name is displayed. Then print the name using each of the three stripping functions: `lstrip()`, `rstrip()`, and `strip()`.\n"
   ]
  },
  {
   "cell_type": "code",
   "execution_count": null,
   "metadata": {},
   "outputs": [],
   "source": []
  }
 ],
 "metadata": {
  "kernelspec": {
   "display_name": "Python 3",
   "language": "python",
   "name": "python3"
  },
  "language_info": {
   "codemirror_mode": {
    "name": "ipython",
    "version": 3
   },
   "file_extension": ".py",
   "mimetype": "text/x-python",
   "name": "python",
   "nbconvert_exporter": "python",
   "pygments_lexer": "ipython3",
   "version": "3.7.4"
  }
 },
 "nbformat": 4,
 "nbformat_minor": 2
}
