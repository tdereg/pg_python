{
 "cells": [
  {
   "cell_type": "markdown",
   "metadata": {
    "slideshow": {
     "slide_type": "slide"
    }
   },
   "source": [
    "## Indentations\n",
    "### Most programming languages\n",
    "    if (a>b) {\n",
    "        a = 2;\n",
    "        b = 4;\n",
    "    }\n",
    "    \n",
    "                       \n",
    "### Python   \n",
    "    if a>b:\n",
    "        a = 2\n",
    "        b = 4\n",
    "- Python is so heavily driven by code indentation and whitespace\n",
    "- Python gets rid of () and {} by using \n",
    "    - *colon*: condition expression\n",
    "    - *whitespace(s)*: what to do if condition is met\n",
    "- More readable (some would argue)\n",
    "- End of line as end of statement (no need to use semicolon)"
   ]
  },
  {
   "cell_type": "markdown",
   "metadata": {},
   "source": [
    "## `if`, `elif`, `else`\n",
    "Programming often involves examining a set of conditions and decidingwhich action to take based on those  conditions. Python’s if statement allowsyou to examine the current state of a program and respond appropriately to that state.\n",
    "\n",
    "At the heart of every if statement is an expression that can be evaluated as `True` or `False` and is called a conditional test. Python uses the values `True` and `False` to decide whether the code in an `if` statement should be executed. If a conditional test evaluates to `True`, Python executes the code following the `if` statement. If the test evaluates to `False`, Python ignores the code following the `if` statement.\n",
    "\n",
    "\n",
    "Use `if` statement to tell the computer to perform alternative actions based on a certain set of results\n",
    "\n",
    "**`if` statement**\n",
    "\n",
    "<font color=\"green\"><i># if case one is true, perform action one</i></font>\n",
    "\n",
    "    if case1: \n",
    "        perform action1\n",
    "\n",
    "**`if-else` statement**\n",
    "\n",
    "Often, you’ll want to take one action when a conditional test passes and a different action in all other cases. Python’s if-else syntax makes this possible. An if-else block is similar to a simple if statement, but the else statement allows you to define an action or set of actions that are executed when the conditional test fails.\n",
    "\n",
    "<font color=\"green\"><i># if case one is true, perform action one</i></font>\n",
    "    \n",
    "    if case1: \n",
    "        perform action1\n",
    "\n",
    "<font color=\"green\"><i># in cases1 is not true, run the following code</i></font>\n",
    "    \n",
    "    else:\n",
    "        perform action3\n",
    "\n",
    "You can use `if-else` statement if only two possible situations needs to be evaluated\n",
    "\n",
    "**`if-elif-else` chain**\n",
    "\n",
    "Often, you’ll need to test more than two possible situations, and to evaluate these you can use Python’s `if-elif-else` syntax. Python executes only one block in an `if-elif-else chain`. It runs each conditional test in order until one passes. When a test passes, the code following that test is executed and Python skips the rest of the tests.\n",
    "\n",
    "<font color=\"green\"><i># if case one is true, perform action one</i></font>\n",
    "\n",
    "    if case1: \n",
    "        perform action1\n",
    "\n",
    "\n",
    "<font color=\"green\"><i># if case two is true, perform action two</i></font>\n",
    "\n",
    "    elif case2:\n",
    "        perform action2\n",
    "\n",
    "<font color=\"green\"><i># in all other cases (if none of the above cases happen), perform action three</i></font>\n",
    "\n",
    "    else:\n",
    "        perform action3\n",
    "        \n",
    "You can use as many elif blocks in your code as you like.\n",
    "\n",
    "    if case1: \n",
    "        perform action1\n",
    "    elif case2:\n",
    "        perform action2\n",
    "    elif case3:\n",
    "        perform action3\n",
    "    elif case4:\n",
    "        perform action4\n",
    "    else:\n",
    "        perform action5\n",
    "        \n",
    "**Omitting the `else` block**\n",
    "\n",
    "Python does not require an else block at the end of an if-elif chain. Sometimes an else block is useful; sometimes it is clearer to use an additional elif statement that catches the specific condition of interest:\n",
    "\n",
    "    age = 12\n",
    "    \n",
    "    if age < 4:\n",
    "        price = 0\n",
    "    elif age < 18:\n",
    "        price = 25\n",
    "    elif age < 65:\n",
    "        price = 40\n",
    "    elif age >= 65:\n",
    "        price = 20\n",
    "    \n",
    "    print(f\"Your admission cost is ${price}.\")"
   ]
  },
  {
   "cell_type": "code",
   "execution_count": 1,
   "metadata": {},
   "outputs": [
    {
     "name": "stdout",
     "output_type": "stream",
     "text": [
      "It was true!\n"
     ]
    }
   ],
   "source": [
    "if True:\n",
    "    print('It was true!')"
   ]
  },
  {
   "cell_type": "code",
   "execution_count": 1,
   "metadata": {},
   "outputs": [
    {
     "name": "stdout",
     "output_type": "stream",
     "text": [
      "I will be printed in case x is not true\n"
     ]
    }
   ],
   "source": [
    "x = False\n",
    "\n",
    "if x:\n",
    "    print('x was True!')\n",
    "else:\n",
    "    print('I will be printed in case x is not true')"
   ]
  },
  {
   "cell_type": "code",
   "execution_count": 5,
   "metadata": {},
   "outputs": [
    {
     "name": "stdout",
     "output_type": "stream",
     "text": [
      "Welcome to the bank!\n"
     ]
    }
   ],
   "source": [
    "loc = 'Bank'\n",
    "\n",
    "if loc == 'Auto Shop':\n",
    "    print('Welcome to the Auto Shop!')\n",
    "# you can put as many 'elif' statements as you want before you close off with an 'else'\n",
    "elif loc == 'Bank':\n",
    "    print('Welcome to the bank!')\n",
    "else:\n",
    "    print('Where are you?')"
   ]
  },
  {
   "cell_type": "markdown",
   "metadata": {},
   "source": [
    "### The difference between `=` and `==`\n",
    "\n",
    "A single equal sign is really a statement; you might read the code at as *“Set the value of variable equal to particular value”* On the other hand, a double equal sign, asks a question: *“Is the value of variable  equal to particular value?\"*. Most programming languages use equal signs in this way."
   ]
  },
  {
   "cell_type": "code",
   "execution_count": 7,
   "metadata": {},
   "outputs": [
    {
     "name": "stdout",
     "output_type": "stream",
     "text": [
      "Greater than 0\n"
     ]
    }
   ],
   "source": [
    "# Nested 'if' statements are checked until first case is True boolean \n",
    "number = 2\n",
    "if number > 0:\n",
    "    print('Greater than 0')\n",
    "elif number > 1:\n",
    "    print('Greater than 1')\n",
    "else:\n",
    "    print('Who knows?')"
   ]
  },
  {
   "cell_type": "markdown",
   "metadata": {},
   "source": [
    "### Testing Multiple Conditions\n",
    "The `if-elif-else` chain is powerful, but it’s only appropriate to use when you just need one test to pass. As soon as Python finds one test that passes, it skips the rest of the tests. This behavior is beneficial, because it’s efficient and allows you to test for one specific condition.\n",
    "However, sometimes it’s important to check all of the conditions of interest. In this case, you should use a series of simple `if` statements with no `elif` or `else` blocks. This technique makes sense when more than one\n",
    "condition could be `True`, and you want to act on every condition that is `True`.\n",
    "\n",
    "    requested_toppings = ['mushrooms', 'extra cheese']\n",
    "\n",
    "    if 'mushrooms' in requested_toppings:\n",
    "        print(\"Adding mushrooms.\")\n",
    "\n",
    "    if 'pepperoni' in requested_toppings:\n",
    "        print(\"Adding pepperoni.\")\n",
    "\n",
    "    if 'extra cheese' in requested_toppings:\n",
    "        print(\"Adding extra cheese.\")\n",
    "\n",
    "    print(\"\\nFinished making your pizza!\")\n",
    "\n",
    "This code would not work properly if we used an if-elif-else block, because the code would stop running after only one test passes."
   ]
  },
  {
   "cell_type": "markdown",
   "metadata": {},
   "source": [
    "**Excercise 1** \n",
    "Imagine an alien was just shot down in a game. Create a variable called `alien_color` and assign it a value of `'green'`, `'yellow'`, or `'red'`.\n",
    "- Write an `if` statement to test whether the alien’s color is green. If it is, print a message that the player just earned 5 points.\n",
    "- Write one version of this program that passes the `if` test and another that fails. (The version that fails will have no output.)"
   ]
  },
  {
   "cell_type": "code",
   "execution_count": null,
   "metadata": {},
   "outputs": [],
   "source": []
  },
  {
   "cell_type": "markdown",
   "metadata": {},
   "source": [
    "**Excercise 2**\n",
    "Choose a color for an alien as you did in ***Exercise 1***, and write an `if-else` chain.\n",
    "- If the alien’s color is green, print a statement that the player just earned 5 points for shooting the alien.\n",
    "- If the alien’s color isn’t green, print a statement that the player just earned 10 points.\n",
    "- Write one version of this program that runs the `if` block and another that runs the else block."
   ]
  },
  {
   "cell_type": "code",
   "execution_count": null,
   "metadata": {},
   "outputs": [],
   "source": []
  },
  {
   "cell_type": "markdown",
   "metadata": {},
   "source": [
    "**Excercise 3**\n",
    "Turn your `if-else` chain from ***Exercise 2*** into an `if-elif-else` chain. \n",
    "- If the alien is green, print a message that the player earned 5 points.\n",
    "- If the alien is yellow, print a message that the player earned 10 points.\n",
    "- If the alien is red, print a message that the player earned 15 points.\n",
    "- Write three versions of this program, making sure each message is printed for the appropriate color alien."
   ]
  },
  {
   "cell_type": "code",
   "execution_count": null,
   "metadata": {},
   "outputs": [],
   "source": []
  },
  {
   "cell_type": "markdown",
   "metadata": {},
   "source": [
    "**Excercise 4**\n",
    "Write an `if-elif-else` chain that determines a person’s stage of life. Set a value for the variable age, and then:\n",
    "- If the person is less than 2 years old, print a message that the person is a baby.\n",
    "- If the person is at least 2 years old but less than 4, print a message that the person is a toddler.\n",
    "- If the person is at least 4 years old but less than 13, print a message that the person is a kid.\n",
    "- If the person is at least 13 years old but less than 20, print a message that the person is a teenager.\n",
    "- If the person is at least 20 years old but less than 65, print a message that the person is an adult.\n",
    "- If the person is age 65 or older, print a message that the person is an elder."
   ]
  },
  {
   "cell_type": "code",
   "execution_count": null,
   "metadata": {},
   "outputs": [],
   "source": []
  },
  {
   "cell_type": "markdown",
   "metadata": {},
   "source": [
    "**Excercise 5**\n",
    "Make a list of your favorite fruits, and then write a series of independent `if` statements that check for certain fruits in your list.\n",
    "- Make a list of your three favorite fruits and call it favorite_fruits.\n",
    "- Write five if statements. Each should check whether a certain kind of fruit is in your list. If the fruit is in your list, the if block should print a statement, such as *You really like bananas!*"
   ]
  },
  {
   "cell_type": "code",
   "execution_count": null,
   "metadata": {},
   "outputs": [],
   "source": []
  },
  {
   "cell_type": "markdown",
   "metadata": {},
   "source": [
    "## Using `if` statements with `list`"
   ]
  },
  {
   "cell_type": "markdown",
   "metadata": {},
   "source": [
    "### Checking whether value is in a  `list`\n",
    "\n",
    "To find out whether a particular value is already in a list, use the keyword `in`."
   ]
  },
  {
   "cell_type": "code",
   "execution_count": 23,
   "metadata": {},
   "outputs": [
    {
     "name": "stdout",
     "output_type": "stream",
     "text": [
      "Mushrooms are one of requested toppings\n"
     ]
    }
   ],
   "source": [
    "requested_toppings = ['mushrooms', 'onions', 'pineapple']\n",
    "\n",
    "if 'mushrooms' in requested_toppings:\n",
    "    print(\"Mushrooms are one of requested toppings\")\n",
    "    "
   ]
  },
  {
   "cell_type": "markdown",
   "metadata": {},
   "source": [
    "Other times, it’s important to know if a value does not appear in a list. You can use the keyword not in this situation"
   ]
  },
  {
   "cell_type": "code",
   "execution_count": 25,
   "metadata": {},
   "outputs": [
    {
     "name": "stdout",
     "output_type": "stream",
     "text": [
      "Chicken is not one of requested toppings\n"
     ]
    }
   ],
   "source": [
    "requested_toppings = ['mushrooms', 'onions', 'pineapple']\n",
    "\n",
    "if 'chicken' not in requested_toppings:\n",
    "    print(\"Chicken is not one of requested toppings\")\n",
    "    "
   ]
  },
  {
   "cell_type": "markdown",
   "metadata": {},
   "source": [
    "### Checking That a List Is Not Empty\n",
    "\n",
    "We’ve made a simple assumption about every list we’ve worked with so far; we’ve assumed that each list has at least one item in it. What if you let users to provide the information that’s stored in a list? In such case you  won’t be able to assumethat a list has any items in it each time a loop is run. \n",
    "\n",
    "In this situation, it’suseful to check whether a list is empty before doing something with it.\n",
    "\n",
    "As an example, let’s check whether the list of requested toppings is empty before building the pizza. If the list is empty, we’ll prompt the user and makesure they want a plain pizza. If the list is not empty, we’ll build the pizza."
   ]
  },
  {
   "cell_type": "code",
   "execution_count": 27,
   "metadata": {},
   "outputs": [
    {
     "name": "stdout",
     "output_type": "stream",
     "text": [
      "Are you sure you want a plain pizza?\n"
     ]
    }
   ],
   "source": [
    "requested_toppings = []\n",
    "\n",
    "if requested_toppings:\n",
    "    for requested_topping in requested_toppings:\n",
    "        print(f\"Adding {requested_topping}.\")\n",
    "    print(\"\\nFinished making your pizza!\")\n",
    "else:\n",
    "    print(\"Are you sure you want a plain pizza?\")"
   ]
  },
  {
   "cell_type": "markdown",
   "metadata": {},
   "source": [
    "**Excercise 6**\n",
    "Make a list of five or more usernames, including the name 'admin'. Imagine you are writing code that will print a greeting to each user after they log in to a website. Loop through the list, and print a greeting to each user:\n",
    "- If the username is 'admin', print a special greeting, such as *Hello admin, would you like to see a status report?*\n",
    "- Otherwise, print a generic greeting, such as *Hello Jaden, thank you for logging in again.*"
   ]
  },
  {
   "cell_type": "code",
   "execution_count": null,
   "metadata": {},
   "outputs": [],
   "source": []
  },
  {
   "cell_type": "markdown",
   "metadata": {},
   "source": [
    "**Excercise 7**\n",
    "Add an `if` test to program from *Excercise 6* to make sure the list of users is not empty.\n",
    "- If the list is empty, print the message *We need to find some users!*\n",
    "- Remove all of the usernames from your list, and make sure the correct message is printed."
   ]
  },
  {
   "cell_type": "code",
   "execution_count": null,
   "metadata": {},
   "outputs": [],
   "source": []
  },
  {
   "cell_type": "markdown",
   "metadata": {},
   "source": [
    "**Excercise 8**\n",
    "Do the following to create a program that simulates how websites ensure that everyone has a unique username.\n",
    "- Make a list of five or more usernames called `current_users`.\n",
    "- Make another list of five usernames called `new_users`. Make sure one or two of the new user names are also in the `current_users` list.\n",
    "- Loop through the `new_users` list to see if each new user name has already been used. If it has, print a message that the person will need to enter a new user name. If a user name has not been used, print a message saying that the user name is available.\n",
    "- Make sure your comparison is case insensitive. If 'John' has been used, 'JOHN' should not be accepted. (To do this, you’ll need to make a copy of `current_users` containing the lowercase versions of all existing users.)"
   ]
  },
  {
   "cell_type": "code",
   "execution_count": null,
   "metadata": {},
   "outputs": [],
   "source": []
  },
  {
   "cell_type": "markdown",
   "metadata": {},
   "source": [
    "**Excercise 9**\n",
    "Ordinal numbers indicate their position in a list, such as 1st or 2nd. Most ordinal numbers end in th, except 1, 2, and 3.\n",
    "- Store the numbers 1 through 9 in a list.\n",
    "- Loop through the list.\n",
    "- Use an if-elif-else chain inside the loop to print the proper ordinal ending for each number. Your output should read \"1st 2nd 3rd 4th 5th 6th 7th 8th 9th\", and each result should be on a separate line."
   ]
  },
  {
   "cell_type": "code",
   "execution_count": null,
   "metadata": {},
   "outputs": [],
   "source": []
  }
 ],
 "metadata": {
  "kernelspec": {
   "display_name": "Python 3",
   "language": "python",
   "name": "python3"
  },
  "language_info": {
   "codemirror_mode": {
    "name": "ipython",
    "version": 3
   },
   "file_extension": ".py",
   "mimetype": "text/x-python",
   "name": "python",
   "nbconvert_exporter": "python",
   "pygments_lexer": "ipython3",
   "version": "3.7.4"
  }
 },
 "nbformat": 4,
 "nbformat_minor": 1
}
