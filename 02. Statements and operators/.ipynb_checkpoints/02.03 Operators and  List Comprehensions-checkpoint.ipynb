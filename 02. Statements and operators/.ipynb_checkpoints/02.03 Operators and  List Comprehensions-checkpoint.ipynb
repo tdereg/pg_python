{
 "cells": [
  {
   "cell_type": "markdown",
   "metadata": {},
   "source": [
    "## Python's operators"
   ]
  },
  {
   "cell_type": "markdown",
   "metadata": {},
   "source": [
    "### range\n",
    " - generator function which quickly generates a list of integers,\n",
    " - takes between 2 and 3 parameters: *start*, *stop* and a *step size* (optional) and returns type *range*\n",
    " - to get a *list*, type *range* needs to be cast to a list with `list()`\n",
    " - As you will see, the code below displays 10 numbers (without number 10). \n",
    "     - This is another result of the off-by-one behavior you’ll see often in programming languages. \n",
    "     - The `range()` function causes Python to start counting at the first value you give it, and it stops when it reaches the second value you provide.\n",
    "     - Because it stops at that second value, the output never contains the end value."
   ]
  },
  {
   "cell_type": "code",
   "execution_count": null,
   "metadata": {},
   "outputs": [],
   "source": [
    "x = range(0,10)\n",
    "type(x)"
   ]
  },
  {
   "cell_type": "code",
   "execution_count": null,
   "metadata": {},
   "outputs": [],
   "source": [
    "x = range(0,11)\n",
    "list_of_numbers = list (x)\n",
    "print(list_of_numbers)"
   ]
  },
  {
   "cell_type": "markdown",
   "metadata": {},
   "source": [
    "- We can also use the `range()` function to tell Python to skip numbers in a given range. \n",
    "- If you pass a third argument to `range()`, Python uses that value as a step size when generating numbers.\n",
    "\n",
    "For example, here’s how to list the even numbers between 1 and 10:"
   ]
  },
  {
   "cell_type": "code",
   "execution_count": null,
   "metadata": {},
   "outputs": [],
   "source": [
    "list(range(0,10,2))"
   ]
  },
  {
   "cell_type": "markdown",
   "metadata": {},
   "source": [
    "- You can create almost any set of numbers you want to using the `range()` function. \n",
    "\n",
    "For example, consider how you might make a list of the first 10 square numbers (that is, the square of each integer from 1 through 10). Here’s one way you might use to put the first 10 square numbers into a list:"
   ]
  },
  {
   "cell_type": "code",
   "execution_count": null,
   "metadata": {},
   "outputs": [],
   "source": [
    "squares = []\n",
    "for value in range(1, 11):\n",
    "    square = value ** 2\n",
    "    squares.append(square)\n",
    "print(squares)"
   ]
  },
  {
   "cell_type": "markdown",
   "metadata": {},
   "source": [
    "To write this code more concisely, omit the temporary variable square and append each new value directly to the list:"
   ]
  },
  {
   "cell_type": "code",
   "execution_count": null,
   "metadata": {},
   "outputs": [],
   "source": [
    "squares = []\n",
    "for value in range(1,11):\n",
    "    squares.append(value**2)\n",
    "print(squares)"
   ]
  },
  {
   "cell_type": "markdown",
   "metadata": {},
   "source": [
    "### enumerate\n",
    "\n",
    "- A lot of times when dealing with iterators, we also get a need to keep a count of iterations. \n",
    "- Python eases the programmers’ task by providing a built-in function `enumerate()` for this task.\n",
    "- `enumerate()` method adds a counter to an iterable and returns it in a form of enumerate object. \n",
    "- This enumerate object can then be used directly in for loops or be converted into a list of tuples using `list()` method."
   ]
  },
  {
   "cell_type": "code",
   "execution_count": null,
   "metadata": {},
   "outputs": [],
   "source": [
    "index_count = 0\n",
    "\n",
    "for letter in 'abcde':\n",
    "    print(f\"At index {index_count} the letter is {letter}\")\n",
    "    index_count += 1"
   ]
  },
  {
   "cell_type": "code",
   "execution_count": null,
   "metadata": {},
   "outputs": [],
   "source": [
    "for i,letter in enumerate('abcde'):\n",
    "    print(f\"At index {i} the letter is {letter}\")"
   ]
  },
  {
   "cell_type": "code",
   "execution_count": null,
   "metadata": {},
   "outputs": [],
   "source": [
    "list_of_tens = range (0,101,10)\n",
    "for i,list_element in enumerate(list_of_tens):\n",
    "    print (f\"Index: {i}; Element: {list_element}\")"
   ]
  },
  {
   "cell_type": "markdown",
   "metadata": {},
   "source": [
    "### zip\n",
    "- Use the `zip()` function to create a list of tuples by \"zipping\" up together two lists."
   ]
  },
  {
   "cell_type": "code",
   "execution_count": null,
   "metadata": {},
   "outputs": [],
   "source": [
    "mylist1 = [10,20,30,40,50]\n",
    "mylist2 = ['a','b','c','d','e']\n",
    "tuplets_joined = zip(mylist1, mylist2)\n",
    "\n",
    "print (f\"The type of 'tuplets_joined' variable: {type(tuplets_joined)}\")\n",
    "\n",
    "for element_1,element_2, in tuplets_joined:\n",
    "    print(f\"Tuplet element from 1st list: {element_1}\\t Tuplet element from 2nd list: {element_2}\")"
   ]
  },
  {
   "cell_type": "code",
   "execution_count": null,
   "metadata": {},
   "outputs": [],
   "source": [
    "# Convert Celsius to Fahrenheit\n",
    "celsius = [0,10,20.1,34.5]\n",
    "\n",
    "fahrenheit = [((9/5)*temp + 32) for temp in celsius ]\n",
    "\n",
    "\n",
    "celsius_to_fahrenheit = zip(celsius, fahrenheit)\n",
    "\n",
    "for c,f, in celsius_to_fahrenheit:\n",
    "    print(f\"Celsius: {c}\\t Fahrenheit: {f}\")"
   ]
  },
  {
   "cell_type": "markdown",
   "metadata": {},
   "source": [
    "### in\n",
    "- check if a *list* contains particualr element\n",
    "- returns `True` (list contains element) or `False` (list doesn't contain element)"
   ]
  },
  {
   "cell_type": "code",
   "execution_count": null,
   "metadata": {},
   "outputs": [],
   "source": [
    "'x' in ['x','y','z']"
   ]
  },
  {
   "cell_type": "code",
   "execution_count": null,
   "metadata": {},
   "outputs": [],
   "source": [
    "'x' in [1, 2, 3]"
   ]
  },
  {
   "cell_type": "markdown",
   "metadata": {},
   "source": [
    "### min and max\n",
    "- A few Python functions are helpful when working with lists of numbers. \n",
    "- With `min()` function you can easily find the minimum of a list of numbers or Strings\n",
    "- With `max()` function you can easily find the maximum of a list of numbers or Strings"
   ]
  },
  {
   "cell_type": "code",
   "execution_count": null,
   "metadata": {},
   "outputs": [],
   "source": [
    "list_of_integers = [7, 2, 9, 4, 12]\n",
    "print (f\"Min: {min(list_of_integers)}\")\n",
    "print (f\"Max: {max(list_of_integers)}\")"
   ]
  },
  {
   "cell_type": "code",
   "execution_count": null,
   "metadata": {},
   "outputs": [],
   "source": [
    "list_of_strings = ['abacus', 'cascade', 'bit', 'dormate', 'epsilon']\n",
    "print (f\"Min: {min(list_of_strings)}\")\n",
    "print (f\"Max: {max(list_of_strings)}\")"
   ]
  },
  {
   "cell_type": "markdown",
   "metadata": {},
   "source": [
    "### random\n",
    " - Python comes with a built in *random* library\n",
    " - Most useful fucntions from *random* library listed below\n",
    " - Random number does NOT mean a different number every time. \n",
    " - Random means something that can not be predicted logically."
   ]
  },
  {
   "cell_type": "code",
   "execution_count": null,
   "metadata": {},
   "outputs": [],
   "source": [
    "from random import shuffle\n",
    "\n",
    "list_of_integers = [1, 2, 3, 4, 5]\n",
    "\n",
    "# Notice: shuffling happens \"in-place\" meaning it won't return anything, instead it will effect the list passed\n",
    "shuffle (list_of_integers)\n",
    "\n",
    "\n",
    "print (list_of_integers)"
   ]
  },
  {
   "cell_type": "code",
   "execution_count": null,
   "metadata": {},
   "outputs": [],
   "source": [
    "from random import randint\n",
    "\n",
    "# return random number between 0 and 1000 (including 0 and 1000)\n",
    "randint (0, 1000)"
   ]
  },
  {
   "cell_type": "markdown",
   "metadata": {},
   "source": [
    "### choice\n",
    "- takes in a list or tuple and returns a randomly chosen element"
   ]
  },
  {
   "cell_type": "code",
   "execution_count": 2,
   "metadata": {},
   "outputs": [
    {
     "data": {
      "text/plain": [
       "'charles'"
      ]
     },
     "execution_count": 2,
     "metadata": {},
     "output_type": "execute_result"
    }
   ],
   "source": [
    "from random import choice\n",
    "\n",
    "players = ['charles', 'martina', 'michael', 'florence', 'eli']\n",
    "first_up = choice(players)\n",
    "first_up"
   ]
  },
  {
   "cell_type": "markdown",
   "metadata": {},
   "source": [
    "### input\n",
    "- Python allows for user input.\n",
    "- That means we are able to ask the user for input.\n",
    "\n",
    "The following example asks for the username, and when you entered the username, it gets printed on the screen:"
   ]
  },
  {
   "cell_type": "code",
   "execution_count": null,
   "metadata": {},
   "outputs": [],
   "source": [
    "first_name = input('Enter your first name: ')\n",
    "print (f\"Welcome {first_name}!\")"
   ]
  },
  {
   "cell_type": "markdown",
   "metadata": {},
   "source": [
    "**Excercise 1**\n",
    "- Make a list or tuple containing a series of 10 numbers and five letters.\n",
    "- Randomly select four numbers or letters from the list and print a message saying that any ticket matching these four numbers or letters wins a prize."
   ]
  },
  {
   "cell_type": "code",
   "execution_count": null,
   "metadata": {},
   "outputs": [],
   "source": []
  },
  {
   "cell_type": "markdown",
   "metadata": {},
   "source": [
    "**Excercise 2**\n",
    "- You can use a loop to see how hard it might be to win the kind of lottery you just modeled. \n",
    "- Make a list or tuple called my_ticket. \n",
    "- Write a loop that keeps pulling numbers until your ticket wins. \n",
    "- Print a message reporting how many times the loop had to run to give you a winning ticket."
   ]
  },
  {
   "cell_type": "code",
   "execution_count": null,
   "metadata": {},
   "outputs": [],
   "source": []
  },
  {
   "cell_type": "markdown",
   "metadata": {},
   "source": [
    "**Excercise 3**\n",
    "- One excellent resource for exploring the Python standard library is a site called Python Module of the Week. \n",
    "- Go to https://pymotw.com/ and look at the table of contents. \n",
    "- Find a module that looks interesting to you and read about it, perhaps starting with the random module."
   ]
  },
  {
   "cell_type": "code",
   "execution_count": null,
   "metadata": {},
   "outputs": [],
   "source": []
  },
  {
   "cell_type": "markdown",
   "metadata": {},
   "source": [
    "## List Comprehensions\n",
    " - They allow to build out lists using a different notation\n",
    " - Think of them as a one line *for loop* built inside of brackets"
   ]
  },
  {
   "cell_type": "code",
   "execution_count": null,
   "metadata": {},
   "outputs": [],
   "source": [
    "# Grab every letter in string\n",
    "lst = [x for x in 'word']\n",
    "lst"
   ]
  },
  {
   "cell_type": "code",
   "execution_count": null,
   "metadata": {},
   "outputs": [],
   "source": [
    "# Square numbers in range and turn into list\n",
    "lst = [x**2 for x in range(0,11)]\n",
    "lst"
   ]
  },
  {
   "cell_type": "code",
   "execution_count": null,
   "metadata": {},
   "outputs": [],
   "source": [
    "# Check for even numbers in a range - \"if\" statement\n",
    "lst = [x for x in range(11) if x % 2 == 0]\n",
    "lst"
   ]
  },
  {
   "cell_type": "markdown",
   "metadata": {},
   "source": [
    "**Excercise 4** \n",
    "\n",
    "- Use a `for` loop to print the numbers from 1 to 20, inclusive."
   ]
  },
  {
   "cell_type": "code",
   "execution_count": null,
   "metadata": {},
   "outputs": [],
   "source": []
  },
  {
   "cell_type": "markdown",
   "metadata": {},
   "source": [
    "**Excercise 5**\n",
    "\n",
    "- Make a list of the numbers from one to one hundread, and then use a `for` loop to print the numbers. "
   ]
  },
  {
   "cell_type": "code",
   "execution_count": null,
   "metadata": {},
   "outputs": [],
   "source": []
  },
  {
   "cell_type": "markdown",
   "metadata": {},
   "source": [
    "**Excercise 6**\n",
    "\n",
    "- Make a list of the numbers from one to one million, and then use `min()` and `max()` to make sure your list actually starts at one and ends at one million. \n",
    "- Also, use the `sum()` function or `for` loop to see how quickly Python can add one hundread numbers."
   ]
  },
  {
   "cell_type": "code",
   "execution_count": null,
   "metadata": {},
   "outputs": [],
   "source": []
  },
  {
   "cell_type": "markdown",
   "metadata": {},
   "source": [
    "**Excercise 7**\n",
    "\n",
    "- Use the third argument of the `range()` function to make a list of the odd numbers from 1 to 20. \n",
    "- Use a `for` loop to print each number."
   ]
  },
  {
   "cell_type": "code",
   "execution_count": null,
   "metadata": {},
   "outputs": [],
   "source": []
  },
  {
   "cell_type": "markdown",
   "metadata": {},
   "source": [
    "**Excercise 8**\n",
    "\n",
    "- Make a list of the multiples of 3 from 3 to 30. \n",
    "- Use a `for` loop to print the numbers in your list."
   ]
  },
  {
   "cell_type": "code",
   "execution_count": null,
   "metadata": {},
   "outputs": [],
   "source": []
  },
  {
   "cell_type": "markdown",
   "metadata": {},
   "source": [
    "**Excercise 9**\n",
    "\n",
    "- A number raised to the third power is called a cube. \n",
    "- For example, the cube of 2 is written as `2**3` in Python. \n",
    "- Make a list of the first 10 cubes (that is, the cube of each integer from 1 through 10), and use a `for` loop to print out the value of each cube."
   ]
  },
  {
   "cell_type": "code",
   "execution_count": null,
   "metadata": {},
   "outputs": [],
   "source": []
  },
  {
   "cell_type": "markdown",
   "metadata": {},
   "source": [
    "**Excercise 10**\n",
    "\n",
    "- Use a list comprehension to generate a list of the first 10 cubes."
   ]
  },
  {
   "cell_type": "code",
   "execution_count": null,
   "metadata": {},
   "outputs": [],
   "source": []
  }
 ],
 "metadata": {
  "kernelspec": {
   "display_name": "Python 3",
   "language": "python",
   "name": "python3"
  },
  "language_info": {
   "codemirror_mode": {
    "name": "ipython",
    "version": 3
   },
   "file_extension": ".py",
   "mimetype": "text/x-python",
   "name": "python",
   "nbconvert_exporter": "python",
   "pygments_lexer": "ipython3",
   "version": "3.7.4"
  }
 },
 "nbformat": 4,
 "nbformat_minor": 1
}
