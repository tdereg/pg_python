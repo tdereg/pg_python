{
 "cells": [
  {
   "cell_type": "markdown",
   "metadata": {},
   "source": [
    "# `for` loops"
   ]
  },
  {
   "cell_type": "markdown",
   "metadata": {},
   "source": [
    "    for item in object:\n",
    "        statements to do stuff\n",
    "        \n",
    " - `for` loop acts as an iterator in Python\n",
    " - `for` loop lets you go through items in a *sequence* or any other iterable item (e.g. strings, lists, tuples, dictionaries (keys or values))\n",
    " - Variable `item` is used inside loop as reference to each element of collection we are interating through\n",
    " - Variable name `item` is completely up to the coder (choose names which will make code understable)"
   ]
  },
  {
   "cell_type": "markdown",
   "metadata": {},
   "source": [
    "### `for` loops and *Lists*\n",
    "\n",
    " - You can use `for` loop to loop through an entire list \n",
    " - Looping allows you to take the same action, or set of actions, with every item in a list. \n",
    " - You can work efficiently with lists of any length, including those with thousands or even millions of items"
   ]
  },
  {
   "cell_type": "code",
   "execution_count": null,
   "metadata": {},
   "outputs": [],
   "source": [
    "best_si_fi_authors = ['Isaac Asimov', 'Robert A. Heinlein', 'Ray Bradbury', 'Philip K. Dick', 'Ursula K. Le Guin']\n",
    "\n",
    "# print all authors in the list, method 1\n",
    "print (best_si_fi_authors[0])\n",
    "print (best_si_fi_authors[1])\n",
    "print (best_si_fi_authors[2])\n",
    "print (best_si_fi_authors[3])\n",
    "print (best_si_fi_authors[4])"
   ]
  },
  {
   "cell_type": "code",
   "execution_count": null,
   "metadata": {},
   "outputs": [],
   "source": [
    "best_si_fi_authors = ['Isaac Asimov', 'Robert A. Heinlein', 'Ray Bradbury', 'Philip K. Dick', 'Ursula K. Le Guin']\n",
    "\n",
    "# print all authors in the list, method 2; 2 lines of code, doesn't matter if list has 5 or 1000 elements\n",
    "for author in best_si_fi_authors: # retirieve next value from the list (start with element 0)\n",
    "    print(author) # print the element"
   ]
  },
  {
   "cell_type": "code",
   "execution_count": null,
   "metadata": {},
   "outputs": [],
   "source": [
    "# you can put into 'for' loop as much logic as you want e.g. \n",
    "#     iterate through the list, but print only even numbers\n",
    "list1 = [1,2,3,4,5,6,7,8,9,10]\n",
    "\n",
    "for num in list1:\n",
    "    if num % 2 == 0:\n",
    "        print(num)\n",
    "    else:\n",
    "        print (\"odd number\")\n",
    "print (\"Message\")"
   ]
  },
  {
   "cell_type": "markdown",
   "metadata": {},
   "source": [
    "Where `for` loops ends? Any lines of code after the `for` loop that are not indented are outside of the loop and are executed only once, without repetition\n"
   ]
  },
  {
   "cell_type": "code",
   "execution_count": null,
   "metadata": {},
   "outputs": [],
   "source": [
    "# sum up elements of the list\n",
    "list1 = [1,2,3,4,5,6,7,8,9,10]\n",
    "sum = 0\n",
    "\n",
    "for num in list1:\n",
    "    sum += num\n",
    "    \n",
    "print (sum)"
   ]
  },
  {
   "cell_type": "markdown",
   "metadata": {},
   "source": [
    "**Excercise 1**: \n",
    "\n",
    "- Think of at least three kinds of your favorite pizza. Store these pizza names in a list, and then use a `for` loop to print the name of each pizza.\n",
    "- Modify your `for` loop to print a sentence using the name of the pizza instead of printing just the name of the pizza. \n",
    "- For each pizza you should have one line of output containing a simple statement like *I like pepperoni pizza.*\n",
    "- Add a line at the end of your program, outside the for loop, that states how much you like pizza. \n",
    "- The output should consist of three or more lines about the kinds of pizza you like and then an additional sentence, such as *I really love pizza*"
   ]
  },
  {
   "cell_type": "code",
   "execution_count": null,
   "metadata": {},
   "outputs": [],
   "source": []
  },
  {
   "cell_type": "markdown",
   "metadata": {},
   "source": [
    "**Excercise 2**: \n",
    "\n",
    "- Think of at least three different animals that have a common characteristic. \n",
    "- Store the names of these animals in a list, and then use a `for` loop to print out the name of each animal.\n",
    "- Modify your program to print a statement about each animal, such as *A dog would make a great pet*.\n",
    "- Add a line at the end of your program stating what these animals have in common. \n",
    "- You could print a sentence such as *Any of these animals would make a great pet!*"
   ]
  },
  {
   "cell_type": "code",
   "execution_count": null,
   "metadata": {},
   "outputs": [],
   "source": []
  },
  {
   "cell_type": "markdown",
   "metadata": {},
   "source": [
    "### `for` loops and *Dictionaries*\n",
    "\n",
    "#### Looping Through All Key-Value Pairs\n",
    "- If you want to see everything stored in dictionary, you could loop through the dictionary using a `for` loop\n",
    "- To write a `for` loop for a dictionary, you create names for the two variables that will hold the `key` and `value` in each `key-value` pair. \n",
    "- In example below we used variables `key` and `value`, but you can choose any names you want for these two variables. \n",
    "- The second half of the `for` statement includes the name of the dictionary followed by the method `items()`, which returns a list of `key-value` pairs. \n",
    "- The `for` loop then assigns each of these pairs to the two variables provided.\n",
    "- Looping through all `key-value` pairs works particularly well for dictionaries which stores the same kind of information for many different keys. "
   ]
  },
  {
   "cell_type": "code",
   "execution_count": null,
   "metadata": {},
   "outputs": [],
   "source": [
    "user_0 = {\n",
    "    'username': 'efermi',\n",
    "    'first': 'enrico',\n",
    "    'last': 'fermi',\n",
    "}\n",
    "\n",
    "for key, value in user_0.items():\n",
    "    print(f\"\\nKey: {key}\")\n",
    "    print(f\"Value: {value}\")"
   ]
  },
  {
   "cell_type": "code",
   "execution_count": null,
   "metadata": {},
   "outputs": [],
   "source": [
    "favorite_languages = {\n",
    "    'jen': 'python',\n",
    "    'sarah': 'c',\n",
    "    'edward': 'ruby',\n",
    "    'phil': 'python',\n",
    "}\n",
    "for name, language in favorite_languages.items():\n",
    "    print(f\"{name.title()}'s favorite language is {language.title()}.\")"
   ]
  },
  {
   "cell_type": "markdown",
   "metadata": {},
   "source": [
    "#### Looping Through All Key-Value Pairs\n",
    "\n",
    "- The `keys()` method is useful when you don’t need to work with all of the values in a dictionary."
   ]
  },
  {
   "cell_type": "code",
   "execution_count": null,
   "metadata": {},
   "outputs": [],
   "source": [
    "favorite_languages = {\n",
    "    'jen': 'python',\n",
    "    'sarah': 'c',\n",
    "    'edward': 'ruby',\n",
    "    'phil': 'python',\n",
    "}\n",
    "for name in favorite_languages.keys():\n",
    "    print(name.title())"
   ]
  },
  {
   "cell_type": "markdown",
   "metadata": {},
   "source": [
    "- Looping through the keys is actually the default behavior when looping through a dictionary, so this code would have exactly the same output if you wrote:"
   ]
  },
  {
   "cell_type": "code",
   "execution_count": null,
   "metadata": {},
   "outputs": [],
   "source": [
    "for name in favorite_languages:\n",
    "    print(name.title())"
   ]
  },
  {
   "cell_type": "markdown",
   "metadata": {},
   "source": [
    "- You can access the value associated with any key you care about inside the loop by using the current key."
   ]
  },
  {
   "cell_type": "code",
   "execution_count": null,
   "metadata": {},
   "outputs": [],
   "source": [
    "for name in favorite_languages:\n",
    "    print(f\"name: {name.title()},\\tfavourite programming language: {favorite_languages[name]}\")"
   ]
  },
  {
   "cell_type": "markdown",
   "metadata": {},
   "source": [
    "#### Looping Through a Dictionary’s Keys in a Particular Order\n",
    "\n",
    "\n",
    "- Starting in Python 3.7, looping through a dictionary returns the items in the same order they were inserted. \n",
    "- Sometimes, though, you’ll want to loop through a dictionary in a different order.\n",
    "- One way to do this is to sort the keys as they’re returned in the for loop. \n",
    "- You can use the `sorted()` function to get a copy of the keys in order"
   ]
  },
  {
   "cell_type": "code",
   "execution_count": null,
   "metadata": {},
   "outputs": [],
   "source": [
    "favorite_languages = {\n",
    "    'jen': 'python',\n",
    "    'sarah': 'c',\n",
    "    'edward': 'ruby',\n",
    "    'phil': 'python',\n",
    "}\n",
    "for name in sorted(favorite_languages.keys()):\n",
    "    print(f\"{name.title()}, thank you for taking the poll.\")"
   ]
  },
  {
   "cell_type": "markdown",
   "metadata": {},
   "source": [
    "### Looping Through All Values in a Dictionary\n",
    "\n",
    "- If you are primarily interested in the values that a dictionary contains, you can use the `values()` method to return a list of values without any keys. \n",
    "- This approach pulls all the values from the dictionary without checking for repeats. \n",
    "- For example, say we simply want a list of all languages chosen in our programming language poll without the name of the person who chose each language:"
   ]
  },
  {
   "cell_type": "code",
   "execution_count": null,
   "metadata": {},
   "outputs": [],
   "source": [
    "favorite_languages = {\n",
    "    'jen': 'python',\n",
    "    'sarah': 'c',\n",
    "    'edward': 'ruby',\n",
    "    'phil': 'python',\n",
    "}\n",
    "\n",
    "print(\"The following languages have been mentioned:\")\n",
    "\n",
    "for language in favorite_languages.values():\n",
    "    print(language.title())"
   ]
  },
  {
   "cell_type": "markdown",
   "metadata": {},
   "source": [
    "- To see each language chosen without repetition, we can use a `set`. \n",
    "- A set is a collection in which each item must be unique"
   ]
  },
  {
   "cell_type": "code",
   "execution_count": null,
   "metadata": {},
   "outputs": [],
   "source": [
    "favorite_languages = {\n",
    "    'jen': 'python',\n",
    "    'sarah': 'c',\n",
    "    'edward': 'ruby',\n",
    "    'phil': 'python',\n",
    "}\n",
    "\n",
    "print(\"The following languages have been mentioned:\")\n",
    "\n",
    "# thanks to 'set' we will remove all repetitions \n",
    "for language in set(favorite_languages.values()):\n",
    "    print(language.title())"
   ]
  },
  {
   "cell_type": "markdown",
   "metadata": {},
   "source": [
    "**Excercise 3**\n",
    "\n",
    "- A Python dictionary can be used to model an actual dictionary. However, to avoid confusion, let’s call it a glossary.\n",
    "- Think of five programming words you’ve learned about in the previous chapters. Use these words as the keys in your glossary, and store their meanings as values.\n",
    "- Write a loop that runs through the dictionary’s keys and values. \n",
    "- When you’re sure that your loop works, add five more Python terms to your glossary. When you run your program again, these new words and meanings should automatically be included in the output."
   ]
  },
  {
   "cell_type": "code",
   "execution_count": null,
   "metadata": {},
   "outputs": [],
   "source": []
  },
  {
   "cell_type": "markdown",
   "metadata": {},
   "source": [
    "**Excercise 4**\n",
    "\n",
    "- Make a dictionary containing three major rivers and the country each river runs through e.g. 'nile': 'egypt'.\n",
    "- Use a loop to print a sentence about each river, such as *The Nile runs through Egypt*. \n",
    "- Use a loop to print the name of each river included in the dictionary.\n",
    "- Use a loop to print the name of each country included in the dictionary"
   ]
  },
  {
   "cell_type": "code",
   "execution_count": null,
   "metadata": {},
   "outputs": [],
   "source": []
  },
  {
   "cell_type": "markdown",
   "metadata": {},
   "source": [
    "**Excercise 5**\n",
    " - Make a list of people who should take the favorite languages poll. \n",
    "     - Include some names that are already in the dictionary and some that are not - DONE\n",
    " - Loop through the list of people who should take the poll. \n",
    "     - If they have already taken the poll, print a message thanking them for responding. \n",
    "     - If they have not yet taken the poll, print a message inviting them to take the poll."
   ]
  },
  {
   "cell_type": "code",
   "execution_count": null,
   "metadata": {},
   "outputs": [],
   "source": [
    "list_of_people = ['jen', 'sarah', 'edward', 'tom']\n",
    "\n",
    "favorite_languages = {\n",
    "    'jen': 'python',\n",
    "    'sarah': 'c',\n",
    "    'edward': 'ruby',\n",
    "    'phil': 'python',\n",
    "}"
   ]
  },
  {
   "cell_type": "markdown",
   "metadata": {},
   "source": [
    "### `for` loops and *Strings*"
   ]
  },
  {
   "cell_type": "code",
   "execution_count": null,
   "metadata": {},
   "outputs": [],
   "source": [
    "# for loop and Stings\n",
    "text = \"This is a text\"\n",
    "for letter in text:\n",
    "    print(letter)"
   ]
  },
  {
   "cell_type": "markdown",
   "metadata": {},
   "source": [
    "### `for` loops and *Tuple*"
   ]
  },
  {
   "cell_type": "code",
   "execution_count": null,
   "metadata": {},
   "outputs": [],
   "source": [
    "tup = (1,2,3,4,5)\n",
    "\n",
    "for t in tup:\n",
    "    print(t)"
   ]
  },
  {
   "cell_type": "code",
   "execution_count": null,
   "metadata": {},
   "outputs": [],
   "source": [
    "# if you are iterating through a sequence that contains tuples, the item can be the tuple itself (tuple unpacking)\n",
    "list2 = [(2,4),(6,8),(10,12)]\n",
    "# Now with unpacking!\n",
    "for (t1,t2) in list2:\n",
    "    print(t1)"
   ]
  },
  {
   "cell_type": "markdown",
   "metadata": {},
   "source": [
    "# `while` loops"
   ]
  },
  {
   "cell_type": "markdown",
   "metadata": {},
   "source": [
    "    while test:\n",
    "        code statements\n",
    "    else:\n",
    "        final code statements\n",
    "        \n",
    "\n",
    " - The `while` statement in Python is one of most general ways to perform iteration\n",
    " - Use it to repeatedly execute *code statement* (or group of statements) as long as *test* condition is met\n",
    " - Once *test* condition is not met, *while* loop stops and *else* block is executed\n",
    " - It's possible that only *else* block will be run\n",
    " "
   ]
  },
  {
   "cell_type": "code",
   "execution_count": null,
   "metadata": {},
   "outputs": [],
   "source": [
    "x = 1\n",
    "\n",
    "while x < 10:\n",
    "    print('x is currently: ', x)\n",
    "    x+=1\n",
    "else:\n",
    "    print('All Done!')"
   ]
  },
  {
   "cell_type": "markdown",
   "metadata": {},
   "source": [
    "### `break`, `continue`, `pass`\n",
    "\n",
    "    while test: \n",
    "        code statement\n",
    "        if test: \n",
    "            break\n",
    "        if test: \n",
    "            continue \n",
    "    else:\n",
    "\n",
    " - Use `break`, `continue`, and `pass` statements in *loops* to add additional functionality\n",
    " - `break`: break out current (closest) enclosing loop\n",
    " - `continue`: goes to the top of the closest enclosing loop\n",
    " - `pass`: does nothing at all.\n",
    " - `break` and `continue` statements can appear anywhere inside the loop’s body (but usually they are put in conjunction with an `if` statement to perform an action based on some condition)"
   ]
  },
  {
   "cell_type": "code",
   "execution_count": null,
   "metadata": {},
   "outputs": [],
   "source": [
    "x = 0\n",
    "\n",
    "while x < 10:\n",
    "    #print('x is currently: ',x)\n",
    "    x+=1\n",
    "    if x==3:\n",
    "        # continue; # do nothing after you reach 3\n",
    "        print(x, 'Do something special when x==3')\n",
    "        break; # stop while loop after you reach 3\n",
    "    else:\n",
    "        print(x, 'When x != 3, just contiue')\n",
    "        continue\n",
    "else:\n",
    "    pass\n",
    "    "
   ]
  },
  {
   "cell_type": "code",
   "execution_count": null,
   "metadata": {},
   "outputs": [],
   "source": [
    "# DO NOT RUN THIS CODE!!!! \n",
    "while True:\n",
    "    print(\"I'm stuck in an infinite loop!\")\n",
    "# reset kernel if you didn't listen to my previous advice"
   ]
  },
  {
   "cell_type": "markdown",
   "metadata": {},
   "source": [
    "## Using `while` loop with *List* and *Dictionary*"
   ]
  },
  {
   "cell_type": "markdown",
   "metadata": {},
   "source": [
    "*In examples below we will use `input()` function which is used to get input from user; it will be covered in details in later lectures*"
   ]
  },
  {
   "cell_type": "markdown",
   "metadata": {},
   "source": [
    " - A `for` loop is effective for looping through a list, but you shouldn’t modify a list inside a for loop because Python will have trouble keeping track of the items in the list\n",
    " - To modify a list as you work through it, use a `while` loop. \n",
    " - Using `while` loops with lists and dictionaries allows you to collect, store, and organize lots of input to examine and report on later"
   ]
  },
  {
   "cell_type": "markdown",
   "metadata": {},
   "source": [
    "Consider a list of newly registered but unverified users of a website. After we verify these users, how can we move them to a separate list of confirmed users? One way would be to use a while loop to pull users from the list of unconfirmed users as we verify them and then add them to a separate list of confirmed users. Here’s what that code might look like:"
   ]
  },
  {
   "cell_type": "code",
   "execution_count": null,
   "metadata": {},
   "outputs": [],
   "source": [
    "# Start with users that need to be verified,\n",
    "# and an empty list to hold confirmed users.\n",
    "\n",
    "unconfirmed_users = ['alice', 'brian', 'candace']\n",
    "confirmed_users = []\n",
    "\n",
    "# Verify each user until there are no more unconfirmed users.\n",
    "# Move each verified user into the list of confirmed users.\n",
    "\n",
    "while unconfirmed_users:\n",
    "    current_user = unconfirmed_users.pop()\n",
    "    print(f\"Verifying user: {current_user.title()}\")\n",
    "    confirmed_users.append(current_user)\n",
    "\n",
    "# Display all confirmed users.\n",
    "print(\"\\nThe following users have been confirmed:\")\n",
    "for confirmed_user in confirmed_users:\n",
    "    print(confirmed_user.title())\n",
    "    \n",
    "print (unconfirmed_users)"
   ]
  },
  {
   "cell_type": "markdown",
   "metadata": {},
   "source": [
    "### Removing all instances of specific values from a `List`"
   ]
  },
  {
   "cell_type": "markdown",
   "metadata": {},
   "source": [
    "- Say you have a list of pets with the value *'cat'* repeated several times. \n",
    "- If you use `remove()` fuction to remove cats from the list, you will remove only first instance of *'cat'*"
   ]
  },
  {
   "cell_type": "code",
   "execution_count": null,
   "metadata": {},
   "outputs": [],
   "source": [
    "pets = ['dog', 'cat', 'dog', 'goldfish', 'cat', 'rabbit', 'cat']\n",
    "pets.remove('cat')\n",
    "print(pets)"
   ]
  },
  {
   "cell_type": "markdown",
   "metadata": {},
   "source": [
    "- To remove all instances of that value, you can run a while loop until 'cat' is no longer in the list, as shown here"
   ]
  },
  {
   "cell_type": "code",
   "execution_count": null,
   "metadata": {},
   "outputs": [],
   "source": [
    "pets = ['dog', 'cat', 'dog', 'goldfish', 'cat', 'rabbit', 'cat']\n",
    "while 'cat' in pets:\n",
    "    pets.remove('cat')\n",
    "\n",
    "print(pets)"
   ]
  },
  {
   "cell_type": "markdown",
   "metadata": {},
   "source": [
    "### Filling a Dictionary with User Input\n",
    "- You can prompt for as much input as you need in each pass through a while loop. \n",
    "- Let’s make a polling program in which each pass through the loop prompts for the participant’s name and response. \n",
    "- We’ll store the data we gather in a dictionary, because we want to connect each response with a particular user"
   ]
  },
  {
   "cell_type": "code",
   "execution_count": null,
   "metadata": {},
   "outputs": [],
   "source": [
    "responses = {}\n",
    "# Set a flag to indicate that polling is active.\n",
    "polling_active = True\n",
    "while polling_active:\n",
    "    # Prompt for the person's name and response.\n",
    "    name = input(\"\\nWhat is your name? \")\n",
    "    response = input(\"Which mountain would you like to climb someday? \")\n",
    "    \n",
    "    # Store the response in the dictionary.\n",
    "    responses[name] = response\n",
    "    \n",
    "    # Find out if anyone else is going to take the poll.\n",
    "    repeat = input(\"Would you like to let another person respond? (yes/ no) \")\n",
    "    if repeat == 'no':\n",
    "        polling_active = False\n",
    "    \n",
    "# Polling is complete. Show the results.\n",
    "print(\"\\n--- Poll Results ---\")\n",
    "\n",
    "for name, response in responses.items():\n",
    "    print(f\"{name} would like to climb {response}\")"
   ]
  },
  {
   "cell_type": "markdown",
   "metadata": {},
   "source": [
    "**Excercise 6**:\n",
    " - Make a list called `sandwich_orders` and fill it with the names of various sandwiches\n",
    " - Then make an empty list called `finished_sandwiches` \n",
    " - Loop through the list of sandwich orders and print a message for each order, such as *I made your tuna sandwich*. \n",
    " - As each sandwich is made, move it to the list of finished sandwiches. \n",
    " - After all the sandwiches have been made, print a message listing each sandwich that was made."
   ]
  },
  {
   "cell_type": "code",
   "execution_count": null,
   "metadata": {},
   "outputs": [],
   "source": []
  },
  {
   "cell_type": "markdown",
   "metadata": {},
   "source": [
    "**Excercise 7**:\n",
    "\n",
    "- Using the list `sandwich_orders` from Exercise 6, make sure the sandwich 'pastrami' appears in the list at least three times. \n",
    "- Add code near the beginning of your program to print a message saying the deli has run out of pastrami, and then use a while loop to remove all occurrences of *'pastrami'* from `sandwich_orders`\n",
    "- Make sure no pastrami sandwiches end up in `finished_sandwiches`"
   ]
  },
  {
   "cell_type": "code",
   "execution_count": null,
   "metadata": {},
   "outputs": [],
   "source": []
  },
  {
   "cell_type": "markdown",
   "metadata": {},
   "source": [
    "**Excercise 8**:\n",
    "\n",
    "- Write a program that polls users about their dream vacation. \n",
    "- Write a prompt similar to *If you could visit one place in the world, where would you go?*\n",
    "- Include a block of code that prints the results of the poll."
   ]
  },
  {
   "cell_type": "code",
   "execution_count": null,
   "metadata": {},
   "outputs": [],
   "source": []
  }
 ],
 "metadata": {
  "kernelspec": {
   "display_name": "Python 3",
   "language": "python",
   "name": "python3"
  },
  "language_info": {
   "codemirror_mode": {
    "name": "ipython",
    "version": 3
   },
   "file_extension": ".py",
   "mimetype": "text/x-python",
   "name": "python",
   "nbconvert_exporter": "python",
   "pygments_lexer": "ipython3",
   "version": "3.7.4"
  }
 },
 "nbformat": 4,
 "nbformat_minor": 1
}
