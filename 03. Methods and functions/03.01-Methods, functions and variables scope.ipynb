{
 "cells": [
  {
   "cell_type": "markdown",
   "metadata": {},
   "source": [
    "<h1><font color=\"red\">17 excercises</font></h1>"
   ]
  },
  {
   "cell_type": "markdown",
   "metadata": {},
   "source": [
    "# Methods, Functions and variables scope"
   ]
  },
  {
   "cell_type": "markdown",
   "metadata": {},
   "source": [
    "## Methods\n",
    "\n",
    " - functions built into objects; \n",
    " - they perform specific actions on an object\n",
    " - can take arguments (like a function)\n",
    " - are in the form:\n",
    "\n",
    "        object.method(arg1,arg2,etc...)\n",
    "    \n",
    "Let's take an example of the various methods a list has:\n",
    "* append\n",
    "* count\n",
    "* extend\n",
    "* insert\n",
    "* pop\n",
    "* remove\n",
    "* reverse\n",
    "* sort\n",
    "\n",
    "*Type `lst.` and press `Tab` to see all list methods*\n",
    "\n",
    "*Type `lst.count` and press `Shift+Tab` or use `help` method to see more details on `count` method*"
   ]
  },
  {
   "cell_type": "code",
   "execution_count": null,
   "metadata": {},
   "outputs": [],
   "source": [
    "# Create a simple list\n",
    "lst = [1,2,3,4,5]"
   ]
  },
  {
   "cell_type": "code",
   "execution_count": null,
   "metadata": {},
   "outputs": [],
   "source": [
    "# add elements to the end of a list\n",
    "lst.append(6)\n",
    "lst"
   ]
  },
  {
   "cell_type": "code",
   "execution_count": null,
   "metadata": {},
   "outputs": [],
   "source": [
    "# count the number of occurrences of an element in a list\n",
    "lst.count(2)"
   ]
  },
  {
   "cell_type": "code",
   "execution_count": null,
   "metadata": {},
   "outputs": [],
   "source": [
    "# get more help about the method\n",
    "help(lst.count)"
   ]
  },
  {
   "cell_type": "markdown",
   "metadata": {},
   "source": [
    "## Functions\n",
    "- named blocks of code that are designed to do one specific job\n",
    "- usually one of the main building blocks of larger programms \n",
    "- groups together a set of statements so they can be run more than once (good way to reuse the code)\n",
    "- allows to specify parameters that can serve as inputs to the functions\n",
    "- when you want to perform a particular task that you’ve defined in a function, you call the function responsible for it. \n",
    " - if you need to perform that task multiple times throughout your program, you don’t need to type all the code for the same task again and again; you just call the function dedicated to handling that task, and the call tells Python to run the code inside the function. "
   ]
  },
  {
   "cell_type": "markdown",
   "metadata": {},
   "source": [
    "### `def` Statements"
   ]
  },
  {
   "cell_type": "code",
   "execution_count": null,
   "metadata": {},
   "outputs": [],
   "source": [
    "def greet_a_user(user_name):\n",
    "    '''\n",
    "    Function that prints a greeting to user; user name is passed through function parameter\n",
    "    '''\n",
    "    print (f\"Hello, {user_name}!\")\n",
    "\n",
    "greet_a_user(\"Tom\")\n"
   ]
  },
  {
   "cell_type": "markdown",
   "metadata": {},
   "source": [
    "**How to define functions in Python?**\n",
    "\n",
    " - begin with `def` followed by the name of the function\n",
    "     - be careful with functions names (avoid using the names of [built-in function in Python](https://docs.python.org/3/library/functions.html)) and try to keep them relevant\n",
    " - put a pair of parentheses with a number of arguments separated by a comma\n",
    "     - arguments are inputs for function and can be used in function\n",
    " - put a colon\n",
    " - indent to begin the code inside function by using *whitespace* \n",
    " - put *docstring* - section where you write a basic description of the function (you will be able to see them using iPython and iPython Notebooks); *docstrings* are enclosed in triple quotes, which Python looks for when it generates documentation for the functions in your programs\n",
    " - write function the code you wish to execute; any indented lines that follow `def greet_user():` make up the body of the function; in example above the only function code is `print` statement\n",
    " \n",
    "**How to call fucntion?**\n",
    " - When you want to use this function, you call it. \n",
    " - A function call tells Python to execute the code in the function. \n",
    " - To call a function, you write the name of the function, followed by any necessary information in parentheses"
   ]
  },
  {
   "cell_type": "code",
   "execution_count": null,
   "metadata": {},
   "outputs": [],
   "source": [
    "# Example 2: A simple greeting function\n",
    "def greeting(name):\n",
    "    '''\n",
    "    fucntion's documentation\n",
    "    '''\n",
    "    print(f\"Hello {name}\")\n",
    "\n",
    "# Let's call the function\n",
    "greeting('Jose')"
   ]
  },
  {
   "cell_type": "markdown",
   "metadata": {},
   "source": [
    "**Example 1**\n",
    "\n",
    "Write a function called `display_message()` that prints one sentence telling everyone what you are learning about in this chapter. Call the function, and make sure the message displays correctly."
   ]
  },
  {
   "cell_type": "code",
   "execution_count": null,
   "metadata": {},
   "outputs": [],
   "source": []
  },
  {
   "cell_type": "markdown",
   "metadata": {},
   "source": [
    "**Example 2**\n",
    "\n",
    "Write a function called `favorite_book()` that accepts one parameter, `title`. The function should print a message, such as `One of my favorite books is The Three Body Problem`. Call the function, making sure to include a book title as an argument in the function call."
   ]
  },
  {
   "cell_type": "code",
   "execution_count": null,
   "metadata": {},
   "outputs": [],
   "source": []
  },
  {
   "cell_type": "markdown",
   "metadata": {},
   "source": [
    "### Using `return`\n",
    " - `return` allows a function to *return* a result \n",
    " - result can then be stored as a variable, or used in any other manner"
   ]
  },
  {
   "cell_type": "code",
   "execution_count": null,
   "metadata": {},
   "outputs": [],
   "source": [
    "# return sum of two numbers\n",
    "def sum_num(num1,num2):\n",
    "    return num1+num2\n",
    "\n",
    "result = sum_num(4,5)\n",
    "\n",
    "print(result)"
   ]
  },
  {
   "cell_type": "code",
   "execution_count": null,
   "metadata": {},
   "outputs": [],
   "source": [
    "# Function which checks if number is prime number\n",
    "def is_prime(num):\n",
    "    '''\n",
    "    Naive method of checking for primes. \n",
    "    '''\n",
    "    for n in range(2,num):\n",
    "        if num % n == 0:\n",
    "            print(num,'is not prime')\n",
    "            return False\n",
    "    else: # If never mod zero, then prime\n",
    "        print(num,'is prime!')\n",
    "        return True\n",
    "\n",
    "res = is_prime(17)\n",
    "res"
   ]
  },
  {
   "cell_type": "markdown",
   "metadata": {},
   "source": [
    "Note how the <code>else</code> lines up under <code>for</code> and not <code>if</code>. This is because we want the <code>for</code> loop to exhaust all possibilities in the range before printing our number is prime.\n",
    "\n",
    "Also note how we break the code after the first print statement. As soon as we determine that a number is not prime we break out of the <code>for</code> loop."
   ]
  },
  {
   "cell_type": "markdown",
   "metadata": {},
   "source": [
    "# Scope of variables \n",
    "\n",
    " - variable names in Python are stored in a *name-space*,\n",
    " - variable names have a *scope*, \n",
    " - the scope determines the visibility of variable name to other parts of code\n",
    " - **Local variables**:\n",
    "   - variables declared inside a function, are not related to other variables with the same names used outside the function: **variable names are local to the function**,\n",
    "   - variables have the scope of the block they are declared in.\n",
    " - **The <code>global</code> statement**\n",
    "    - you can tell Python to use global variable (defined at the top level of the program) instead of local one (defined inside any kind of scope such as function or class),\n",
    "    - to do so use the `global` statement,\n",
    "    - it is impossible to assign a value to a variable defined outside a function without the global statement.\n",
    "    - you can use the values of variable defined outside the function but it should be avoided since it becomes unclear as to where that variable’s definition is\n",
    "    - using the `global` statement makes it clear that you refer to variable defined in an outermost block.\n",
    "    - you can specify more than one global variable using the same global statement e.g. `global x, y, z`\n",
    " - use **globals()** and **locals()** functions to check what are current local and global variables."
   ]
  },
  {
   "cell_type": "code",
   "execution_count": null,
   "metadata": {},
   "outputs": [],
   "source": [
    "# EXAMPLE 1: Local variables\n",
    "x = 50\n",
    "\n",
    "def func(x):\n",
    "    print('x is', x) # Python uses the value of the parameter declared in the main block\n",
    "    x = 2            # Assign valiue \"2\" to variable which is local to function \n",
    "                     # (value of variable x defined in the main block remains unaffected)\n",
    "    print('Changed local x to', x)\n",
    "\n",
    "func(x)\n",
    "print('x is still', x) # display the value of variable defined in the main block (unaffected)"
   ]
  },
  {
   "cell_type": "code",
   "execution_count": null,
   "metadata": {},
   "outputs": [],
   "source": [
    "# EXAMPLE 2: Gloabal variables\n",
    "x = 50\n",
    "\n",
    "def func():\n",
    "    global x\n",
    "    print('This function is now using the global x!')\n",
    "    print('Because of global x is: ', x)\n",
    "    x = 2\n",
    "    print('Ran func(), changed global x to', x)\n",
    "\n",
    "print('Before calling func(), x is: ', x)\n",
    "func()\n",
    "print('Value of x (outside of func()) is: ', x)"
   ]
  },
  {
   "cell_type": "code",
   "execution_count": null,
   "metadata": {},
   "outputs": [],
   "source": [
    "globals()"
   ]
  },
  {
   "cell_type": "markdown",
   "metadata": {},
   "source": [
    "Rules Python uses to decide what variables you are referencing in your code:\n",
    "\n",
    "1. Name assignments will create or change local names by default.\n",
    "2. Name references search (at most) four scopes, these are:\n",
    "    \n",
    "    * **L** *(local)* — names assigned in any way within a function (def or lambda), and not declared global in that function.\n",
    "    * **E** *(enclosing function)* — Names in the local scope of any and all enclosing functions (def or lambda), from inner to outer.\n",
    "    * **G** *(global (module))* — Names assigned at the top-level of a module file, or declared global in a def within the file.\n",
    "    * **B** *(built-in (Python))* — Names preassigned in the built-in names module : open, range, SyntaxError,...\n",
    "    \n",
    "    \n",
    "3. Names declared in global and nonlocal statements map assigned names to enclosing module and function scopes."
   ]
  },
  {
   "cell_type": "code",
   "execution_count": null,
   "metadata": {},
   "outputs": [],
   "source": [
    "locals()"
   ]
  },
  {
   "cell_type": "code",
   "execution_count": null,
   "metadata": {},
   "outputs": [],
   "source": [
    "# (L)ocal\n",
    "\n",
    "# x is local here:\n",
    "f = lambda x:x**2"
   ]
  },
  {
   "cell_type": "code",
   "execution_count": null,
   "metadata": {},
   "outputs": [],
   "source": [
    "# (E)nclosing function\n",
    "name = 'This is a global name'\n",
    "\n",
    "def greet():\n",
    "    # Enclosing function\n",
    "    name = 'Sammy'\n",
    "    print('Hello '+name)\n",
    "    \n",
    "print (name)\n",
    "greet()"
   ]
  },
  {
   "cell_type": "code",
   "execution_count": null,
   "metadata": {},
   "outputs": [],
   "source": [
    "# (G)lobal\n",
    "print(name)"
   ]
  },
  {
   "cell_type": "code",
   "execution_count": null,
   "metadata": {},
   "outputs": [],
   "source": [
    "# (B)uild in\n",
    "len"
   ]
  }
 ],
 "metadata": {
  "kernelspec": {
   "display_name": "Python 3",
   "language": "python",
   "name": "python3"
  },
  "language_info": {
   "codemirror_mode": {
    "name": "ipython",
    "version": 3
   },
   "file_extension": ".py",
   "mimetype": "text/x-python",
   "name": "python",
   "nbconvert_exporter": "python",
   "pygments_lexer": "ipython3",
   "version": "3.7.4"
  }
 },
 "nbformat": 4,
 "nbformat_minor": 1
}
