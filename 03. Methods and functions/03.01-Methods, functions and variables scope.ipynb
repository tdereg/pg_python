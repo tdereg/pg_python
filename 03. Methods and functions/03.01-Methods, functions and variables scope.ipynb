{
 "cells": [
  {
   "cell_type": "markdown",
   "metadata": {},
   "source": [
    "# Methods, Functions and variables scope"
   ]
  },
  {
   "cell_type": "markdown",
   "metadata": {},
   "source": [
    "## Methods\n",
    "\n",
    " - functions built into objects; \n",
    " - they perform specific actions on an object\n",
    " - can take arguments (like a function)\n",
    " - are in the form:\n",
    "\n",
    "        object.method(arg1,arg2,etc...)\n",
    "    \n",
    "Let's take an example of the various methods a list has:\n",
    "* append\n",
    "* count\n",
    "* extend\n",
    "* insert\n",
    "* pop\n",
    "* remove\n",
    "* reverse\n",
    "* sort\n",
    "\n",
    "*Type `lst.` and press `Tab` to see all list methods*\n",
    "\n",
    "*Type `lst.count` and press `Shift+Tab` or use `help` method to see more details on `count` method*"
   ]
  },
  {
   "cell_type": "code",
   "execution_count": 2,
   "metadata": {},
   "outputs": [],
   "source": [
    "# Create a simple list\n",
    "lst = [1,2,3,4,5]"
   ]
  },
  {
   "cell_type": "code",
   "execution_count": 3,
   "metadata": {},
   "outputs": [
    {
     "data": {
      "text/plain": [
       "[1, 2, 3, 4, 5, 6]"
      ]
     },
     "execution_count": 3,
     "metadata": {},
     "output_type": "execute_result"
    }
   ],
   "source": [
    "# add elements to the end of a list\n",
    "lst.append(6)\n",
    "lst"
   ]
  },
  {
   "cell_type": "code",
   "execution_count": 4,
   "metadata": {},
   "outputs": [
    {
     "data": {
      "text/plain": [
       "1"
      ]
     },
     "execution_count": 4,
     "metadata": {},
     "output_type": "execute_result"
    }
   ],
   "source": [
    "# count the number of occurrences of an element in a list\n",
    "lst.count(2)"
   ]
  },
  {
   "cell_type": "code",
   "execution_count": 5,
   "metadata": {},
   "outputs": [
    {
     "name": "stdout",
     "output_type": "stream",
     "text": [
      "Help on built-in function count:\n",
      "\n",
      "count(value, /) method of builtins.list instance\n",
      "    Return number of occurrences of value.\n",
      "\n"
     ]
    }
   ],
   "source": [
    "# get more help about the method\n",
    "help(lst.count)"
   ]
  },
  {
   "cell_type": "markdown",
   "metadata": {},
   "source": [
    "## Functions\n",
    "\n",
    "- functions are usually one of the main building blocks of larger programms \n",
    "- function groups together a set of statements so they can be run more than once (good way to reuse the code)\n",
    "- functions allows to specify parameters that can serve as inputs to the functions\n",
    "\n"
   ]
  },
  {
   "cell_type": "markdown",
   "metadata": {},
   "source": [
    "### `def` Statements"
   ]
  },
  {
   "cell_type": "code",
   "execution_count": 23,
   "metadata": {},
   "outputs": [],
   "source": [
    "def name_of_function(arg1,arg2):\n",
    "    '''\n",
    "    This is where the function's Document String (docstring) goes\n",
    "    '''\n",
    "    # Do stuff here\n",
    "    # Return desired result"
   ]
  },
  {
   "cell_type": "markdown",
   "metadata": {},
   "source": [
    "How to define functions in Python?\n",
    " - begin with `def` followed by the name of the function\n",
    "     - be careful with functions names (avoid using the names of [built-in function in Python](https://docs.python.org/3/library/functions.html)) and try to keep them relevant\n",
    " - put a pair of parentheses with a number of arguments separated by a comma\n",
    "     - arguments are inputs for function and can be used in function\n",
    " - put a colon\n",
    " - indent to begin the code inside function by using *whitespace* \n",
    " - put *docstring* - section where you write a basic description of the function (you will be able to see thme using iPython and iPython Notebooks)\n",
    " - write function the code you wish to execute."
   ]
  },
  {
   "cell_type": "code",
   "execution_count": 6,
   "metadata": {},
   "outputs": [
    {
     "name": "stdout",
     "output_type": "stream",
     "text": [
      "Hello Jose\n"
     ]
    }
   ],
   "source": [
    "# Example 2: A simple greeting function\n",
    "def greeting(name):\n",
    "    '''\n",
    "    fucntion's documentation\n",
    "    '''\n",
    "    print(f\"Hello {name}\")\n",
    "\n",
    "# Let's call the function\n",
    "greeting('Jose')"
   ]
  },
  {
   "cell_type": "markdown",
   "metadata": {},
   "source": [
    "### Using `return`\n",
    " - `return` allows a function to *return* a result \n",
    " - result can then be stored as a variable, or used in any other manner"
   ]
  },
  {
   "cell_type": "code",
   "execution_count": 25,
   "metadata": {},
   "outputs": [
    {
     "name": "stdout",
     "output_type": "stream",
     "text": [
      "9\n"
     ]
    }
   ],
   "source": [
    "# return sum of two numbers\n",
    "def sum_num(num1,num2):\n",
    "    return num1+num2\n",
    "\n",
    "result = sum_num(4,5)\n",
    "\n",
    "print(result)"
   ]
  },
  {
   "cell_type": "code",
   "execution_count": 7,
   "metadata": {},
   "outputs": [
    {
     "name": "stdout",
     "output_type": "stream",
     "text": [
      "17 is prime!\n"
     ]
    },
    {
     "data": {
      "text/plain": [
       "True"
      ]
     },
     "execution_count": 7,
     "metadata": {},
     "output_type": "execute_result"
    }
   ],
   "source": [
    "# Function which checks if number is prime number\n",
    "def is_prime(num):\n",
    "    '''\n",
    "    Naive method of checking for primes. \n",
    "    '''\n",
    "    for n in range(2,num):\n",
    "        if num % n == 0:\n",
    "            print(num,'is not prime')\n",
    "            return False\n",
    "    else: # If never mod zero, then prime\n",
    "        print(num,'is prime!')\n",
    "        return True\n",
    "\n",
    "res = is_prime(17)\n",
    "res"
   ]
  },
  {
   "cell_type": "markdown",
   "metadata": {},
   "source": [
    "Note how the <code>else</code> lines up under <code>for</code> and not <code>if</code>. This is because we want the <code>for</code> loop to exhaust all possibilities in the range before printing our number is prime.\n",
    "\n",
    "Also note how we break the code after the first print statement. As soon as we determine that a number is not prime we break out of the <code>for</code> loop."
   ]
  },
  {
   "cell_type": "markdown",
   "metadata": {},
   "source": [
    "# Scope of variables \n",
    "\n",
    " - variable names in Python are stored in a *name-space*,\n",
    " - variable names have a *scope*, \n",
    " - the scope determines the visibility of variable name to other parts of code\n",
    " - **Local variables**:\n",
    "   - variables declared inside a function, are not related to other variables with the same names used outside the function: **variable names are local to the function**,\n",
    "   - variables have the scope of the block they are declared in.\n",
    " - **The <code>global</code> statement**\n",
    "    - you can tell Python to use global variable (defined at the top level of the program) instead of local one (defined inside any kind of scope such as function or class),\n",
    "    - to do so use the `global` statement,\n",
    "    - it is impossible to assign a value to a variable defined outside a function without the global statement.\n",
    "    - you can use the values of variable defined outside the function but it should be avoided since it becomes unclear as to where that variable’s definition is\n",
    "    - using the `global` statement makes it clear that you refer to variable defined in an outermost block.\n",
    "    - you can specify more than one global variable using the same global statement e.g. `global x, y, z`\n",
    " - use **globals()** and **locals()** functions to check what are current local and global variables."
   ]
  },
  {
   "cell_type": "code",
   "execution_count": 3,
   "metadata": {},
   "outputs": [
    {
     "name": "stdout",
     "output_type": "stream",
     "text": [
      "x is 50\n",
      "Changed local x to 2\n",
      "x is still 50\n"
     ]
    }
   ],
   "source": [
    "# EXAMPLE 1: Local variables\n",
    "x = 50\n",
    "\n",
    "def func(x):\n",
    "    print('x is', x) # Python uses the value of the parameter declared in the main block\n",
    "    x = 2            # Assign valiue \"2\" to variable which is local to function \n",
    "                     # (value of variable x defined in the main block remains unaffected)\n",
    "    print('Changed local x to', x)\n",
    "\n",
    "func(x)\n",
    "print('x is still', x) # display the value of variable defined in the main block (unaffected)"
   ]
  },
  {
   "cell_type": "code",
   "execution_count": 13,
   "metadata": {},
   "outputs": [
    {
     "name": "stdout",
     "output_type": "stream",
     "text": [
      "Before calling func(), x is:  50\n",
      "This function is now using the global x!\n",
      "Because of global x is:  50\n",
      "Ran func(), changed global x to 2\n",
      "Value of x (outside of func()) is:  2\n"
     ]
    }
   ],
   "source": [
    "# EXAMPLE 2: Gloabal variables\n",
    "x = 50\n",
    "\n",
    "def func():\n",
    "    global x\n",
    "    print('This function is now using the global x!')\n",
    "    print('Because of global x is: ', x)\n",
    "    x = 2\n",
    "    print('Ran func(), changed global x to', x)\n",
    "\n",
    "print('Before calling func(), x is: ', x)\n",
    "func()\n",
    "print('Value of x (outside of func()) is: ', x)"
   ]
  },
  {
   "cell_type": "code",
   "execution_count": 14,
   "metadata": {},
   "outputs": [
    {
     "data": {
      "text/plain": [
       "{'__name__': '__main__',\n",
       " '__doc__': 'Automatically created module for IPython interactive environment',\n",
       " '__package__': None,\n",
       " '__loader__': None,\n",
       " '__spec__': None,\n",
       " '__builtin__': <module 'builtins' (built-in)>,\n",
       " '__builtins__': <module 'builtins' (built-in)>,\n",
       " '_ih': ['',\n",
       "  'x = 25\\n\\ndef printer():\\n    x = 50\\n    return x\\n\\n# print(x)\\n# print(printer())',\n",
       "  'Rules Python uses to decide what variables you are referencing in your code:\\n\\n1. Name assignments will create or change local names by default.\\n2. Name references search (at most) four scopes, these are:\\n    \\n    * **L** *(local)* — names assigned in any way within a function (def or lambda), and not declared global in that function.\\n    * **E** *(enclosing function)* — Names in the local scope of any and all enclosing functions (def or lambda), from inner to outer.\\n    * **G** *(global (module))* — Names assigned at the top-level of a module file, or declared global in a def within the file.\\n    * **B** *(built-in (Python))* — Names preassigned in the built-in names module : open, range, SyntaxError,...\\n    \\n    \\n3. Names declared in global and nonlocal statements map assigned names to enclosing module and function scopes.',\n",
       "  '# (L)ocal\\n\\n# x is local here:\\nf = lambda x:x**2',\n",
       "  \"# (E)nclosing function\\nname = 'This is a global name'\\n\\ndef greet():\\n    # Enclosing function\\n    name = 'Sammy'\\n    print('Hello '+name)\\n    \\nprint (name)\\ngreet()\",\n",
       "  '# (G)lobal\\nprint(name)',\n",
       "  '# (B)uild in\\nlen',\n",
       "  \"x = 50\\n\\ndef func(x):\\n    print('x is', x)\\n    x = 2\\n    print('Changed local x to', x)\\n\\nfunc(x)\\nprint('x is still', x)\",\n",
       "  '# Local variables\\nx = 50\\n\\ndef func(x):\\n    print(\\'x is\\', x) # Python uses the value of the parameter declared in the main block\\n    x = 2            # Assign valiue \"2\" to variable which is local to function \\n                     # (value of variable x defined in the main block remains unaffected)\\n    print(\\'Changed local x to\\', x)\\n\\nfunc(x)\\nprint(\\'x is still\\', x) # display the value of variable defined in the main block (unaffected)',\n",
       "  'x = 25\\n\\ndef printer():\\n    x = 50\\n    return x\\n\\n# print(x)\\n# print(printer())',\n",
       "  '# EXAMPLE 1: Local variables\\nx = 50\\n\\ndef func(x):\\n    print(\\'x is\\', x) # Python uses the value of the parameter declared in the main block\\n    x = 2            # Assign valiue \"2\" to variable which is local to function \\n                     # (value of variable x defined in the main block remains unaffected)\\n    print(\\'Changed local x to\\', x)\\n\\nfunc(x)\\nprint(\\'x is still\\', x) # display the value of variable defined in the main block (unaffected)',\n",
       "  \"# EXAMPLE 2: Gloabal variables\\nx = 50\\n\\ndef func():\\n    global x\\n    print('This function is now using the global x!')\\n    print('Because of global x is: ', x)\\n    x = 2\\n    print('Ran func(), changed global x to', x)\\n\\nprint('Before calling func(), x is: ', x)\\nfunc()\\nprint('Value of x (outside of func()) is: ', x)\",\n",
       "  \"# EXAMPLE 2: Gloabal variables\\nx = 50\\n\\ndef func():\\n    global x\\n    print('This function is now using the global x!')\\n    print('Because of global x is: ', x)\\n    x = 2\\n    print('Ran func(), changed global x to', x)\\n\\nprint('Before calling func(), x is: ', x)\\nfunc()\\nprint('Value of x (outside of func()) is: ', x)\\nglobals()\",\n",
       "  \"# EXAMPLE 2: Gloabal variables\\nx = 50\\n\\ndef func():\\n    global x\\n    print('This function is now using the global x!')\\n    print('Because of global x is: ', x)\\n    x = 2\\n    print('Ran func(), changed global x to', x)\\n\\nprint('Before calling func(), x is: ', x)\\nfunc()\\nprint('Value of x (outside of func()) is: ', x)\",\n",
       "  'globals()'],\n",
       " '_oh': {6: <function len(obj, /)>, 12: {...}},\n",
       " '_dh': ['/home/slot/Workspace/pg_python'],\n",
       " 'In': ['',\n",
       "  'x = 25\\n\\ndef printer():\\n    x = 50\\n    return x\\n\\n# print(x)\\n# print(printer())',\n",
       "  'Rules Python uses to decide what variables you are referencing in your code:\\n\\n1. Name assignments will create or change local names by default.\\n2. Name references search (at most) four scopes, these are:\\n    \\n    * **L** *(local)* — names assigned in any way within a function (def or lambda), and not declared global in that function.\\n    * **E** *(enclosing function)* — Names in the local scope of any and all enclosing functions (def or lambda), from inner to outer.\\n    * **G** *(global (module))* — Names assigned at the top-level of a module file, or declared global in a def within the file.\\n    * **B** *(built-in (Python))* — Names preassigned in the built-in names module : open, range, SyntaxError,...\\n    \\n    \\n3. Names declared in global and nonlocal statements map assigned names to enclosing module and function scopes.',\n",
       "  '# (L)ocal\\n\\n# x is local here:\\nf = lambda x:x**2',\n",
       "  \"# (E)nclosing function\\nname = 'This is a global name'\\n\\ndef greet():\\n    # Enclosing function\\n    name = 'Sammy'\\n    print('Hello '+name)\\n    \\nprint (name)\\ngreet()\",\n",
       "  '# (G)lobal\\nprint(name)',\n",
       "  '# (B)uild in\\nlen',\n",
       "  \"x = 50\\n\\ndef func(x):\\n    print('x is', x)\\n    x = 2\\n    print('Changed local x to', x)\\n\\nfunc(x)\\nprint('x is still', x)\",\n",
       "  '# Local variables\\nx = 50\\n\\ndef func(x):\\n    print(\\'x is\\', x) # Python uses the value of the parameter declared in the main block\\n    x = 2            # Assign valiue \"2\" to variable which is local to function \\n                     # (value of variable x defined in the main block remains unaffected)\\n    print(\\'Changed local x to\\', x)\\n\\nfunc(x)\\nprint(\\'x is still\\', x) # display the value of variable defined in the main block (unaffected)',\n",
       "  'x = 25\\n\\ndef printer():\\n    x = 50\\n    return x\\n\\n# print(x)\\n# print(printer())',\n",
       "  '# EXAMPLE 1: Local variables\\nx = 50\\n\\ndef func(x):\\n    print(\\'x is\\', x) # Python uses the value of the parameter declared in the main block\\n    x = 2            # Assign valiue \"2\" to variable which is local to function \\n                     # (value of variable x defined in the main block remains unaffected)\\n    print(\\'Changed local x to\\', x)\\n\\nfunc(x)\\nprint(\\'x is still\\', x) # display the value of variable defined in the main block (unaffected)',\n",
       "  \"# EXAMPLE 2: Gloabal variables\\nx = 50\\n\\ndef func():\\n    global x\\n    print('This function is now using the global x!')\\n    print('Because of global x is: ', x)\\n    x = 2\\n    print('Ran func(), changed global x to', x)\\n\\nprint('Before calling func(), x is: ', x)\\nfunc()\\nprint('Value of x (outside of func()) is: ', x)\",\n",
       "  \"# EXAMPLE 2: Gloabal variables\\nx = 50\\n\\ndef func():\\n    global x\\n    print('This function is now using the global x!')\\n    print('Because of global x is: ', x)\\n    x = 2\\n    print('Ran func(), changed global x to', x)\\n\\nprint('Before calling func(), x is: ', x)\\nfunc()\\nprint('Value of x (outside of func()) is: ', x)\\nglobals()\",\n",
       "  \"# EXAMPLE 2: Gloabal variables\\nx = 50\\n\\ndef func():\\n    global x\\n    print('This function is now using the global x!')\\n    print('Because of global x is: ', x)\\n    x = 2\\n    print('Ran func(), changed global x to', x)\\n\\nprint('Before calling func(), x is: ', x)\\nfunc()\\nprint('Value of x (outside of func()) is: ', x)\",\n",
       "  'globals()'],\n",
       " 'Out': {6: <function len(obj, /)>, 12: {...}},\n",
       " 'get_ipython': <bound method InteractiveShell.get_ipython of <ipykernel.zmqshell.ZMQInteractiveShell object at 0x7f9702524c50>>,\n",
       " 'exit': <IPython.core.autocall.ZMQExitAutocall at 0x7f97024fc250>,\n",
       " 'quit': <IPython.core.autocall.ZMQExitAutocall at 0x7f97024fc250>,\n",
       " '_': {...},\n",
       " '__': <function len(obj, /)>,\n",
       " '___': '',\n",
       " '_i': \"# EXAMPLE 2: Gloabal variables\\nx = 50\\n\\ndef func():\\n    global x\\n    print('This function is now using the global x!')\\n    print('Because of global x is: ', x)\\n    x = 2\\n    print('Ran func(), changed global x to', x)\\n\\nprint('Before calling func(), x is: ', x)\\nfunc()\\nprint('Value of x (outside of func()) is: ', x)\",\n",
       " '_ii': \"# EXAMPLE 2: Gloabal variables\\nx = 50\\n\\ndef func():\\n    global x\\n    print('This function is now using the global x!')\\n    print('Because of global x is: ', x)\\n    x = 2\\n    print('Ran func(), changed global x to', x)\\n\\nprint('Before calling func(), x is: ', x)\\nfunc()\\nprint('Value of x (outside of func()) is: ', x)\\nglobals()\",\n",
       " '_iii': \"# EXAMPLE 2: Gloabal variables\\nx = 50\\n\\ndef func():\\n    global x\\n    print('This function is now using the global x!')\\n    print('Because of global x is: ', x)\\n    x = 2\\n    print('Ran func(), changed global x to', x)\\n\\nprint('Before calling func(), x is: ', x)\\nfunc()\\nprint('Value of x (outside of func()) is: ', x)\",\n",
       " '_i1': 'x = 25\\n\\ndef printer():\\n    x = 50\\n    return x\\n\\n# print(x)\\n# print(printer())',\n",
       " 'x': 2,\n",
       " 'printer': <function __main__.printer()>,\n",
       " '_i2': 'Rules Python uses to decide what variables you are referencing in your code:\\n\\n1. Name assignments will create or change local names by default.\\n2. Name references search (at most) four scopes, these are:\\n    \\n    * **L** *(local)* — names assigned in any way within a function (def or lambda), and not declared global in that function.\\n    * **E** *(enclosing function)* — Names in the local scope of any and all enclosing functions (def or lambda), from inner to outer.\\n    * **G** *(global (module))* — Names assigned at the top-level of a module file, or declared global in a def within the file.\\n    * **B** *(built-in (Python))* — Names preassigned in the built-in names module : open, range, SyntaxError,...\\n    \\n    \\n3. Names declared in global and nonlocal statements map assigned names to enclosing module and function scopes.',\n",
       " '_i3': '# (L)ocal\\n\\n# x is local here:\\nf = lambda x:x**2',\n",
       " 'f': <function __main__.<lambda>(x)>,\n",
       " '_i4': \"# (E)nclosing function\\nname = 'This is a global name'\\n\\ndef greet():\\n    # Enclosing function\\n    name = 'Sammy'\\n    print('Hello '+name)\\n    \\nprint (name)\\ngreet()\",\n",
       " 'name': 'This is a global name',\n",
       " 'greet': <function __main__.greet()>,\n",
       " '_i5': '# (G)lobal\\nprint(name)',\n",
       " '_i6': '# (B)uild in\\nlen',\n",
       " '_6': <function len(obj, /)>,\n",
       " '_i7': \"x = 50\\n\\ndef func(x):\\n    print('x is', x)\\n    x = 2\\n    print('Changed local x to', x)\\n\\nfunc(x)\\nprint('x is still', x)\",\n",
       " 'func': <function __main__.func()>,\n",
       " '_i8': '# Local variables\\nx = 50\\n\\ndef func(x):\\n    print(\\'x is\\', x) # Python uses the value of the parameter declared in the main block\\n    x = 2            # Assign valiue \"2\" to variable which is local to function \\n                     # (value of variable x defined in the main block remains unaffected)\\n    print(\\'Changed local x to\\', x)\\n\\nfunc(x)\\nprint(\\'x is still\\', x) # display the value of variable defined in the main block (unaffected)',\n",
       " '_i9': 'x = 25\\n\\ndef printer():\\n    x = 50\\n    return x\\n\\n# print(x)\\n# print(printer())',\n",
       " '_i10': '# EXAMPLE 1: Local variables\\nx = 50\\n\\ndef func(x):\\n    print(\\'x is\\', x) # Python uses the value of the parameter declared in the main block\\n    x = 2            # Assign valiue \"2\" to variable which is local to function \\n                     # (value of variable x defined in the main block remains unaffected)\\n    print(\\'Changed local x to\\', x)\\n\\nfunc(x)\\nprint(\\'x is still\\', x) # display the value of variable defined in the main block (unaffected)',\n",
       " '_i11': \"# EXAMPLE 2: Gloabal variables\\nx = 50\\n\\ndef func():\\n    global x\\n    print('This function is now using the global x!')\\n    print('Because of global x is: ', x)\\n    x = 2\\n    print('Ran func(), changed global x to', x)\\n\\nprint('Before calling func(), x is: ', x)\\nfunc()\\nprint('Value of x (outside of func()) is: ', x)\",\n",
       " '_i12': \"# EXAMPLE 2: Gloabal variables\\nx = 50\\n\\ndef func():\\n    global x\\n    print('This function is now using the global x!')\\n    print('Because of global x is: ', x)\\n    x = 2\\n    print('Ran func(), changed global x to', x)\\n\\nprint('Before calling func(), x is: ', x)\\nfunc()\\nprint('Value of x (outside of func()) is: ', x)\\nglobals()\",\n",
       " '_12': {...},\n",
       " '_i13': \"# EXAMPLE 2: Gloabal variables\\nx = 50\\n\\ndef func():\\n    global x\\n    print('This function is now using the global x!')\\n    print('Because of global x is: ', x)\\n    x = 2\\n    print('Ran func(), changed global x to', x)\\n\\nprint('Before calling func(), x is: ', x)\\nfunc()\\nprint('Value of x (outside of func()) is: ', x)\",\n",
       " '_i14': 'globals()'}"
      ]
     },
     "execution_count": 14,
     "metadata": {},
     "output_type": "execute_result"
    }
   ],
   "source": [
    "globals()"
   ]
  },
  {
   "cell_type": "markdown",
   "metadata": {},
   "source": [
    "Rules Python uses to decide what variables you are referencing in your code:\n",
    "\n",
    "1. Name assignments will create or change local names by default.\n",
    "2. Name references search (at most) four scopes, these are:\n",
    "    \n",
    "    * **L** *(local)* — names assigned in any way within a function (def or lambda), and not declared global in that function.\n",
    "    * **E** *(enclosing function)* — Names in the local scope of any and all enclosing functions (def or lambda), from inner to outer.\n",
    "    * **G** *(global (module))* — Names assigned at the top-level of a module file, or declared global in a def within the file.\n",
    "    * **B** *(built-in (Python))* — Names preassigned in the built-in names module : open, range, SyntaxError,...\n",
    "    \n",
    "    \n",
    "3. Names declared in global and nonlocal statements map assigned names to enclosing module and function scopes."
   ]
  },
  {
   "cell_type": "code",
   "execution_count": 15,
   "metadata": {},
   "outputs": [
    {
     "data": {
      "text/plain": [
       "{'__name__': '__main__',\n",
       " '__doc__': 'Automatically created module for IPython interactive environment',\n",
       " '__package__': None,\n",
       " '__loader__': None,\n",
       " '__spec__': None,\n",
       " '__builtin__': <module 'builtins' (built-in)>,\n",
       " '__builtins__': <module 'builtins' (built-in)>,\n",
       " '_ih': ['',\n",
       "  'x = 25\\n\\ndef printer():\\n    x = 50\\n    return x\\n\\n# print(x)\\n# print(printer())',\n",
       "  'Rules Python uses to decide what variables you are referencing in your code:\\n\\n1. Name assignments will create or change local names by default.\\n2. Name references search (at most) four scopes, these are:\\n    \\n    * **L** *(local)* — names assigned in any way within a function (def or lambda), and not declared global in that function.\\n    * **E** *(enclosing function)* — Names in the local scope of any and all enclosing functions (def or lambda), from inner to outer.\\n    * **G** *(global (module))* — Names assigned at the top-level of a module file, or declared global in a def within the file.\\n    * **B** *(built-in (Python))* — Names preassigned in the built-in names module : open, range, SyntaxError,...\\n    \\n    \\n3. Names declared in global and nonlocal statements map assigned names to enclosing module and function scopes.',\n",
       "  '# (L)ocal\\n\\n# x is local here:\\nf = lambda x:x**2',\n",
       "  \"# (E)nclosing function\\nname = 'This is a global name'\\n\\ndef greet():\\n    # Enclosing function\\n    name = 'Sammy'\\n    print('Hello '+name)\\n    \\nprint (name)\\ngreet()\",\n",
       "  '# (G)lobal\\nprint(name)',\n",
       "  '# (B)uild in\\nlen',\n",
       "  \"x = 50\\n\\ndef func(x):\\n    print('x is', x)\\n    x = 2\\n    print('Changed local x to', x)\\n\\nfunc(x)\\nprint('x is still', x)\",\n",
       "  '# Local variables\\nx = 50\\n\\ndef func(x):\\n    print(\\'x is\\', x) # Python uses the value of the parameter declared in the main block\\n    x = 2            # Assign valiue \"2\" to variable which is local to function \\n                     # (value of variable x defined in the main block remains unaffected)\\n    print(\\'Changed local x to\\', x)\\n\\nfunc(x)\\nprint(\\'x is still\\', x) # display the value of variable defined in the main block (unaffected)',\n",
       "  'x = 25\\n\\ndef printer():\\n    x = 50\\n    return x\\n\\n# print(x)\\n# print(printer())',\n",
       "  '# EXAMPLE 1: Local variables\\nx = 50\\n\\ndef func(x):\\n    print(\\'x is\\', x) # Python uses the value of the parameter declared in the main block\\n    x = 2            # Assign valiue \"2\" to variable which is local to function \\n                     # (value of variable x defined in the main block remains unaffected)\\n    print(\\'Changed local x to\\', x)\\n\\nfunc(x)\\nprint(\\'x is still\\', x) # display the value of variable defined in the main block (unaffected)',\n",
       "  \"# EXAMPLE 2: Gloabal variables\\nx = 50\\n\\ndef func():\\n    global x\\n    print('This function is now using the global x!')\\n    print('Because of global x is: ', x)\\n    x = 2\\n    print('Ran func(), changed global x to', x)\\n\\nprint('Before calling func(), x is: ', x)\\nfunc()\\nprint('Value of x (outside of func()) is: ', x)\",\n",
       "  \"# EXAMPLE 2: Gloabal variables\\nx = 50\\n\\ndef func():\\n    global x\\n    print('This function is now using the global x!')\\n    print('Because of global x is: ', x)\\n    x = 2\\n    print('Ran func(), changed global x to', x)\\n\\nprint('Before calling func(), x is: ', x)\\nfunc()\\nprint('Value of x (outside of func()) is: ', x)\\nglobals()\",\n",
       "  \"# EXAMPLE 2: Gloabal variables\\nx = 50\\n\\ndef func():\\n    global x\\n    print('This function is now using the global x!')\\n    print('Because of global x is: ', x)\\n    x = 2\\n    print('Ran func(), changed global x to', x)\\n\\nprint('Before calling func(), x is: ', x)\\nfunc()\\nprint('Value of x (outside of func()) is: ', x)\",\n",
       "  'globals()',\n",
       "  'locals()'],\n",
       " '_oh': {6: <function len(obj, /)>, 12: {...}, 14: {...}},\n",
       " '_dh': ['/home/slot/Workspace/pg_python'],\n",
       " 'In': ['',\n",
       "  'x = 25\\n\\ndef printer():\\n    x = 50\\n    return x\\n\\n# print(x)\\n# print(printer())',\n",
       "  'Rules Python uses to decide what variables you are referencing in your code:\\n\\n1. Name assignments will create or change local names by default.\\n2. Name references search (at most) four scopes, these are:\\n    \\n    * **L** *(local)* — names assigned in any way within a function (def or lambda), and not declared global in that function.\\n    * **E** *(enclosing function)* — Names in the local scope of any and all enclosing functions (def or lambda), from inner to outer.\\n    * **G** *(global (module))* — Names assigned at the top-level of a module file, or declared global in a def within the file.\\n    * **B** *(built-in (Python))* — Names preassigned in the built-in names module : open, range, SyntaxError,...\\n    \\n    \\n3. Names declared in global and nonlocal statements map assigned names to enclosing module and function scopes.',\n",
       "  '# (L)ocal\\n\\n# x is local here:\\nf = lambda x:x**2',\n",
       "  \"# (E)nclosing function\\nname = 'This is a global name'\\n\\ndef greet():\\n    # Enclosing function\\n    name = 'Sammy'\\n    print('Hello '+name)\\n    \\nprint (name)\\ngreet()\",\n",
       "  '# (G)lobal\\nprint(name)',\n",
       "  '# (B)uild in\\nlen',\n",
       "  \"x = 50\\n\\ndef func(x):\\n    print('x is', x)\\n    x = 2\\n    print('Changed local x to', x)\\n\\nfunc(x)\\nprint('x is still', x)\",\n",
       "  '# Local variables\\nx = 50\\n\\ndef func(x):\\n    print(\\'x is\\', x) # Python uses the value of the parameter declared in the main block\\n    x = 2            # Assign valiue \"2\" to variable which is local to function \\n                     # (value of variable x defined in the main block remains unaffected)\\n    print(\\'Changed local x to\\', x)\\n\\nfunc(x)\\nprint(\\'x is still\\', x) # display the value of variable defined in the main block (unaffected)',\n",
       "  'x = 25\\n\\ndef printer():\\n    x = 50\\n    return x\\n\\n# print(x)\\n# print(printer())',\n",
       "  '# EXAMPLE 1: Local variables\\nx = 50\\n\\ndef func(x):\\n    print(\\'x is\\', x) # Python uses the value of the parameter declared in the main block\\n    x = 2            # Assign valiue \"2\" to variable which is local to function \\n                     # (value of variable x defined in the main block remains unaffected)\\n    print(\\'Changed local x to\\', x)\\n\\nfunc(x)\\nprint(\\'x is still\\', x) # display the value of variable defined in the main block (unaffected)',\n",
       "  \"# EXAMPLE 2: Gloabal variables\\nx = 50\\n\\ndef func():\\n    global x\\n    print('This function is now using the global x!')\\n    print('Because of global x is: ', x)\\n    x = 2\\n    print('Ran func(), changed global x to', x)\\n\\nprint('Before calling func(), x is: ', x)\\nfunc()\\nprint('Value of x (outside of func()) is: ', x)\",\n",
       "  \"# EXAMPLE 2: Gloabal variables\\nx = 50\\n\\ndef func():\\n    global x\\n    print('This function is now using the global x!')\\n    print('Because of global x is: ', x)\\n    x = 2\\n    print('Ran func(), changed global x to', x)\\n\\nprint('Before calling func(), x is: ', x)\\nfunc()\\nprint('Value of x (outside of func()) is: ', x)\\nglobals()\",\n",
       "  \"# EXAMPLE 2: Gloabal variables\\nx = 50\\n\\ndef func():\\n    global x\\n    print('This function is now using the global x!')\\n    print('Because of global x is: ', x)\\n    x = 2\\n    print('Ran func(), changed global x to', x)\\n\\nprint('Before calling func(), x is: ', x)\\nfunc()\\nprint('Value of x (outside of func()) is: ', x)\",\n",
       "  'globals()',\n",
       "  'locals()'],\n",
       " 'Out': {6: <function len(obj, /)>, 12: {...}, 14: {...}},\n",
       " 'get_ipython': <bound method InteractiveShell.get_ipython of <ipykernel.zmqshell.ZMQInteractiveShell object at 0x7f9702524c50>>,\n",
       " 'exit': <IPython.core.autocall.ZMQExitAutocall at 0x7f97024fc250>,\n",
       " 'quit': <IPython.core.autocall.ZMQExitAutocall at 0x7f97024fc250>,\n",
       " '_': {...},\n",
       " '__': {...},\n",
       " '___': <function len(obj, /)>,\n",
       " '_i': 'globals()',\n",
       " '_ii': \"# EXAMPLE 2: Gloabal variables\\nx = 50\\n\\ndef func():\\n    global x\\n    print('This function is now using the global x!')\\n    print('Because of global x is: ', x)\\n    x = 2\\n    print('Ran func(), changed global x to', x)\\n\\nprint('Before calling func(), x is: ', x)\\nfunc()\\nprint('Value of x (outside of func()) is: ', x)\",\n",
       " '_iii': \"# EXAMPLE 2: Gloabal variables\\nx = 50\\n\\ndef func():\\n    global x\\n    print('This function is now using the global x!')\\n    print('Because of global x is: ', x)\\n    x = 2\\n    print('Ran func(), changed global x to', x)\\n\\nprint('Before calling func(), x is: ', x)\\nfunc()\\nprint('Value of x (outside of func()) is: ', x)\\nglobals()\",\n",
       " '_i1': 'x = 25\\n\\ndef printer():\\n    x = 50\\n    return x\\n\\n# print(x)\\n# print(printer())',\n",
       " 'x': 2,\n",
       " 'printer': <function __main__.printer()>,\n",
       " '_i2': 'Rules Python uses to decide what variables you are referencing in your code:\\n\\n1. Name assignments will create or change local names by default.\\n2. Name references search (at most) four scopes, these are:\\n    \\n    * **L** *(local)* — names assigned in any way within a function (def or lambda), and not declared global in that function.\\n    * **E** *(enclosing function)* — Names in the local scope of any and all enclosing functions (def or lambda), from inner to outer.\\n    * **G** *(global (module))* — Names assigned at the top-level of a module file, or declared global in a def within the file.\\n    * **B** *(built-in (Python))* — Names preassigned in the built-in names module : open, range, SyntaxError,...\\n    \\n    \\n3. Names declared in global and nonlocal statements map assigned names to enclosing module and function scopes.',\n",
       " '_i3': '# (L)ocal\\n\\n# x is local here:\\nf = lambda x:x**2',\n",
       " 'f': <function __main__.<lambda>(x)>,\n",
       " '_i4': \"# (E)nclosing function\\nname = 'This is a global name'\\n\\ndef greet():\\n    # Enclosing function\\n    name = 'Sammy'\\n    print('Hello '+name)\\n    \\nprint (name)\\ngreet()\",\n",
       " 'name': 'This is a global name',\n",
       " 'greet': <function __main__.greet()>,\n",
       " '_i5': '# (G)lobal\\nprint(name)',\n",
       " '_i6': '# (B)uild in\\nlen',\n",
       " '_6': <function len(obj, /)>,\n",
       " '_i7': \"x = 50\\n\\ndef func(x):\\n    print('x is', x)\\n    x = 2\\n    print('Changed local x to', x)\\n\\nfunc(x)\\nprint('x is still', x)\",\n",
       " 'func': <function __main__.func()>,\n",
       " '_i8': '# Local variables\\nx = 50\\n\\ndef func(x):\\n    print(\\'x is\\', x) # Python uses the value of the parameter declared in the main block\\n    x = 2            # Assign valiue \"2\" to variable which is local to function \\n                     # (value of variable x defined in the main block remains unaffected)\\n    print(\\'Changed local x to\\', x)\\n\\nfunc(x)\\nprint(\\'x is still\\', x) # display the value of variable defined in the main block (unaffected)',\n",
       " '_i9': 'x = 25\\n\\ndef printer():\\n    x = 50\\n    return x\\n\\n# print(x)\\n# print(printer())',\n",
       " '_i10': '# EXAMPLE 1: Local variables\\nx = 50\\n\\ndef func(x):\\n    print(\\'x is\\', x) # Python uses the value of the parameter declared in the main block\\n    x = 2            # Assign valiue \"2\" to variable which is local to function \\n                     # (value of variable x defined in the main block remains unaffected)\\n    print(\\'Changed local x to\\', x)\\n\\nfunc(x)\\nprint(\\'x is still\\', x) # display the value of variable defined in the main block (unaffected)',\n",
       " '_i11': \"# EXAMPLE 2: Gloabal variables\\nx = 50\\n\\ndef func():\\n    global x\\n    print('This function is now using the global x!')\\n    print('Because of global x is: ', x)\\n    x = 2\\n    print('Ran func(), changed global x to', x)\\n\\nprint('Before calling func(), x is: ', x)\\nfunc()\\nprint('Value of x (outside of func()) is: ', x)\",\n",
       " '_i12': \"# EXAMPLE 2: Gloabal variables\\nx = 50\\n\\ndef func():\\n    global x\\n    print('This function is now using the global x!')\\n    print('Because of global x is: ', x)\\n    x = 2\\n    print('Ran func(), changed global x to', x)\\n\\nprint('Before calling func(), x is: ', x)\\nfunc()\\nprint('Value of x (outside of func()) is: ', x)\\nglobals()\",\n",
       " '_12': {...},\n",
       " '_i13': \"# EXAMPLE 2: Gloabal variables\\nx = 50\\n\\ndef func():\\n    global x\\n    print('This function is now using the global x!')\\n    print('Because of global x is: ', x)\\n    x = 2\\n    print('Ran func(), changed global x to', x)\\n\\nprint('Before calling func(), x is: ', x)\\nfunc()\\nprint('Value of x (outside of func()) is: ', x)\",\n",
       " '_i14': 'globals()',\n",
       " '_14': {...},\n",
       " '_i15': 'locals()'}"
      ]
     },
     "execution_count": 15,
     "metadata": {},
     "output_type": "execute_result"
    }
   ],
   "source": [
    "locals()"
   ]
  },
  {
   "cell_type": "code",
   "execution_count": 3,
   "metadata": {},
   "outputs": [],
   "source": [
    "# (L)ocal\n",
    "\n",
    "# x is local here:\n",
    "f = lambda x:x**2"
   ]
  },
  {
   "cell_type": "code",
   "execution_count": 4,
   "metadata": {},
   "outputs": [
    {
     "name": "stdout",
     "output_type": "stream",
     "text": [
      "This is a global name\n",
      "Hello Sammy\n"
     ]
    }
   ],
   "source": [
    "# (E)nclosing function\n",
    "name = 'This is a global name'\n",
    "\n",
    "def greet():\n",
    "    # Enclosing function\n",
    "    name = 'Sammy'\n",
    "    print('Hello '+name)\n",
    "    \n",
    "print (name)\n",
    "greet()"
   ]
  },
  {
   "cell_type": "code",
   "execution_count": 5,
   "metadata": {},
   "outputs": [
    {
     "name": "stdout",
     "output_type": "stream",
     "text": [
      "This is a global name\n"
     ]
    }
   ],
   "source": [
    "# (G)lobal\n",
    "print(name)"
   ]
  },
  {
   "cell_type": "code",
   "execution_count": 6,
   "metadata": {},
   "outputs": [
    {
     "data": {
      "text/plain": [
       "<function len(obj, /)>"
      ]
     },
     "execution_count": 6,
     "metadata": {},
     "output_type": "execute_result"
    }
   ],
   "source": [
    "# (B)uild in\n",
    "len"
   ]
  }
 ],
 "metadata": {
  "kernelspec": {
   "display_name": "Python 3",
   "language": "python",
   "name": "python3"
  },
  "language_info": {
   "codemirror_mode": {
    "name": "ipython",
    "version": 3
   },
   "file_extension": ".py",
   "mimetype": "text/x-python",
   "name": "python",
   "nbconvert_exporter": "python",
   "pygments_lexer": "ipython3",
   "version": "3.7.4"
  }
 },
 "nbformat": 4,
 "nbformat_minor": 1
}
