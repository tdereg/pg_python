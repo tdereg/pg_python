{
 "cells": [
  {
   "cell_type": "code",
   "execution_count": null,
   "metadata": {},
   "outputs": [],
   "source": []
  },
  {
   "cell_type": "raw",
   "metadata": {},
   "source": [
    "# Methods, Functions and variables scope"
   ]
  },
  {
   "cell_type": "markdown",
   "metadata": {},
   "source": [
    "## Methods\n",
    "\n",
    " - functions built into objects; \n",
    " - they perform specific actions on an object\n",
    " - can take arguments (like a function)\n",
    " - are in the form:\n",
    "\n",
    "        object.method(arg1,arg2,etc...)\n",
    "    \n",
    "Let's take an example of the various methods a list has:\n",
    "* append\n",
    "* count\n",
    "* extend\n",
    "* insert\n",
    "* pop\n",
    "* remove\n",
    "* reverse\n",
    "* sort\n",
    "\n",
    "*Type `lst.` and press `Tab` to see all list methods*\n",
    "\n",
    "*Type `lst.count` and press `Shift+Tab` or use `help` method to see more details on `count` method*"
   ]
  },
  {
   "cell_type": "code",
   "execution_count": null,
   "metadata": {},
   "outputs": [],
   "source": [
    "# Create a simple list\n",
    "lst = [1,2,3,4,5]"
   ]
  },
  {
   "cell_type": "code",
   "execution_count": null,
   "metadata": {},
   "outputs": [],
   "source": [
    "# add elements to the end of a list\n",
    "lst.append(6)\n",
    "lst"
   ]
  },
  {
   "cell_type": "code",
   "execution_count": null,
   "metadata": {},
   "outputs": [],
   "source": [
    "# count the number of occurrences of an element in a list\n",
    "lst.count(2)"
   ]
  },
  {
   "cell_type": "code",
   "execution_count": null,
   "metadata": {},
   "outputs": [],
   "source": [
    "# get more help about the method\n",
    "help(lst.count)"
   ]
  },
  {
   "cell_type": "markdown",
   "metadata": {},
   "source": [
    "## Functions\n",
    "- named blocks of code that are designed to do one specific job\n",
    "- usually one of the main building blocks of larger programms \n",
    "- groups together a set of statements so they can be run more than once (good way to reuse the code)\n",
    "- allows to specify parameters that can serve as inputs to the functions\n",
    "- when you want to perform a particular task that you’ve defined in a function, you call the function responsible for it. \n",
    " - if you need to perform that task multiple times throughout your program, you don’t need to type all the code for the same task again and again; you just call the function dedicated to handling that task, and the call tells Python to run the code inside the function. "
   ]
  },
  {
   "cell_type": "markdown",
   "metadata": {},
   "source": [
    "### `def` Statements"
   ]
  },
  {
   "cell_type": "code",
   "execution_count": null,
   "metadata": {},
   "outputs": [],
   "source": [
    "def greet_a_user(user_name):\n",
    "    '''\n",
    "    Function that prints a greeting to user; user name is passed through function parameter\n",
    "    '''\n",
    "    print (f\"Hello, {user_name}!\")\n",
    "\n",
    "greet_a_user(\"Tom\")\n"
   ]
  },
  {
   "cell_type": "markdown",
   "metadata": {},
   "source": [
    "**How to define functions in Python?**\n",
    "\n",
    " - function definition \n",
    "     - begin with `def` followed by the name of the function\n",
    "     - be careful with functions names (avoid using the names of [built-in function in Python](https://docs.python.org/3/library/functions.html)) and try to keep them relevant\n",
    "     - keyword `def` tells Python that you’re defining a function; it tells Python the name of the function and, if applicable, what kind of information the function needs to do its job (function parameters).\n",
    "     - fucntion parameters\n",
    "         - to define parameters that needs to be passed to the fucntion, put a pair of parentheses with a number of arguments separated by a comma\n",
    "         - if you don't want function to take any arguments, leave parentheses empty\n",
    "         - arguments are inputs for function and can be used in function\n",
    "         - in our example fucntion `greet_a_user` takes one parameter, `user_name`\n",
    "         - \n",
    "     - put a colon\n",
    " - function documentation\n",
    "     - indent to begin the code inside function by using *whitespaces* \n",
    "     - put *docstring* - section where you write a basic description of the function\n",
    "     - you will be able to see them using iPython and iPython Notebooks); \n",
    "     - *docstrings* are enclosed in triple quotes (triple single quotes or triple double quotes), which Python looks for when it generates documentation for the functions in your programs\n",
    " - function body\n",
    "     - write function the code you wish to execute; any indented lines that follow `def greet_user():` make up the body of the function; in example above the only function code is `print` statement\n",
    " \n",
    "**How to call fucntion?**\n",
    " - When you want to use this function, you call it. \n",
    " - A function call tells Python to execute the code in the function. \n",
    " - To call a function, you write the name of the function, followed by any necessary information in parentheses\n",
    " - Last line of code in example above calls the functions"
   ]
  },
  {
   "cell_type": "markdown",
   "metadata": {},
   "source": [
    "**Example 1**\n",
    "\n",
    "Write a function called `display_message()` that prints one sentence telling everyone what you are learning about in this chapter. Call the function, and make sure the message displays correctly."
   ]
  },
  {
   "cell_type": "code",
   "execution_count": null,
   "metadata": {},
   "outputs": [],
   "source": []
  },
  {
   "cell_type": "markdown",
   "metadata": {},
   "source": [
    "**Example 2**\n",
    "\n",
    "Write a function called `favorite_book()` that accepts one parameter, `title`. The function should print a message, such as `One of my favorite books is The Three Body Problem`. Call the function, making sure to include a book title as an argument in the function call."
   ]
  },
  {
   "cell_type": "code",
   "execution_count": null,
   "metadata": {},
   "outputs": [],
   "source": []
  },
  {
   "cell_type": "markdown",
   "metadata": {},
   "source": [
    "## Aassing Arguments\n",
    "- because a function definition can have multiple parameters, a function call may need multiple arguments,\n",
    "- you can pass arguments to your functions in three ways:\n",
    "    - **positional arguments**, which need to be in the same order the parameters were written; \n",
    "    - **keyword arguments**, where each argument consists of a variable name and a value,\n",
    "    - **lists and dictionaries of values**"
   ]
  },
  {
   "cell_type": "markdown",
   "metadata": {},
   "source": [
    "#### Positional Arguments\n",
    "- When you call a function, Python must match each argument in the function call with a parameter in the function definition. \n",
    "- The simplest way to do this is based on the order of the arguments provided; values matched up this way are called **positional arguments**"
   ]
  },
  {
   "cell_type": "code",
   "execution_count": 2,
   "metadata": {},
   "outputs": [
    {
     "name": "stdout",
     "output_type": "stream",
     "text": [
      "\n",
      "I have a hamster.\n",
      "My hamster's name is Harry.\n"
     ]
    }
   ],
   "source": [
    "def describe_pet(animal_type, pet_name):\n",
    "    \"\"\"Display information about a pet.\"\"\"\n",
    "    print(f\"\\nI have a {animal_type}.\")\n",
    "    print(f\"My {animal_type}'s name is {pet_name.title()}.\")\n",
    "\n",
    "describe_pet('hamster', 'harry')"
   ]
  },
  {
   "cell_type": "markdown",
   "metadata": {},
   "source": [
    "- You can get unexpected results if you mix up the order of the arguments in a function call when using positional arguments"
   ]
  },
  {
   "cell_type": "code",
   "execution_count": 3,
   "metadata": {},
   "outputs": [
    {
     "name": "stdout",
     "output_type": "stream",
     "text": [
      "\n",
      "I have a harry.\n",
      "My harry's name is Hamster.\n"
     ]
    }
   ],
   "source": [
    "describe_pet('harry', 'hamster')"
   ]
  },
  {
   "cell_type": "markdown",
   "metadata": {},
   "source": [
    "#### Keyword Arguments\n",
    "- A keyword argument is a name-value pair that you pass to a function. \n",
    "- You directly associate the name and the value within the argument, so when you pass the argument to the function, there’s no confusion (you won’t end up with a harry named Hamster). \n",
    "- Keyword arguments free you from having to worry about correctly ordering your arguments in the function call, and they clarify the role of each value in the function call."
   ]
  },
  {
   "cell_type": "code",
   "execution_count": 7,
   "metadata": {},
   "outputs": [
    {
     "name": "stdout",
     "output_type": "stream",
     "text": [
      "\n",
      "I have a hamster.\n",
      "My hamster's name is Harry.\n",
      "\n",
      "I have a hamster.\n",
      "My hamster's name is Harry.\n"
     ]
    }
   ],
   "source": [
    "def describe_pet(animal_type, pet_name):\n",
    "    \"\"\"Display information about a pet.\"\"\"\n",
    "    print(f\"\\nI have a {animal_type}.\")\n",
    "    print(f\"My {animal_type}'s name is {pet_name.title()}.\")\n",
    "\n",
    "describe_pet(animal_type='hamster', pet_name='harry')\n",
    "\n",
    "# The order of keyword arguments doesn’t matter because Python knows where each value should go.\n",
    "describe_pet( pet_name='harry', animal_type='hamster')"
   ]
  },
  {
   "cell_type": "markdown",
   "metadata": {},
   "source": [
    "#### Default Values\n",
    "- When writing a function, you can define a default value for each parameter.\n",
    "- If an argument for a parameter is provided in the function call, Python uses the argument value. \n",
    "- If not, it uses the parameter’s default value. \n",
    "- Using default values can simplify your function calls and clarify the ways in which your functions are typically used"
   ]
  },
  {
   "cell_type": "code",
   "execution_count": 9,
   "metadata": {},
   "outputs": [
    {
     "name": "stdout",
     "output_type": "stream",
     "text": [
      "\n",
      "I have a dog.\n",
      "My dog's name is Willie.\n"
     ]
    }
   ],
   "source": [
    "def describe_pet(pet_name, animal_type='dog'):\n",
    "    \"\"\"Display information about a pet.\"\"\"\n",
    "    print(f\"\\nI have a {animal_type}.\")\n",
    "    print(f\"My {animal_type}'s name is {pet_name.title()}.\")\n",
    "\n",
    "describe_pet(pet_name='willie')"
   ]
  },
  {
   "cell_type": "code",
   "execution_count": 10,
   "metadata": {},
   "outputs": [
    {
     "name": "stdout",
     "output_type": "stream",
     "text": [
      "\n",
      "I have a cat.\n",
      "My cat's name is Willie.\n"
     ]
    }
   ],
   "source": [
    "describe_pet(pet_name='willie', animal_type='cat')"
   ]
  },
  {
   "cell_type": "markdown",
   "metadata": {},
   "source": [
    "#### Avoiding Argument Errors\n",
    "- When you start to use functions, don’t be surprised if you encounter errors about unmatched arguments. \n",
    "- Unmatched arguments occur when you provide fewer or more arguments than a function needs to do its work."
   ]
  },
  {
   "cell_type": "code",
   "execution_count": 13,
   "metadata": {},
   "outputs": [
    {
     "ename": "TypeError",
     "evalue": "describe_pet() missing 2 required positional arguments: 'animal_type' and 'pet_name'",
     "output_type": "error",
     "traceback": [
      "\u001b[0;31m---------------------------------------------------------------------------\u001b[0m",
      "\u001b[0;31mTypeError\u001b[0m                                 Traceback (most recent call last)",
      "\u001b[0;32m<ipython-input-13-4e6cd634526b>\u001b[0m in \u001b[0;36m<module>\u001b[0;34m\u001b[0m\n\u001b[1;32m      4\u001b[0m     \u001b[0mprint\u001b[0m\u001b[0;34m(\u001b[0m\u001b[0;34mf\"My {animal_type}'s name is {pet_name.title()}.\"\u001b[0m\u001b[0;34m)\u001b[0m\u001b[0;34m\u001b[0m\u001b[0;34m\u001b[0m\u001b[0m\n\u001b[1;32m      5\u001b[0m \u001b[0;34m\u001b[0m\u001b[0m\n\u001b[0;32m----> 6\u001b[0;31m \u001b[0mdescribe_pet\u001b[0m\u001b[0;34m(\u001b[0m\u001b[0;34m)\u001b[0m\u001b[0;34m\u001b[0m\u001b[0;34m\u001b[0m\u001b[0m\n\u001b[0m",
      "\u001b[0;31mTypeError\u001b[0m: describe_pet() missing 2 required positional arguments: 'animal_type' and 'pet_name'"
     ]
    }
   ],
   "source": [
    "def describe_pet(animal_type, pet_name):\n",
    "    \"\"\"Display information about a pet.\"\"\"\n",
    "    print(f\"\\nI have a {animal_type}.\")\n",
    "    print(f\"My {animal_type}'s name is {pet_name.title()}.\")\n",
    "\n",
    "describe_pet()"
   ]
  },
  {
   "cell_type": "markdown",
   "metadata": {},
   "source": [
    "#### Optional Arguments\n",
    "- Sometimes it makes sense to make an argument optional so that people using the function can choose to provide extra information only if they want to. \n",
    "- You can use default values to make an argument optional."
   ]
  },
  {
   "cell_type": "code",
   "execution_count": 17,
   "metadata": {},
   "outputs": [
    {
     "name": "stdout",
     "output_type": "stream",
     "text": [
      "Joshua Paul Davis\n"
     ]
    }
   ],
   "source": [
    "# All three arguments are obligatory\n",
    "def get_formatted_name(first_name, middle_name, last_name):\n",
    "    \"\"\"Print a full name, neatly formatted.\"\"\"\n",
    "    full_name = f\"{first_name} {middle_name} {last_name}\"\n",
    "    print (full_name.title())\n",
    "    \n",
    "get_formatted_name('Joshua', 'Paul', 'Davis')"
   ]
  },
  {
   "cell_type": "code",
   "execution_count": 21,
   "metadata": {},
   "outputs": [
    {
     "name": "stdout",
     "output_type": "stream",
     "text": [
      "Joshua Davis\n"
     ]
    }
   ],
   "source": [
    "# Middle name is optional\n",
    "def get_formatted_name(first_name, last_name, middle_name=''):\n",
    "    \"\"\"Print a full name, neatly formatted.\"\"\"\n",
    "    if middle_name != '':\n",
    "        full_name = f\"{first_name} {middle_name} {last_name}\"\n",
    "    else:\n",
    "        full_name = f\"{first_name} {last_name}\"\n",
    "    print (full_name.title())\n",
    "    \n",
    "get_formatted_name('Joshua', 'Davis')"
   ]
  },
  {
   "cell_type": "markdown",
   "metadata": {},
   "source": [
    "**Example 3**\n",
    "\n",
    "- Write a function called `make_shirt()` that accepts a size and the text of a message that should be printed on the shirt. \n",
    "- The function should print a sentence summarizing the size of the shirt and the message printed on it.\n",
    "- Call the function once using positional arguments to make a shirt. \n",
    "- Call the function a second time using keyword arguments."
   ]
  },
  {
   "cell_type": "code",
   "execution_count": null,
   "metadata": {},
   "outputs": [],
   "source": []
  },
  {
   "cell_type": "markdown",
   "metadata": {},
   "source": [
    "**Example 4**\n",
    "\n",
    "- Modify the `make_shirt()` function so that shirts are large by default with a message that reads *I love Python*. \n",
    "- Make a large shirt and a medium shirt with the default message, and a shirt of any size with a different message."
   ]
  },
  {
   "cell_type": "code",
   "execution_count": null,
   "metadata": {},
   "outputs": [],
   "source": []
  },
  {
   "cell_type": "markdown",
   "metadata": {},
   "source": [
    "**Example 5**\n",
    "\n",
    "- Write a function called `describe_city()` that accepts the name of a city and its country. The function should print a simple sentence, such as *Reykjavik is in Iceland*. \n",
    "- Give the parameter for the country a default value. \n",
    "- Call your function for three different cities, at least one of which is not in the default country."
   ]
  },
  {
   "cell_type": "markdown",
   "metadata": {},
   "source": [
    "#### Passing an Arbitrary Number of Arguments\n",
    "- Sometimes you won’t know ahead of time how many arguments a function needs to accept. \n",
    "- Fortunately, Python allows a function to collect an arbitrary number of arguments from the calling statement.\n",
    "- The asterisk in the parameter name (i.e. `*toppings`) tells Python to make an empty tuple called toppings and pack whatever values it receives into this tuple.\n",
    "- This syntax works no matter how many arguments the function receives."
   ]
  },
  {
   "cell_type": "code",
   "execution_count": 30,
   "metadata": {},
   "outputs": [
    {
     "name": "stdout",
     "output_type": "stream",
     "text": [
      "('pepperoni',)\n",
      "('mushrooms', 'green peppers', 'extra cheese')\n"
     ]
    }
   ],
   "source": [
    "def make_pizza(*toppings):\n",
    "    \"\"\"\n",
    "        Print the list of toppings that have been requested.\n",
    "        A function that builds a pizza can acccept a number of toppings, but you can’t know ahead of time how many toppings a\n",
    "        The function in the following example has one parameter, *toppings\n",
    "        This parameter collects as many arguments as the calling line provides\n",
    "    \"\"\"\n",
    "    print(toppings)\n",
    "make_pizza('pepperoni')\n",
    "make_pizza('mushrooms', 'green peppers', 'extra cheese')"
   ]
  },
  {
   "cell_type": "markdown",
   "metadata": {},
   "source": [
    "- If you want a function to accept several different kinds of arguments, the parameter that accepts an arbitrary number of arguments must be placed last in the function definition. \n",
    "- Python matches positional and keyword arguments first and then collects any remaining arguments in the final parameter."
   ]
  },
  {
   "cell_type": "code",
   "execution_count": 31,
   "metadata": {},
   "outputs": [
    {
     "name": "stdout",
     "output_type": "stream",
     "text": [
      "\n",
      "Making a 16-inch pizza with the following toppings:\n",
      "- pepperoni\n",
      "\n",
      "Making a 12-inch pizza with the following toppings:\n",
      "- mushrooms\n",
      "- green peppers\n",
      "- extra cheese\n"
     ]
    }
   ],
   "source": [
    "def make_pizza(size, *toppings):\n",
    "    \"\"\"Summarize the pizza we are about to make.\"\"\"\n",
    "    print(f\"\\nMaking a {size}-inch pizza with the following toppings:\")\n",
    "    for topping in toppings:\n",
    "        print(f\"- {topping}\")\n",
    "\n",
    "make_pizza(16, 'pepperoni')\n",
    "make_pizza(12, 'mushrooms', 'green peppers', 'extra cheese')"
   ]
  },
  {
   "cell_type": "markdown",
   "metadata": {},
   "source": [
    "#### Using Arbitrary Keyword Arguments\n",
    "\n",
    "- Sometimes you’ll want to accept an arbitrary number of arguments, but you won’t know ahead of time what kind of information will be passed to the function. \n",
    "- In this case, you can write functions that accept as many key-value pairs as the calling statement provides. "
   ]
  },
  {
   "cell_type": "code",
   "execution_count": 35,
   "metadata": {},
   "outputs": [
    {
     "name": "stdout",
     "output_type": "stream",
     "text": [
      "{'location': 'princeton', 'field': 'physics', 'first_name': 'albert', 'last_name': 'einstein'}\n"
     ]
    }
   ],
   "source": [
    "def print_profile(first, last, **user_info):\n",
    "    \"\"\"\n",
    "        Build a dictionary containing everything we know about a user.\n",
    "        The function always takes in a first and last name\n",
    "        It accepts an arbitrary number of keyword arguments as well\n",
    "    \"\"\"\n",
    "    user_info['first_name'] = first\n",
    "    user_info['last_name'] = last\n",
    "    print (user_info)\n",
    "\n",
    "print_profile('albert', \n",
    "              'einstein', \n",
    "              location='princeton', \n",
    "              field='physics')\n"
   ]
  },
  {
   "cell_type": "markdown",
   "metadata": {},
   "source": [
    "**Example 6**\n",
    "\n",
    "- Write a function that accepts a list of items a person wants on a sandwich.\n",
    "- The function should have one parameter that collects as many items as the function call provides, and it should print a summary of the sandwich that’s being ordered. \n",
    "- Call the function three times, using a different number of arguments each time."
   ]
  },
  {
   "cell_type": "code",
   "execution_count": null,
   "metadata": {},
   "outputs": [],
   "source": []
  },
  {
   "cell_type": "markdown",
   "metadata": {},
   "source": [
    "**Example 7**\n",
    "\n",
    "- Start with a copy of `print_profile` fucntion written above\n",
    "- Build a profile of yourself by calling `print_profile()`, using your *first* and *last names* and three other key-value pairs that describe you."
   ]
  },
  {
   "cell_type": "code",
   "execution_count": null,
   "metadata": {},
   "outputs": [],
   "source": []
  },
  {
   "cell_type": "markdown",
   "metadata": {},
   "source": [
    "**Example 8**\n",
    "\n",
    "- Write a function that stores information about a car in a dictionary. \n",
    "- The function should always receive a *manufacturer* and a *model name*. \n",
    "- It should then accept an arbitrary number of keyword arguments. \n",
    "- Call the function with the required information and two other name-value pairs, such as a *color* or an *optional feature*. \n",
    "- Your function should work for a call like this one:\n",
    "        \n",
    "        car = make_car('subaru', 'outback', color='blue', tow_package=True)\n",
    "\n",
    "- Print the dictionary that’s returned to make sure all the information was stored correctly"
   ]
  },
  {
   "cell_type": "code",
   "execution_count": null,
   "metadata": {},
   "outputs": [],
   "source": []
  },
  {
   "cell_type": "markdown",
   "metadata": {},
   "source": [
    "### Using `return`\n",
    " - A function doesn’t always have to display its output directly. \n",
    " - Instead, it can process some data and then return a value or set of values. \n",
    " - The value the function returns is called a ***return value***. \n",
    " - The return statement takes a value from inside a function and sends it back to the line that called the function."
   ]
  },
  {
   "cell_type": "code",
   "execution_count": 15,
   "metadata": {},
   "outputs": [
    {
     "name": "stdout",
     "output_type": "stream",
     "text": [
      "Joshua Paul Davis\n"
     ]
    }
   ],
   "source": [
    "def get_formatted_name(first_name, last_name):\n",
    "    \"\"\"\n",
    "        Take first & last names as parameters\n",
    "        Return a full, neatly formated, name.\n",
    "    \"\"\"\n",
    "    full_name = f\"{first_name} {last_name}\"\n",
    "    return full_name.title()\n",
    "\n",
    "musician = get_formatted_name('Joshua Paul', 'Davis')\n",
    "print(musician)"
   ]
  },
  {
   "cell_type": "code",
   "execution_count": null,
   "metadata": {},
   "outputs": [],
   "source": [
    "# return sum of two numbers\n",
    "def sum_num(num1,num2):\n",
    "    return num1+num2\n",
    "\n",
    "result = sum_num(4,5)\n",
    "\n",
    "print(result)"
   ]
  },
  {
   "cell_type": "code",
   "execution_count": 22,
   "metadata": {},
   "outputs": [
    {
     "name": "stdout",
     "output_type": "stream",
     "text": [
      "17 is prime!\n"
     ]
    },
    {
     "data": {
      "text/plain": [
       "True"
      ]
     },
     "execution_count": 22,
     "metadata": {},
     "output_type": "execute_result"
    }
   ],
   "source": [
    "# Function which checks if number is prime number\n",
    "def is_prime(num):\n",
    "    '''\n",
    "    Naive method of checking for primes. \n",
    "    '''\n",
    "    for n in range(2,num):\n",
    "        if num % n == 0:\n",
    "            print(num,'is not prime')\n",
    "            return False\n",
    "    else: # If never mod zero, then prime\n",
    "        print(num,'is prime!')\n",
    "        return True\n",
    "\n",
    "res = is_prime(17)\n",
    "res"
   ]
  },
  {
   "cell_type": "markdown",
   "metadata": {},
   "source": [
    "Note how the <code>else</code> lines up under <code>for</code> and not <code>if</code>. This is because we want the <code>for</code> loop to exhaust all possibilities in the range before printing our number is prime.\n",
    "\n",
    "Also note how we break the code after the first print statement. As soon as we determine that a number is not prime we break out of the <code>for</code> loop."
   ]
  },
  {
   "cell_type": "markdown",
   "metadata": {},
   "source": [
    "#### Returning a Dictionary\n",
    "- A function can return any kind of value you need it to, including more complicated data structures like lists and dictionaries"
   ]
  },
  {
   "cell_type": "code",
   "execution_count": 23,
   "metadata": {},
   "outputs": [
    {
     "name": "stdout",
     "output_type": "stream",
     "text": [
      "{'first': 'jimi', 'last': 'hendrix'}\n"
     ]
    }
   ],
   "source": [
    "def build_person(first_name, last_name):\n",
    "    \"\"\"Return a dictionary of information about a person.\"\"\"\n",
    "    person = {'first': first_name, 'last': last_name}\n",
    "    return person\n",
    "\n",
    "musician = build_person('jimi', 'hendrix')\n",
    "print(musician)"
   ]
  },
  {
   "cell_type": "markdown",
   "metadata": {},
   "source": [
    "**Excercise 9**\n",
    "\n",
    "- Write a function called `city_country()` that takes in the name of a city and its country. \n",
    "- The function should return a string formatted like this: *\"Santiago, Chile\"*\n",
    "- Call your function with at least three city-country pairs, and print the values that are returned."
   ]
  },
  {
   "cell_type": "code",
   "execution_count": null,
   "metadata": {},
   "outputs": [],
   "source": []
  },
  {
   "cell_type": "markdown",
   "metadata": {},
   "source": [
    "**Excercise 10**\n",
    "\n",
    "- Write a function called `make_album()` that builds a dictionary describing a music album. \n",
    "- The function should take in an *artist name* and an *album title*, and it should return a *dictionary* containing these two pieces of information. \n",
    "- Use the function to make three dictionaries representing different albums. \n",
    "- Print each return value to show that the dictionaries are storing the album information correctly."
   ]
  },
  {
   "cell_type": "markdown",
   "metadata": {},
   "source": [
    "## Storing functions in modules\n",
    "\n",
    "- You can go a step further by storing your functions in a separate file called a module and then importing that module into your main program. \n",
    "- An import statement tells Python to make the code in a module available in the currently running program file\n",
    "- Storing your functions in a separate file allows you to hide the details of your program’s code and focus on its higher-level logic; it also allows you to reuse functions in many different programs. \n",
    "- When you store your functions in separate files, you can share those files with other programmers without having to share your entire program. \n",
    "- Knowing how to import functions also allows you to use libraries of functions that other programmers have written.\n",
    "\n",
    "In folder `pg_python/03. Methods and functions/` there is a file `make_pizza_mod` which contains module code. Module contains only one method called `make_pizza`"
   ]
  },
  {
   "cell_type": "code",
   "execution_count": 46,
   "metadata": {},
   "outputs": [
    {
     "name": "stdout",
     "output_type": "stream",
     "text": [
      "\n",
      "Making a 16-inch pizza with the following toppings:\n",
      "- pepperoni\n",
      "\n",
      "Making a 12-inch pizza with the following toppings:\n",
      "- mushrooms\n",
      "- green peppers\n",
      "- extra cheese\n"
     ]
    }
   ],
   "source": [
    "# When Python reads this file, the line import pizza tells Python to open the\n",
    "# file make_pizza_mod.py and copy all the functions from it into this program\n",
    "import make_pizza_mod\n",
    "\n",
    "make_pizza_mod.make_pizza(16, 'pepperoni')\n",
    "make_pizza_mod.make_pizza(12, 'mushrooms', 'green peppers', 'extra cheese')"
   ]
  },
  {
   "cell_type": "code",
   "execution_count": 47,
   "metadata": {},
   "outputs": [
    {
     "name": "stdout",
     "output_type": "stream",
     "text": [
      "\n",
      "Making a 16-inch pizza with the following toppings:\n",
      "- pepperoni\n",
      "\n",
      "Making a 12-inch pizza with the following toppings:\n",
      "- mushrooms\n",
      "- green peppers\n",
      "- extra cheese\n"
     ]
    }
   ],
   "source": [
    "# You can also import a specific function from a module:\n",
    "from make_pizza_mod import make_pizza\n",
    "\n",
    "make_pizza(16, 'pepperoni')\n",
    "make_pizza(12, 'mushrooms', 'green peppers', 'extra cheese')"
   ]
  },
  {
   "cell_type": "code",
   "execution_count": 51,
   "metadata": {},
   "outputs": [
    {
     "name": "stdout",
     "output_type": "stream",
     "text": [
      "\n",
      "Making a 16-inch pizza with the following toppings:\n",
      "- pepperoni\n",
      "\n",
      "Making a 12-inch pizza with the following toppings:\n",
      "- mushrooms\n",
      "- green peppers\n",
      "- extra cheese\n"
     ]
    }
   ],
   "source": [
    "# ...or all functions from that module\n",
    "from make_pizza_mod import *\n",
    "\n",
    "make_pizza(16, 'pepperoni')\n",
    "make_pizza(12, 'mushrooms', 'green peppers', 'extra cheese')"
   ]
  },
  {
   "cell_type": "code",
   "execution_count": 48,
   "metadata": {},
   "outputs": [
    {
     "name": "stdout",
     "output_type": "stream",
     "text": [
      "\n",
      "Making a 16-inch pizza with the following toppings:\n",
      "- pepperoni\n",
      "\n",
      "Making a 12-inch pizza with the following toppings:\n",
      "- mushrooms\n",
      "- green peppers\n",
      "- extra cheese\n"
     ]
    }
   ],
   "source": [
    "# You can also import a specific function from a module and create alias (new, shorter name):\n",
    "from make_pizza_mod import make_pizza as mp\n",
    "\n",
    "mp(16, 'pepperoni')\n",
    "mp(12, 'mushrooms', 'green peppers', 'extra cheese')"
   ]
  },
  {
   "cell_type": "code",
   "execution_count": 50,
   "metadata": {},
   "outputs": [
    {
     "name": "stdout",
     "output_type": "stream",
     "text": [
      "\n",
      "Making a 16-inch pizza with the following toppings:\n",
      "- pepperoni\n",
      "\n",
      "Making a 12-inch pizza with the following toppings:\n",
      "- mushrooms\n",
      "- green peppers\n",
      "- extra cheese\n"
     ]
    }
   ],
   "source": [
    "# you can also provide an alias for a module name\n",
    "import make_pizza_mod as p\n",
    "\n",
    "p.make_pizza(16, 'pepperoni')\n",
    "p.make_pizza(12, 'mushrooms', 'green peppers', 'extra cheese')"
   ]
  },
  {
   "cell_type": "markdown",
   "metadata": {},
   "source": [
    "**Excercise 11**\n",
    "- Chooses one of the function for today's lesson and put in a separate file as new module\n",
    "- Write an import statement that imports this fucntion \n",
    "- Write a code which runs imported function, use 3 from 5 possible ways of importing fucntion:\n",
    "\n",
    "        import module_name\n",
    "        from module_name import function_name\n",
    "        from module_name import function_name as fn\n",
    "        import module_name as mn\n",
    "        from module_name import *"
   ]
  },
  {
   "cell_type": "markdown",
   "metadata": {},
   "source": [
    "# Scope of variables \n",
    "\n",
    " - variable names in Python are stored in a *name-space*,\n",
    " - variable names have a *scope*, \n",
    " - the scope determines the visibility of variable name to other parts of code\n",
    " - **Local variables**:\n",
    "   - variables declared inside a function, are not related to other variables with the same names used outside the function: **variable names are local to the function**,\n",
    "   - variables have the scope of the block they are declared in.\n",
    " - **The <code>global</code> statement**\n",
    "    - you can tell Python to use global variable (defined at the top level of the program) instead of local one (defined inside any kind of scope such as function or class),\n",
    "    - to do so use the `global` statement,\n",
    "    - it is impossible to assign a value to a variable defined outside a function without the global statement.\n",
    "    - you can use the values of variable defined outside the function but it should be avoided since it becomes unclear as to where that variable’s definition is\n",
    "    - using the `global` statement makes it clear that you refer to variable defined in an outermost block.\n",
    "    - you can specify more than one global variable using the same global statement e.g. `global x, y, z`\n",
    " - use **globals()** and **locals()** functions to check what are current local and global variables."
   ]
  },
  {
   "cell_type": "code",
   "execution_count": null,
   "metadata": {},
   "outputs": [],
   "source": []
  },
  {
   "cell_type": "code",
   "execution_count": null,
   "metadata": {},
   "outputs": [],
   "source": [
    "# EXAMPLE 1: Local variables\n",
    "x = 50\n",
    "\n",
    "def func(x):\n",
    "    print('x is', x) # Python uses the value of the parameter declared in the main block\n",
    "    x = 2            # Assign valiue \"2\" to variable which is local to function \n",
    "                     # (value of variable x defined in the main block remains unaffected)\n",
    "    print('Changed local x to', x)\n",
    "\n",
    "func(x)\n",
    "print('x is still', x) # display the value of variable defined in the main block (unaffected)"
   ]
  },
  {
   "cell_type": "code",
   "execution_count": null,
   "metadata": {},
   "outputs": [],
   "source": [
    "# EXAMPLE 2: Gloabal variables\n",
    "x = 50\n",
    "\n",
    "def func():\n",
    "    global x\n",
    "    print('This function is now using the global x!')\n",
    "    print('Because of global x is: ', x)\n",
    "    x = 2\n",
    "    print('Ran func(), changed global x to', x)\n",
    "\n",
    "print('Before calling func(), x is: ', x)\n",
    "func()\n",
    "print('Value of x (outside of func()) is: ', x)"
   ]
  },
  {
   "cell_type": "code",
   "execution_count": null,
   "metadata": {},
   "outputs": [],
   "source": [
    "globals()"
   ]
  },
  {
   "cell_type": "markdown",
   "metadata": {},
   "source": [
    "Rules Python uses to decide what variables you are referencing in your code:\n",
    "\n",
    "1. Name assignments will create or change local names by default.\n",
    "2. Name references search (at most) four scopes, these are:\n",
    "    \n",
    "    * **L** *(local)* — names assigned in any way within a function (def or lambda), and not declared global in that function.\n",
    "    * **E** *(enclosing function)* — Names in the local scope of any and all enclosing functions (def or lambda), from inner to outer.\n",
    "    * **G** *(global (module))* — Names assigned at the top-level of a module file, or declared global in a def within the file.\n",
    "    * **B** *(built-in (Python))* — Names preassigned in the built-in names module : open, range, SyntaxError,...\n",
    "    \n",
    "    \n",
    "3. Names declared in global and nonlocal statements map assigned names to enclosing module and function scopes."
   ]
  },
  {
   "cell_type": "code",
   "execution_count": null,
   "metadata": {},
   "outputs": [],
   "source": [
    "locals()"
   ]
  },
  {
   "cell_type": "code",
   "execution_count": null,
   "metadata": {},
   "outputs": [],
   "source": [
    "# (L)ocal\n",
    "\n",
    "# x is local here:\n",
    "f = lambda x:x**2"
   ]
  },
  {
   "cell_type": "code",
   "execution_count": null,
   "metadata": {},
   "outputs": [],
   "source": [
    "# (E)nclosing function\n",
    "name = 'This is a global name'\n",
    "\n",
    "def greet():\n",
    "    # Enclosing function\n",
    "    name = 'Sammy'\n",
    "    print('Hello '+name)\n",
    "    \n",
    "print (name)\n",
    "greet()"
   ]
  },
  {
   "cell_type": "code",
   "execution_count": null,
   "metadata": {},
   "outputs": [],
   "source": [
    "# (G)lobal\n",
    "print(name)"
   ]
  },
  {
   "cell_type": "code",
   "execution_count": null,
   "metadata": {},
   "outputs": [],
   "source": [
    "# (B)uild in\n",
    "len"
   ]
  }
 ],
 "metadata": {
  "kernelspec": {
   "display_name": "Python 3",
   "language": "python",
   "name": "python3"
  },
  "language_info": {
   "codemirror_mode": {
    "name": "ipython",
    "version": 3
   },
   "file_extension": ".py",
   "mimetype": "text/x-python",
   "name": "python",
   "nbconvert_exporter": "python",
   "pygments_lexer": "ipython3",
   "version": "3.7.4"
  }
 },
 "nbformat": 4,
 "nbformat_minor": 1
}
