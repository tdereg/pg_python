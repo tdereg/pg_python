{
 "cells": [
  {
   "cell_type": "markdown",
   "metadata": {},
   "source": [
    "# Files\n",
    " - Use `file` objects to interact with external files\n",
    " - File objects can be any sort of file: audio file, text file, emails, Excel documents, etc."
   ]
  },
  {
   "cell_type": "markdown",
   "metadata": {},
   "source": [
    "## Create a file (Jupyter Notebook only)\n",
    " - Before we start playing with files, let's first create one. \n",
    " - The code below creates new file:\n",
    "     - if file with same name already exists, it will be overwriten.\n",
    "     - the file will contain a few lines of text in it: pi to 30 decimal places, with 10 decimal places per line:\n",
    " - `%%writefile` is function specific to Jupyter notebooks\n",
    " \n"
   ]
  },
  {
   "cell_type": "code",
   "execution_count": null,
   "metadata": {},
   "outputs": [],
   "source": [
    "%%writefile pi_digits.txt\n",
    "3.1415926535\n",
    "  8979323846\n",
    "  2643383279"
   ]
  },
  {
   "cell_type": "markdown",
   "metadata": {},
   "source": [
    "## Open, read and print file content\n",
    "- To do any work with a file (even just printing its contents), you first need to open it. \n",
    "- The `open()` function needs one argument: the name of the file you want to open. \n",
    "- Python looks for this file in the directory where the program that’s currently being executed is stored."
   ]
  },
  {
   "cell_type": "code",
   "execution_count": null,
   "metadata": {},
   "outputs": [],
   "source": [
    "myfile = open('whoops.txt') # you cannot open a file, which does not exist"
   ]
  },
  {
   "cell_type": "code",
   "execution_count": null,
   "metadata": {},
   "outputs": [],
   "source": [
    "my_file = open('pi_digits.txt') # file is in the same folder as jupyter notebook; \n",
    "                                # it can be in any other location, but then you have to enter  a full path"
   ]
  },
  {
   "cell_type": "code",
   "execution_count": null,
   "metadata": {},
   "outputs": [],
   "source": [
    "# Once we have a file object representing pi_digits.txt, we can use the read() method\n",
    "# ad() method reads the entire contents of the file and stores it as one long string in my_file variable\n",
    "my_file.read() # read the file"
   ]
  },
  {
   "cell_type": "code",
   "execution_count": null,
   "metadata": {},
   "outputs": [],
   "source": [
    "my_file.read()  # after reading a file in previous line, we are at the end of it \n",
    "                # (reading \"cursor\" is at the end of file)"
   ]
  },
  {
   "cell_type": "code",
   "execution_count": null,
   "metadata": {},
   "outputs": [],
   "source": [
    "my_file.seek(0) # you can \"reset\" cursor by using .seek() function "
   ]
  },
  {
   "cell_type": "code",
   "execution_count": null,
   "metadata": {},
   "outputs": [],
   "source": [
    "my_file.read() # after reseting cursor you can read the file one more time"
   ]
  },
  {
   "cell_type": "code",
   "execution_count": null,
   "metadata": {},
   "outputs": [],
   "source": [
    "# You can read whole file at once, or you can read it line by line using the .readlines() method. \n",
    "my_file.seek(0)\n",
    "my_file.readlines()\n"
   ]
  },
  {
   "cell_type": "code",
   "execution_count": null,
   "metadata": {},
   "outputs": [],
   "source": [
    "# When you have finished using a file - CLOSE IT\n",
    "my_file.close()"
   ]
  },
  {
   "cell_type": "markdown",
   "metadata": {},
   "source": [
    "Here’s another way of opening, reading and printing the contents of the file to the screen. \n",
    "- The keyword `with` closes the file once access to it is no longer needed (Notice how we call `open()` but not `close()`). \n",
    "- You could open and close the file by calling `open()` and `close()` (like we did above), but if a bug in your program prevents the `close()` method from being executed, the file may never close.\n",
    "- This may seem trivial, but:\n",
    "    - improperly closed files can cause data to be lost or corrupted,\n",
    "    - if you call `close()` too early in your program, you’ll find yourself trying to work with a closed file (a file you can’t access), which leads to more errors. \n",
    "    \n",
    "It’s not always easy to know exactly when you should close a file, but with the structure shown below, Python will figure that out for you. All you have to do is open the file and work with it as desired, trusting that Python will close it automatically when the `with` block finishes execution.\n"
   ]
  },
  {
   "cell_type": "code",
   "execution_count": null,
   "metadata": {},
   "outputs": [],
   "source": [
    "with open('pi_digits.txt') as file_object:\n",
    "    contents = file_object.read()\n",
    "\n",
    "print(contents)"
   ]
  },
  {
   "cell_type": "markdown",
   "metadata": {},
   "source": [
    "### Reading line by line\n",
    "- When you’re reading a file, you’ll often want to examine each line of the file.\n",
    "- You can use a `for` loop on the file object to examine each line from a file one at a time"
   ]
  },
  {
   "cell_type": "code",
   "execution_count": null,
   "metadata": {},
   "outputs": [],
   "source": [
    "filename = 'pi_digits.txt'\n",
    "counter = 1\n",
    "with open(filename) as file_object:\n",
    "    for line in file_object:\n",
    "        print(f\"Line {counter}: {line.strip()}\")\n",
    "        counter += 1"
   ]
  },
  {
   "cell_type": "markdown",
   "metadata": {},
   "source": [
    "- Blank lines appear because:\n",
    "    - an invisible newline character is at the end of each line in the text file,\n",
    "    - the `print` function adds its own newline each time we call it.\n",
    "- Using `rstrip()` on each line in the `print()` call eliminates these extra blank lines."
   ]
  },
  {
   "cell_type": "markdown",
   "metadata": {},
   "source": [
    "### Making a list of lines from a file\n",
    "\n",
    "- When you use `with`, the file object returned by `open()` is only available inside the `with` block that contains it.\n",
    "- If you want to retain access to a file’s contentsoutside the `with` block, you can store the file’s lines in a list inside the block and then work with that list. "
   ]
  },
  {
   "cell_type": "code",
   "execution_count": null,
   "metadata": {},
   "outputs": [],
   "source": [
    "filename = 'pi_digits.txt'\n",
    "\n",
    "with open(filename) as file_object:\n",
    "    lines = file_object.readlines()\n",
    "\n",
    "pi = ''\n",
    "for line in lines:\n",
    "    pi += line.strip()\n",
    "   \n",
    "print (pi)"
   ]
  },
  {
   "cell_type": "markdown",
   "metadata": {},
   "source": [
    "- So far we’ve focused on analyzing a text file that contains only three lines, but the code in these examples would work just as well on much larger files. \n",
    "- If we start with a text file that contains pi to 1,000,000 decimal places instead of just 30, we can create a single string containing all these digits"
   ]
  },
  {
   "cell_type": "code",
   "execution_count": null,
   "metadata": {},
   "outputs": [],
   "source": [
    "# print first 50 digits of pi:\n",
    "filename = 'pi_million_digits.txt'\n",
    "\n",
    "with open(filename) as file_object:\n",
    "    lines = file_object.readlines()\n",
    "\n",
    "pi_string = ''\n",
    "for line in lines:\n",
    "    pi_string += line.strip()\n",
    "\n",
    "print(f\"First 50 decimal digits of Pi: {pi_string[:52]}...\")\n",
    "print(len(f\"The length of Pi number saved in file: {pi_string}\"))\n",
    "\n",
    "# Is my date of birth hidden in first 1 million of Pi digits?\n",
    "birthday = '221011'\n",
    "if birthday in pi_string:\n",
    "    print(f\"Your birthday ({birthday}) appears in the first million digits of pi!\")\n",
    "else:\n",
    "    print(f\"Your birthday ({birthday})  does not appear in the first million digits of pi\")"
   ]
  },
  {
   "cell_type": "markdown",
   "metadata": {},
   "source": [
    "**Excercise 1**\n",
    "\n",
    "- Create a file `learning_python.txt` containign a few lines summarizing what you’ve learned about Python so far \n",
    "- To create a file use Jupyter method `%%` shown in one of the first examples above. \n",
    "- Start each line with the phrase '*In Python you can:...*' \n",
    "- Write a program that reads the file and prints what you wrote three times, using three different methods: \n",
    "    - once by reading in the entire file, \n",
    "    - once by looping over the file object, and \n",
    "    - once by storing the lines in a list and then working with them outside the `with` block."
   ]
  },
  {
   "cell_type": "code",
   "execution_count": null,
   "metadata": {},
   "outputs": [],
   "source": []
  },
  {
   "cell_type": "markdown",
   "metadata": {},
   "source": [
    "**Excercise 2** \n",
    "\n",
    "- You can use the `replace()` method to replace any word in a string with a different word. \n",
    "- Here’s a quick example showing how to replace 'dog' with 'cat' in a sentence:\n",
    "\n",
    "        message = \"I really like dogs.\"\n",
    "        message.replace('dog', 'cat')\n",
    "        \n",
    "        'I really like cats.'\n",
    "\n",
    "- Read in each line from the file you just created in *Excercise 1* (`learning_python.txt`), and replace the word `Python` with the name of another language, such as `Scala`. \n",
    "- Print each modified line to the screen."
   ]
  },
  {
   "cell_type": "code",
   "execution_count": null,
   "metadata": {},
   "outputs": [],
   "source": []
  },
  {
   "cell_type": "markdown",
   "metadata": {},
   "source": [
    "## Write to a file\n",
    " - By default `open()` function opens file only for reading\n",
    " - If you want to write, you will nee to add a second argument to the function, `w` which stands for write.\n",
    " - You can open a file in:\n",
    "     - `r` - read mode, \n",
    "     - `w` - write mode, \n",
    "     - `a` - append mode, \n",
    "     - mode that allows you to read and write to the file:\n",
    "         - `r+`, but file has to already exists\n",
    "         - `w+`, where file will be created if it doesn't exists\n",
    "         - `a+`, open the file in append mode (see below); file will be created if it doesn't exists\n",
    "     - <font color='red'>If you open existing file with `w`, `w+` or `r+` argument, Python will truncate it (remove whole content)</font>\n",
    " - By default, if you try to open a file, which doesn't exisit, Python will throw an exception; with `w+` or `w` argument, Python will create a file if it doesn't exisit "
   ]
  },
  {
   "cell_type": "code",
   "execution_count": null,
   "metadata": {},
   "outputs": [],
   "source": [
    "my_file = open('test.txt', 'w')\n",
    "my_file.write('Add new content to empty wile\\n')\n",
    "my_file.write('Add not only one, but two lines\\n') # you can write multiple lines at the same time\n",
    "my_file.close()"
   ]
  },
  {
   "cell_type": "markdown",
   "metadata": {},
   "source": [
    "### Append to a file\n",
    " - If you want to add content to a file instead of writing over existing content, you can open the file in append mode. \n",
    " - When you open a file in append mode, Python doesn’t erase the contents of the file before returning the file object. \n",
    " - Any lines you write to the file will be added at the end of the file. \n",
    " - Passing the argument `'a'` opens the file and puts the pointer at the end, so anything written is appended. \n",
    " - Like `'w+'`, `'a+'` lets us read and write to a file. \n",
    " - If the file does not exist, one will be created."
   ]
  },
  {
   "cell_type": "code",
   "execution_count": null,
   "metadata": {},
   "outputs": [],
   "source": [
    "with open('test.txt', 'a') as file_object:\n",
    "    file_object.write(\"Let's add third...\\n\")\n",
    "    file_object.write(\"...and fourth line to the file.\")"
   ]
  },
  {
   "cell_type": "markdown",
   "metadata": {},
   "source": [
    "**Excercise 3**\n",
    "\n",
    "- Write a program that prompts the user for their name. \n",
    "- When they respond, write their name to a file called `guest.txt`"
   ]
  },
  {
   "cell_type": "code",
   "execution_count": null,
   "metadata": {},
   "outputs": [],
   "source": []
  },
  {
   "cell_type": "markdown",
   "metadata": {},
   "source": [
    "**Excercise 4**\n",
    "\n",
    "- Write a `while` loop that prompts users for a name of user who visited web page. \n",
    "- When they enter their name, print a greeting to the screen and add a line recording their visit in a file called `guest_log.txt`. \n",
    "- Make sure each entry appears on a new line in the file.\n",
    "- After user enters a name, program shoudl ask her if she wants to continue; if users enters 'no', the program shoudl stop"
   ]
  },
  {
   "cell_type": "code",
   "execution_count": null,
   "metadata": {},
   "outputs": [],
   "source": []
  },
  {
   "cell_type": "markdown",
   "metadata": {},
   "source": [
    "**Excercise 5**\n",
    "\n",
    "- Write a `while` loop that asks people why they like programming. \n",
    "- Each time someone enters a reason, add their reason to a file that stores all the responses\n",
    "- After user enters a new reason, program shoudl ask her if she wants to continue; if user enters 'no', the program shoudl stop"
   ]
  },
  {
   "cell_type": "markdown",
   "metadata": {},
   "source": [
    "## Storing data\n",
    "\n",
    "- Many of your programs will ask users to input certain kinds of information. \n",
    "- You might allow users to store preferences in a game or provide data for a visualization. \n",
    "- Whatever the focus of your program is, you’ll store the information users provide in data structures such as lists and dictionaries. \n",
    "- When users close a program, you’ll almost always want to save the information they entered. \n",
    "- A simple way to do this involves storing your data using the `json` module.\n",
    "\n",
    "The `json` module allows you to:\n",
    " - dump simple Python data structures into a file and load the data from that file the next time the program runs,\n",
    " - use `json` file  to share data between different Python programs,\n",
    " - because the `json` data format is not specific to Python, you can share data you store in the `json` format with people who work in many other programming languages."
   ]
  },
  {
   "cell_type": "markdown",
   "metadata": {},
   "source": [
    "### Using `json.dump()` and `json.load()`\n",
    "\n",
    "- Let’s write a short program that stores a set of numbers and another program that reads these numbers back. \n",
    "- The first program will use `json.dump()` to store the set of numbers, \n",
    "- The second program will use `json.load()`.\n",
    "- The `json.dump()` function takes two arguments: \n",
    "    - a piece of data to store,\n",
    "    - a file object it can use to store the data. \n",
    "\n",
    "Here’s how you can use `json.dump()` to store a list of numbers"
   ]
  },
  {
   "cell_type": "code",
   "execution_count": null,
   "metadata": {},
   "outputs": [],
   "source": [
    "# import json module\n",
    "import json\n",
    "\n",
    "#create a list of integers to work with\n",
    "numbers = [2, 3, 5, 7, 11, 13]\n",
    "\n",
    "filename = 'numbers.json'\n",
    "with open(filename, 'w') as f:\n",
    "    json.dump(numbers, f)"
   ]
  },
  {
   "cell_type": "markdown",
   "metadata": {},
   "source": [
    "- Open the file `numbers.json` and look at it. \n",
    "- The data is stored in a format that looks just like Python:\n",
    "\n",
    "        [2, 3, 5, 7, 11, 13]\n",
    "\n",
    "- Now we’ll write a program that uses `json.load()` to read the list back into memory:"
   ]
  },
  {
   "cell_type": "code",
   "execution_count": null,
   "metadata": {},
   "outputs": [],
   "source": [
    "import json\n",
    "\n",
    "filename = 'numbers.json'\n",
    "with open(filename) as f:\n",
    "    numbers = json.load(f)\n",
    "\n",
    "print(numbers[5])"
   ]
  },
  {
   "cell_type": "markdown",
   "metadata": {},
   "source": [
    "**Excercise 6**\n",
    "- Write a program that prompts for the user’s favorite number. \n",
    "- Use `json.dump()` to store this number in a file. \n",
    "- Write a separate program that reads in this value and prints the message, *“I know your favorite number! It’s _____.”*"
   ]
  },
  {
   "cell_type": "code",
   "execution_count": null,
   "metadata": {},
   "outputs": [],
   "source": []
  }
 ],
 "metadata": {
  "kernelspec": {
   "display_name": "Python 3",
   "language": "python",
   "name": "python3"
  },
  "language_info": {
   "codemirror_mode": {
    "name": "ipython",
    "version": 3
   },
   "file_extension": ".py",
   "mimetype": "text/x-python",
   "name": "python",
   "nbconvert_exporter": "python",
   "pygments_lexer": "ipython3",
   "version": "3.8.5"
  }
 },
 "nbformat": 4,
 "nbformat_minor": 2
}
