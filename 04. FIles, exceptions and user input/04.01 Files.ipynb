{
 "cells": [
  {
   "cell_type": "markdown",
   "metadata": {},
   "source": [
    "# Files\n",
    " - Use `file` objects to interact with external files\n",
    " - File objects can be any sort of file: audio file, text file, emails, Excel documents, etc."
   ]
  },
  {
   "cell_type": "markdown",
   "metadata": {},
   "source": [
    "## Create a file (Jupyter Notebook only)\n",
    " - Before we start playing with files, let's first create one. The code below creates new file; if file with same name already exists, it will be overwriten.\n",
    " - `%%writefile` is function specific to Jupyter notebooks\n",
    " \n",
    "Let's create a file with a few lines of text in it. Let’s start with a file that contains pi to 30 decimal places, with 10 decimal places per line:"
   ]
  },
  {
   "cell_type": "code",
   "execution_count": null,
   "metadata": {},
   "outputs": [],
   "source": [
    "%%writefile pi_digits.txt\n",
    "3.1415926535\n",
    "  8979323846\n",
    "  2643383279"
   ]
  },
  {
   "cell_type": "markdown",
   "metadata": {},
   "source": [
    "## Open, read and print file content\n",
    "To do any work with a file, even just printing its contents, you first need to open the file to access it. The `open()` function needs one argument: the name of the file you want to open. Python looks for this file in the directory where the program that’s currently being executed is stored."
   ]
  },
  {
   "cell_type": "code",
   "execution_count": null,
   "metadata": {},
   "outputs": [],
   "source": [
    "myfile = open('whoops.txt') # you cannot open a file, which does not exist"
   ]
  },
  {
   "cell_type": "code",
   "execution_count": null,
   "metadata": {},
   "outputs": [],
   "source": [
    "my_file = open('pi_digits.txt') # file is in the same folder as jupyter notebook; \n",
    "# it can be in any other location, but then you have to enter  a full path"
   ]
  },
  {
   "cell_type": "markdown",
   "metadata": {},
   "source": [
    "Once we have a file object representing pi_digits.txt, we use the `read()` method in the second line of our program to read the entire contents of the file and store it as one long string in `my_file`."
   ]
  },
  {
   "cell_type": "code",
   "execution_count": null,
   "metadata": {},
   "outputs": [],
   "source": [
    "my_file.read() # read the file"
   ]
  },
  {
   "cell_type": "code",
   "execution_count": null,
   "metadata": {},
   "outputs": [],
   "source": [
    "my_file.read() # after reading a file in previous line, we are at the end of it (reading \"cursor\" is at the end of file)"
   ]
  },
  {
   "cell_type": "code",
   "execution_count": null,
   "metadata": {},
   "outputs": [],
   "source": [
    "my_file.seek(0) # you can \"reset\" cursor by using .seek() function "
   ]
  },
  {
   "cell_type": "code",
   "execution_count": null,
   "metadata": {},
   "outputs": [],
   "source": [
    "my_file.read() # after reading a file in previous line, we are at the end of it (reading \"cursor\" is at the end of file)"
   ]
  },
  {
   "cell_type": "code",
   "execution_count": null,
   "metadata": {},
   "outputs": [],
   "source": [
    "# You can read whole file at once, or you can read it line by line using the .readlines() method. \n",
    "my_file.seek(0)\n",
    "my_file.readlines()\n"
   ]
  },
  {
   "cell_type": "code",
   "execution_count": null,
   "metadata": {},
   "outputs": [],
   "source": [
    "# When you have finished using a file - CLOSE IT\n",
    "my_file.close()"
   ]
  },
  {
   "cell_type": "markdown",
   "metadata": {},
   "source": [
    "Here’s another way of opening, reading and printing the contents of the file to the screen. The keyword `with` closes the file once access to it is no longer needed. Notice how we call `open()` in this program but not `close()`. You could open and close the file by calling `open()` and `close()`, but if a bug in your program\n",
    "prevents the `close()` method from being executed, the file may never close.\n",
    "This may seem trivial, but improperly closed files can cause data to be lost or corrupted. And if you call `close()` too early in your program, you’ll find yourself trying to work with a closed file (a file you can’t access), which leads to more errors. It’s not always easy to know exactly when you should close a file, but with the structure shown here, Python will figure that out for you. All you have to do is open the file and work with it as desired, trusting that Python will close it automatically when the `with` block finishes execution.\n"
   ]
  },
  {
   "cell_type": "code",
   "execution_count": null,
   "metadata": {},
   "outputs": [],
   "source": [
    "with open('pi_digits.txt') as file_object:\n",
    "    contents = file_object.read()\n",
    "print(contents)"
   ]
  },
  {
   "cell_type": "markdown",
   "metadata": {},
   "source": [
    "## Reading line by line\n",
    "When you’re reading a file, you’ll often want to examine each line of the file. For example, you might want to\n",
    "read through a file of weather data and work with any line. \n",
    "\n",
    "You can use a for loop on the file object to examine each line from a file one at a time:"
   ]
  },
  {
   "cell_type": "code",
   "execution_count": null,
   "metadata": {},
   "outputs": [],
   "source": [
    "filename = 'pi_digits.txt'\n",
    "counter = 1\n",
    "with open(filename) as file_object:\n",
    "    for line in file_object:\n",
    "        print(f\"Line {counter}: {line}\")\n",
    "        counter += 1"
   ]
  },
  {
   "cell_type": "markdown",
   "metadata": {},
   "source": [
    "These blank lines appear because an invisible newline character is at the end of each line in the text file. The print function adds its own newline each time we call it, so we end up with two newline characters at the end of each line: one from the file and one from `print()`. Using `rstrip()` on each line in the `print()` call eliminates these extra blank lines."
   ]
  },
  {
   "cell_type": "markdown",
   "metadata": {},
   "source": [
    "## Making a list of lines from a file\n",
    "\n",
    "When you use `with`, the file object returned by `open()` is only available inside the `with` block that contains it. If you want to retain access to a file’s contentsoutside the with block, you can store the file’s lines in a list inside the blockand then work with that list. "
   ]
  },
  {
   "cell_type": "code",
   "execution_count": null,
   "metadata": {},
   "outputs": [],
   "source": [
    "filename = 'pi_digits.txt'\n",
    "\n",
    "with open(filename) as file_object:\n",
    "    lines = file_object.readlines()\n",
    "\n",
    "pi = ''\n",
    "for line in lines:\n",
    "    pi += line.strip()\n",
    "   \n",
    "print (pi)"
   ]
  },
  {
   "cell_type": "markdown",
   "metadata": {},
   "source": [
    "So far we’ve focused on analyzing a text file that contains only three lines, but the code in these examples would work just as well on much larger files. If we start with a text file that contains pi to 1,000,000 decimal places instead of just 30, we can create a single string containing all these digits:"
   ]
  },
  {
   "cell_type": "code",
   "execution_count": null,
   "metadata": {},
   "outputs": [],
   "source": [
    "# print first 50 digits of pi:\n",
    "filename = 'pi_million_digits.txt'\n",
    "\n",
    "with open(filename) as file_object:\n",
    "    lines = file_object.readlines()\n",
    "\n",
    "pi_string = ''\n",
    "for line in lines:\n",
    "    pi_string += line.strip()\n",
    "\n",
    "print(f\"First 50 decimal digits of Pi: {pi_string[:52]}...\")\n",
    "print(len(f\"The length of Pi number saved in file: {pi_string}\"))\n",
    "\n",
    "# Is my date of birth hidden in first 1 million of Pi digits?\n",
    "birthday = '220180'\n",
    "if birthday in pi_string:\n",
    "    print(\"Your birthday appears in the first million digits of pi!\")\n",
    "else:\n",
    "    print(\"Your birthday does not appear in the first million digits of pi\")"
   ]
  },
  {
   "cell_type": "markdown",
   "metadata": {},
   "source": [
    "**Excercise 1**\n",
    "\n",
    "Create a file `learning_python.txt` containign a few lines summarizing what you’ve learned about Python so far (use Jupyter method `%%` used in one of above examples). Start each line with the phrase '*In Python you can:*' \n",
    "Write a program that reads the file and prints what you wrote three times. Print the contents:\n",
    "- once by reading in the entire file, \n",
    "- once by looping over the file object, and \n",
    "- once by storing the lines in a list and then working with them outside the `with` block."
   ]
  },
  {
   "cell_type": "code",
   "execution_count": null,
   "metadata": {},
   "outputs": [],
   "source": []
  },
  {
   "cell_type": "markdown",
   "metadata": {},
   "source": [
    "**Excercise 2** \n",
    "\n",
    "You can use the `replace()` method to replace any word in a string with a different word. Here’s a quick example showing how to replace 'dog' with 'cat' in a sentence:\n",
    "\n",
    "    message = \"I really like dogs.\"\n",
    "    message.replace('dog', 'cat')\n",
    "    \n",
    "    'I really like cats.'\n",
    "\n",
    "Read in each line from the file you just created, learning_python.txt, and replace the word Python with the name of another language, such as `Scala`. Print each modified line to the screen."
   ]
  },
  {
   "cell_type": "code",
   "execution_count": null,
   "metadata": {},
   "outputs": [],
   "source": []
  },
  {
   "cell_type": "markdown",
   "metadata": {},
   "source": [
    "## Write to a file\n",
    " - By default `open()` function opens file only for reading\n",
    " - If you want to write, you will nee to add a second argument to the function, `w` which stands for write.\n",
    " - You can open a file in:\n",
    "     - read mode ('r'), \n",
    "     - write mode ('w'), \n",
    "     - append mode ('a'), \n",
    "     - mode that allows you to read and write to the file:\n",
    "         - 'r+', but file has to already exists\n",
    "         - 'w+', where file will be created if it doesn't exists\n",
    "     - <font color='red'>If you open existing file with `w`, `w+` or `r+` argument, Python will truncate it (remove whole content)</font>\n",
    " - By default, if you try to open a file, which doesn't exisit, Python will throw an exception; with `w+` or `w` argument, Python will create a file if it doesn't exisit "
   ]
  },
  {
   "cell_type": "code",
   "execution_count": null,
   "metadata": {},
   "outputs": [],
   "source": [
    "my_file = open('test.txt','r+')\n",
    "my_file.write('Add new content to empyt wile\\n')\n",
    "my_file.write('Add not only one, but two lines\\n') # you can write multiple lines at the same time\n",
    "my_file.close()"
   ]
  },
  {
   "cell_type": "markdown",
   "metadata": {},
   "source": [
    "## Append to a file\n",
    " - If you want to add content to a file instead of writing over existing content, you can open the file in append mode. \n",
    " - When you open a file in append mode, Python doesn’t erase the contents of the file before returning the file object. \n",
    " - Any lines you write to the file will be added at the end of the file. \n",
    " - Passing the argument `'a'` opens the file and puts the pointer at the end, so anything written is appended. \n",
    " - Like `'w+'`, `'a+'` lets us read and write to a file. \n",
    " - If the file does not exist, one will be created."
   ]
  },
  {
   "cell_type": "code",
   "execution_count": null,
   "metadata": {},
   "outputs": [],
   "source": [
    "with open('test.txt', 'a') as file_object:\n",
    "    file_object.write(\"Let's add third...\\n\")\n",
    "    file_object.write(\"...and fourth line to the file.\")"
   ]
  },
  {
   "cell_type": "markdown",
   "metadata": {},
   "source": [
    "## Reading from a file"
   ]
  },
  {
   "cell_type": "code",
   "execution_count": null,
   "metadata": {},
   "outputs": [],
   "source": [
    "my_file = open('test.txt','r')\n",
    "file_content = my_file.read()\n",
    "my_file.close()\n",
    "print (file_content)"
   ]
  },
  {
   "cell_type": "markdown",
   "metadata": {},
   "source": [
    "## Iterating through a file"
   ]
  },
  {
   "cell_type": "code",
   "execution_count": null,
   "metadata": {},
   "outputs": [],
   "source": [
    "# for every line in a file print this line together with line number\n",
    "i = 1\n",
    "for line in open('test.txt'):\n",
    "    print(f\"{i}. {line}\")\n",
    "    i += 1"
   ]
  },
  {
   "cell_type": "markdown",
   "metadata": {},
   "source": [
    "**Excercise 3**\n",
    "\n",
    "Write a program that prompts the user for their name. When they respond, write their name to a file called `guest.txt`"
   ]
  },
  {
   "cell_type": "code",
   "execution_count": null,
   "metadata": {},
   "outputs": [],
   "source": []
  },
  {
   "cell_type": "markdown",
   "metadata": {},
   "source": [
    "**Excercise 4**\n",
    "\n",
    "Write a `while` loop that prompts users for their name. When they enter their name, print a greeting to the screen and add a line recording their visit in a file called `guest_book.txt`. Make sure each entry appears on a new line in the file."
   ]
  },
  {
   "cell_type": "code",
   "execution_count": null,
   "metadata": {},
   "outputs": [],
   "source": []
  },
  {
   "cell_type": "markdown",
   "metadata": {},
   "source": [
    "**Excercise 5**\n",
    "\n",
    "Write a `while` loop that asks people why they like programming. Each time someone enters a reason, add their reason to a file that stores all the responses"
   ]
  },
  {
   "cell_type": "markdown",
   "metadata": {},
   "source": [
    "## Storing data\n",
    "\n",
    "Many of your programs will ask users to input certain kinds of information. You might allow users to store preferences in a game or provide data for a visualization. Whatever the focus of your program is, you’ll store the\n",
    "information users provide in data structures such as lists and dictionaries. When users close a program, you’ll almost always want to save the information they entered. A simple way to do this involves storing your data using the `json` module.\n",
    "\n",
    "The `json` module allows you to:\n",
    " - dump simple Python data structures into a file and load the data from that file the next time the program runs. \n",
    " - use `json` to share data between different Python programs. \n",
    " - because the `json` data format is not specific to Python, you can share data you store in the JSON format with people who work in many other programming languages. \n",
    " \n",
    "The `json` (JavaScript Object Notation) format was originally developed for JavaScript. However, it has since become a common format used by many languages, including Python."
   ]
  },
  {
   "cell_type": "markdown",
   "metadata": {},
   "source": [
    "### Using `json.dump()` and `json.load()`\n",
    "\n",
    "Let’s write a short program that stores a set of numbers and another program that reads these numbers back into memory. The first program will use `json.dump()` to store the set of numbers, and the second program will use\n",
    "`json.load()`.\n",
    "The `json.dump()` function takes two arguments: a piece of data to store and a file object it can use to store the data. \n",
    "\n",
    "Here’s how you can use `json.dump()` to store a list of numbers"
   ]
  },
  {
   "cell_type": "code",
   "execution_count": null,
   "metadata": {},
   "outputs": [],
   "source": [
    "# import json module\n",
    "import json\n",
    "\n",
    "#create a list of integers to work with\n",
    "numbers = [2, 3, 5, 7, 11, 13]\n",
    "\n",
    "filename = 'numbers.json'\n",
    "with open(filename, 'w') as f:\n",
    "    json.dump(numbers, f)"
   ]
  },
  {
   "cell_type": "markdown",
   "metadata": {},
   "source": [
    "Open the *file numbers.json* and look at it. The data is stored in a format that looks just like Python:\n",
    "\n",
    "    [2, 3, 5, 7, 11, 13\n",
    "\n",
    "Now we’ll write a program that uses `json.load()` to read the list back into memory:"
   ]
  },
  {
   "cell_type": "code",
   "execution_count": null,
   "metadata": {},
   "outputs": [],
   "source": [
    "import json\n",
    "\n",
    "filename = 'numbers.json'\n",
    "with open(filename) as f:\n",
    "    numbers = json.load(f)\n",
    "\n",
    "print(numbers)"
   ]
  },
  {
   "cell_type": "markdown",
   "metadata": {},
   "source": [
    "**Excercise 6**\n",
    "- Write a program that prompts for the user’s favorite number. Use `json.dump()` to store this number in a file. \n",
    "- Write a separate program that reads in this value and prints the message, *“I know your favorite number! It’s _____.”*"
   ]
  },
  {
   "cell_type": "code",
   "execution_count": null,
   "metadata": {},
   "outputs": [],
   "source": []
  },
  {
   "cell_type": "markdown",
   "metadata": {},
   "source": [
    "**Excercise 7**\n",
    "\n",
    "Combine the two programs from *Exercise 6* into one file. If the number is already stored, report the favorite number to the user. If not, prompt for the user’s favorite number and store it in a file. Run the program twice to see that it works."
   ]
  },
  {
   "cell_type": "code",
   "execution_count": null,
   "metadata": {},
   "outputs": [],
   "source": []
  }
 ],
 "metadata": {
  "kernelspec": {
   "display_name": "Python 3",
   "language": "python",
   "name": "python3"
  },
  "language_info": {
   "codemirror_mode": {
    "name": "ipython",
    "version": 3
   },
   "file_extension": ".py",
   "mimetype": "text/x-python",
   "name": "python",
   "nbconvert_exporter": "python",
   "pygments_lexer": "ipython3",
   "version": "3.7.4"
  }
 },
 "nbformat": 4,
 "nbformat_minor": 2
}
