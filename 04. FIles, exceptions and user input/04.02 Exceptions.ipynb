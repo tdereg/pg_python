{
 "cells": [
  {
   "cell_type": "markdown",
   "metadata": {},
   "source": [
    "# Exceptions\n",
    "- Python uses special objects called exceptions to manage errors that arise during a program’s execution.\n",
    "- Whenever an error occurs that makes Python unsure what to do next, it creates an exception object. \n",
    "- If you write code that handles the exception, the program will continue running. \n",
    "- If you don’t handle the exception, the program will halt and show a traceback, which includes a report of the exception that was raised.\n",
    "- Exceptions are handled with `try-except` blocks. \n",
    "- A `try-except` block asks Python to do something, but it also tells Python what to do if an exception is raised. \n",
    "- When you use `try-except` blocks, your programs will continue running even if things start to go wrong. \n",
    "- Instead of tracebacks, which can be confusing for users to read, users will see friendly error messages that you write.\n"
   ]
  },
  {
   "cell_type": "code",
   "execution_count": 2,
   "metadata": {},
   "outputs": [
    {
     "ename": "ZeroDivisionError",
     "evalue": "division by zero",
     "output_type": "error",
     "traceback": [
      "\u001b[0;31m---------------------------------------------------------------------------\u001b[0m",
      "\u001b[0;31mZeroDivisionError\u001b[0m                         Traceback (most recent call last)",
      "\u001b[0;32m<ipython-input-2-9c3135b5184a>\u001b[0m in \u001b[0;36m<module>\u001b[0;34m\u001b[0m\n\u001b[1;32m      1\u001b[0m \u001b[0;31m# if you try to divide by 0, Python will raise the ZeroDivisionError Exception\u001b[0m\u001b[0;34m\u001b[0m\u001b[0;34m\u001b[0m\u001b[0;34m\u001b[0m\u001b[0m\n\u001b[0;32m----> 2\u001b[0;31m \u001b[0mprint\u001b[0m\u001b[0;34m(\u001b[0m\u001b[0;36m5\u001b[0m\u001b[0;34m/\u001b[0m\u001b[0;36m0\u001b[0m\u001b[0;34m)\u001b[0m\u001b[0;34m\u001b[0m\u001b[0;34m\u001b[0m\u001b[0m\n\u001b[0m",
      "\u001b[0;31mZeroDivisionError\u001b[0m: division by zero"
     ]
    }
   ],
   "source": [
    "# if you try to divide by 0, Python will raise the ZeroDivisionError Exception\n",
    "print(5/0)"
   ]
  },
  {
   "cell_type": "markdown",
   "metadata": {},
   "source": [
    "- When you think an error may occur, you can write a try-except block to handle the exception that might be raised. \n",
    "- You tell Python to try running some code, and you tell it what to do if the code results in a particular kind of exception.\n",
    "- Here’s what a try-except block for handling the ZeroDivisionError exception looks like:"
   ]
  },
  {
   "cell_type": "code",
   "execution_count": 7,
   "metadata": {},
   "outputs": [
    {
     "name": "stdout",
     "output_type": "stream",
     "text": [
      "You can't divide by zero!\n",
      "\n",
      "If more code followed the try-except block, the program would\n",
      "continue running because we told Python how to handle the error.\n"
     ]
    }
   ],
   "source": [
    "try:\n",
    "    print(5/0)\n",
    "except ZeroDivisionError:\n",
    "    print(\"You can't divide by zero!\")\n",
    "    \n",
    "print (\"\\nIf more code followed the try-except block, the program would\")\n",
    "print (\"continue running because we told Python how to handle the error.\")"
   ]
  },
  {
   "cell_type": "markdown",
   "metadata": {},
   "source": [
    "Handling errors correctly is especially important when the program has more work to do after the error occurs. This happens often in programs that prompt users for input. If the program responds to invalid input appropriately, it can prompt for more valid input instead of crashing"
   ]
  },
  {
   "cell_type": "code",
   "execution_count": 1,
   "metadata": {},
   "outputs": [
    {
     "name": "stdout",
     "output_type": "stream",
     "text": [
      "Give me two numbers, and I'll divide them.\n",
      "Enter 'q' to quit.\n",
      "\n",
      "First number: 1\n",
      "Second number: a\n",
      "You haven't entered two numbers\n",
      "\n",
      "First number: 1\n",
      "Second number: 3\n",
      "0.3333333333333333\n",
      "\n",
      "First number: q\n"
     ]
    }
   ],
   "source": [
    "print(\"Give me two numbers, and I'll divide them.\")\n",
    "print(\"Enter 'q' to quit.\")\n",
    "answer = 0\n",
    "while True:\n",
    "    first_number = input(\"\\nFirst number: \")\n",
    "    if first_number == 'q':\n",
    "        break\n",
    "    \n",
    "    second_number = input(\"Second number: \")\n",
    "    if second_number == 'q':\n",
    "        break\n",
    "    \n",
    "    # inside 'try' block put the code that might cause an error.\n",
    "    try:\n",
    "        answer = int(first_number) / int(second_number)\n",
    "    except ValueError:\n",
    "        print (\"You haven't entered two numbers\")\n",
    "        continue\n",
    "    except ZeroDivisionError:\n",
    "        print (\"You cannot divide by zero\")\n",
    "        continue\n",
    "    else:\n",
    "        # run this code only if the try block was successful\n",
    "        print(answer)"
   ]
  },
  {
   "cell_type": "markdown",
   "metadata": {},
   "source": [
    " - In the previous example, we informed our users that one of the files was unavailable. But you don’t need to report every exception you catch.\n",
    " - Sometimes you’ll want the program to fail silently when an exception occurs and continue on as if nothing happened. \n",
    " - To make a program fail silently, you write a try block as usual, but you explicitly tell Python to do nothing in the except block."
   ]
  },
  {
   "cell_type": "code",
   "execution_count": 2,
   "metadata": {},
   "outputs": [],
   "source": [
    "try:\n",
    "    print(5/0)\n",
    "except ZeroDivisionError:\n",
    "    pass"
   ]
  },
  {
   "cell_type": "markdown",
   "metadata": {},
   "source": [
    "**Excercise 1**\n",
    "\n",
    "One common problem when prompting for numerical input occurs when people provide text instead of numbers. When you try to convert the input to an `int`, you’ll get a `ValueError`. \n",
    "- Write a program that prompts for two numbers. Add them together and print the result. \n",
    "- Catch the `ValueError` if either input value is not a number, and print a friendly error message. \n",
    "- Test your program by entering two numbers and then by entering some text instead of a number"
   ]
  },
  {
   "cell_type": "code",
   "execution_count": null,
   "metadata": {},
   "outputs": [],
   "source": []
  },
  {
   "cell_type": "markdown",
   "metadata": {},
   "source": [
    "**Excercise 2**\n",
    "\n",
    "Wrap your code from *Exercise 1* in a while loop so the user can continue entering numbers even if they make a mistake and enter text instead of a number"
   ]
  },
  {
   "cell_type": "code",
   "execution_count": null,
   "metadata": {},
   "outputs": [],
   "source": []
  },
  {
   "cell_type": "markdown",
   "metadata": {},
   "source": [
    "**Excercise 3**\n",
    "\n",
    " - Make two files, `cats.txt` and `dogs.txt`. Store at least three names of cats in the first file and three names of dogs in the second file. \n",
    " - Write a program that tries to read these files and print the contents of the file to the screen. \n",
    " - Wrap your code in a `try-except` block to catch the `FileNotFound` error, and print a friendly message if a file is missing. \n",
    " - Move one of the files to a different location on your system, and make sure the code in the except block executes properly"
   ]
  },
  {
   "cell_type": "code",
   "execution_count": null,
   "metadata": {},
   "outputs": [],
   "source": []
  },
  {
   "cell_type": "markdown",
   "metadata": {},
   "source": [
    "**Excercise 4**\n",
    "\n",
    "Modify your except block in *Exercise 2* to fail silently if either file is missing."
   ]
  },
  {
   "cell_type": "code",
   "execution_count": null,
   "metadata": {},
   "outputs": [],
   "source": []
  }
 ],
 "metadata": {
  "kernelspec": {
   "display_name": "Python 3",
   "language": "python",
   "name": "python3"
  },
  "language_info": {
   "codemirror_mode": {
    "name": "ipython",
    "version": 3
   },
   "file_extension": ".py",
   "mimetype": "text/x-python",
   "name": "python",
   "nbconvert_exporter": "python",
   "pygments_lexer": "ipython3",
   "version": "3.7.4"
  }
 },
 "nbformat": 4,
 "nbformat_minor": 2
}
