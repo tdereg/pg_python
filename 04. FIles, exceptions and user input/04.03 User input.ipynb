{
 "cells": [
  {
   "cell_type": "markdown",
   "metadata": {},
   "source": [
    "# User input"
   ]
  },
  {
   "cell_type": "markdown",
   "metadata": {},
   "source": [
    "## Using `input()` to accept text input\n",
    " - Sometimes Python programmes need to get some information from the user\n",
    " - To get information from user you'll be using `input()` function\n",
    " - The `input()` function pauses Python program and waits for the user to enter some text\n",
    " - The `input()` function takes one argument: the prompt, or instructions, that we want to display to the user so they know what to do\n",
    " - Each time you use the `input()` function, you should include a clear, easy-to follow prompt that tells the user exactly what kind of information you’re looking for\n",
    " - Once Python receives the user’s input, it assigns that input to a variable to make it convenient for you to work with\n",
    " - User's input can be assigned to the variable message and used in the program \n"
   ]
  },
  {
   "cell_type": "code",
   "execution_count": null,
   "metadata": {},
   "outputs": [],
   "source": [
    "user_name = input(\"What's your name? \")\n",
    "print(f\"Hello {user_name}!\")\n"
   ]
  },
  {
   "cell_type": "markdown",
   "metadata": {},
   "source": [
    "## Using `int()` to accept numerical input"
   ]
  },
  {
   "cell_type": "markdown",
   "metadata": {},
   "source": [
    "When you use the `input()` function, Python interprets everything the user enters as a string.\n",
    "\n",
    "The code below won't work. When you try to use the input to do a numerical operation Python\n",
    "produces an error because it can’t add a string to an integer:"
   ]
  },
  {
   "cell_type": "code",
   "execution_count": null,
   "metadata": {},
   "outputs": [],
   "source": [
    "user_age = input (\"How old are you? \")\n",
    "user_age += 100\n",
    "print (f\"\\In 100 years you will be {user_age} years old\")"
   ]
  },
  {
   "cell_type": "markdown",
   "metadata": {},
   "source": [
    "We can resolve this issue by using the int() function, which tells Python to treat the input as a numerical value. The int() function converts a string representation of a number to a numerical representation, as shown here:"
   ]
  },
  {
   "cell_type": "code",
   "execution_count": null,
   "metadata": {},
   "outputs": [],
   "source": [
    "user_age = input (\"How old are you? \")\n",
    "user_age = int(user_age) + 100\n",
    "print (f\"\\nIn 100 years you will be {user_age} years old\")"
   ]
  },
  {
   "cell_type": "markdown",
   "metadata": {},
   "source": [
    "**Excercise 1**:\n",
    " - Write a program that asks the user what kind of rental car they would like.\n",
    " - Print a message about that car, such as “Let me see if I can find you a Subaru.”"
   ]
  },
  {
   "cell_type": "code",
   "execution_count": null,
   "metadata": {},
   "outputs": [],
   "source": []
  },
  {
   "cell_type": "markdown",
   "metadata": {},
   "source": [
    "**Excercise 2**:\n",
    " - Write a program that asks the user how many people are in their dinner group. \n",
    " - If the answer is more than eight, print a message saying they’ll have to wait for a table. \n",
    " - Otherwise, report that their table is ready."
   ]
  },
  {
   "cell_type": "code",
   "execution_count": null,
   "metadata": {},
   "outputs": [],
   "source": []
  },
  {
   "cell_type": "markdown",
   "metadata": {},
   "source": [
    "**Excercise 3**:\n",
    " - Ask the user for a number, and then report whether the number is a multiple of 10 or not\n",
    " - TIP: use the modulo operator `%`, which divides one number by another number and returns the remainder. Reminder from division by 10 should be 0"
   ]
  },
  {
   "cell_type": "code",
   "execution_count": null,
   "metadata": {},
   "outputs": [],
   "source": []
  }
 ],
 "metadata": {
  "kernelspec": {
   "display_name": "Python 3",
   "language": "python",
   "name": "python3"
  },
  "language_info": {
   "codemirror_mode": {
    "name": "ipython",
    "version": 3
   },
   "file_extension": ".py",
   "mimetype": "text/x-python",
   "name": "python",
   "nbconvert_exporter": "python",
   "pygments_lexer": "ipython3",
   "version": "3.7.4"
  }
 },
 "nbformat": 4,
 "nbformat_minor": 2
}
