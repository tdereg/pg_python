{
 "cells": [
  {
   "cell_type": "markdown",
   "metadata": {
    "collapsed": true
   },
   "source": [
    "# Object Oriented Programming\n",
    "Object Oriented Programming is quite a wide topic. We are going to limit ourselves to the following aspect of Object Oriented Programming in Python:\n",
    "\n",
    "* Object Oriented Programming\n",
    "* *Objects* and *Classes*\n",
    "* Using the *class* keyword\n",
    "* Creating *class* attributes\n",
    "* Creating *class* methods\n",
    "* *Inheritance*\n",
    "* *Polymorphism*\n",
    "* *Class* special methods"
   ]
  },
  {
   "cell_type": "markdown",
   "metadata": {},
   "source": [
    "### Object Oriented Programming\n",
    "\n",
    "* One of the most effective approaches to writing software\n",
    "* Programming paradigm based on the concept of **Objects**, which can contain:\n",
    "* In Python, *everything is an object*,\n",
    "* Use `type()` to check the type of object."
   ]
  },
  {
   "cell_type": "code",
   "execution_count": 1,
   "metadata": {},
   "outputs": [
    {
     "name": "stdout",
     "output_type": "stream",
     "text": [
      "<class 'int'>\n",
      "<class 'list'>\n",
      "<class 'tuple'>\n",
      "<class 'dict'>\n"
     ]
    }
   ],
   "source": [
    "# in Python everythign is a class\n",
    "print(type(1))\n",
    "print(type([]))\n",
    "print(type(()))\n",
    "print(type({}))"
   ]
  },
  {
   "cell_type": "markdown",
   "metadata": {},
   "source": [
    "### Classes \n",
    "\n",
    "* The definition of data format and available procedures for a given type of class (class of object) \n",
    "* They represent real-world things and situations\n",
    "* Class is a blueprint that defines the nature of a future object \n",
    "* When you write a class, you define the general behavior that a whole category of objects can have.\n",
    "* From class we create object - class instance,"
   ]
  },
  {
   "cell_type": "markdown",
   "metadata": {},
   "source": [
    "### Objects \n",
    "\n",
    "* **Instance of** particular **class**, \n",
    "* Making an object from a class is called ***instantiation***, and you work with ***instances of a class***. \n",
    "* When you create individual objects from the class, each object is automatically equipped with the general behavior\n",
    "* Class determines type of ovject: we can have class *Car* and several objects of this class e.g. *Mazda* or *Tesla*)"
   ]
  },
  {
   "cell_type": "markdown",
   "metadata": {},
   "source": [
    "### Variables\n",
    "* An *attribute* is a characteristic of an object.\n",
    "* Can store information formatted in multiple  data types (e.g. strings, lists, numbers...) \n",
    "* Variables are stored in the form of fields (often known as **attributes** or **properties**), \n",
    "    * **Class variables** – belong to the class as a whole; there is only one copy of class variable which is shared by all objects of particualr class type\n",
    "    * **Instance variables** or **attributes** – data that belongs to individual objects: every object has its own copy of instance variable\n",
    "    * **Member variables** – refers to both the class and instance variables that are defined by a particular class"
   ]
  },
  {
   "cell_type": "markdown",
   "metadata": {},
   "source": [
    "### Procedures \n",
    "* business logic also known as **functions** or **methods**\n",
    "* a **method** is an operation we can perform with the object.\n",
    "* procedures take input, generate output, and manipulate data.\n",
    "* object's procedures (methods) can access and modify the data fields of the object with which they are associated (objects have a notion of *this* or *self*),\n",
    "* Everything you learned about functions applies to methods as well; the only practical difference for now is the way we’ll call methods.\n",
    "    * **Class methods** – belong to the class as a whole and have access only to class variables and inputs from the procedure call\n",
    "    * **Instance methods** – belong to individual objects, and have access to instance variables for the specific object they are called on, inputs, and class variables"
   ]
  },
  {
   "cell_type": "markdown",
   "metadata": {},
   "source": [
    "#### Defining a class\n",
    "- Create new Class using the <code>class</code> keyword\n",
    "- By convention class name starts with a capital letter,"
   ]
  },
  {
   "cell_type": "code",
   "execution_count": 2,
   "metadata": {},
   "outputs": [
    {
     "name": "stdout",
     "output_type": "stream",
     "text": [
      "<class '__main__.Sample'>\n"
     ]
    }
   ],
   "source": [
    "# Create a new class called Sample\n",
    "class Sample:\n",
    "    pass\n",
    "\n",
    "# x is a reference to new instance of Sample class\n",
    "x = Sample()\n",
    "\n",
    "print(type(x))"
   ]
  },
  {
   "cell_type": "markdown",
   "metadata": {},
   "source": [
    "* Inside the class you can define class attributes and methods (see below) e.g. class `Dog` can have attributes such as dog's age or its name and methods such as `.bark()` or `.sit()`"
   ]
  },
  {
   "cell_type": "code",
   "execution_count": 4,
   "metadata": {},
   "outputs": [],
   "source": [
    "class Dog:\n",
    "    \"\"\"A simple attempt to model a dog.\"\"\"\n",
    "\n",
    "    def __init__(self, name, age):\n",
    "        \"\"\"Initialize name and age attributes.\"\"\"\n",
    "        self.name = name\n",
    "        self.age = age\n",
    "\n",
    "    def sit(self):\n",
    "        \"\"\"Simulate a dog sitting in response to a command.\"\"\"\n",
    "        print(f\"{self.name} is now sitting.\")\n",
    "\n",
    "    def bark(self):\n",
    "        \"\"\"Simulate rolling over in response to a command.\"\"\"\n",
    "        print(f\"{self.name} rolled over!\")"
   ]
  },
  {
   "cell_type": "markdown",
   "metadata": {},
   "source": [
    "`__init__()` **method**\n",
    "* There is a special method called `__init__()` which is used to initialize the attributes of an object. \n",
    "* It is called right after new object is created\n",
    "* Python runs `__init__()` automatically whenever we create a new instance based on the Dog class. \n",
    "* This method has *two leading underscores* and *two trailing underscores*, a convention that helps prevent Python’s default method names from conflicting with your method names. \n",
    "\n",
    "In our example above:\n",
    "- We define the `__init__()` method to have three parameters: `self`, `name`, and `age`. \n",
    "- The `self` paramete:\n",
    "    - is required in the method definition, and it must come first before the other parameters,\n",
    "    - must be included in the definition because when Python calls this method later (to create an instance of `Dog`), the method call will automatically pass the self argument\n",
    "- Every method call associated with an instance automatically passes self, which is a reference to the instance itself; it gives the individual instance access to the attributes and methods in the class. \n",
    "- When we make an instance of `Dog`, Python will call the `__init__()` method from the `Dog` class. \n",
    "- We’ll pass `Dog()` a name and an age as arguments; \n",
    "- `self` is passed automatically, so we don’t need to pass it."
   ]
  },
  {
   "cell_type": "code",
   "execution_count": 10,
   "metadata": {},
   "outputs": [],
   "source": [
    "# creating mulitple instances (ovjects) from a class\n",
    "laika = Dog(name='Laika', age=13)\n",
    "reksio = Dog(name='Reksio', age=10)"
   ]
  },
  {
   "cell_type": "code",
   "execution_count": 7,
   "metadata": {},
   "outputs": [
    {
     "ename": "TypeError",
     "evalue": "__init__() missing 2 required positional arguments: 'name' and 'age'",
     "output_type": "error",
     "traceback": [
      "\u001b[0;31m---------------------------------------------------------------------------\u001b[0m",
      "\u001b[0;31mTypeError\u001b[0m                                 Traceback (most recent call last)",
      "\u001b[0;32m<ipython-input-7-4a01c031a78a>\u001b[0m in \u001b[0;36m<module>\u001b[0;34m\u001b[0m\n\u001b[1;32m      1\u001b[0m \u001b[0;31m# what will happen if you won't initialize class attirbute while creating new instance of an object?\u001b[0m\u001b[0;34m\u001b[0m\u001b[0;34m\u001b[0m\u001b[0;34m\u001b[0m\u001b[0m\n\u001b[0;32m----> 2\u001b[0;31m \u001b[0mlaika\u001b[0m \u001b[0;34m=\u001b[0m \u001b[0mDog\u001b[0m\u001b[0;34m(\u001b[0m\u001b[0;34m)\u001b[0m\u001b[0;34m\u001b[0m\u001b[0;34m\u001b[0m\u001b[0m\n\u001b[0m",
      "\u001b[0;31mTypeError\u001b[0m: __init__() missing 2 required positional arguments: 'name' and 'age'"
     ]
    }
   ],
   "source": [
    "# what will happen if you won't initialize class attirbute while creating new instance of an object?\n",
    "laika = Dog()"
   ]
  },
  {
   "cell_type": "markdown",
   "metadata": {},
   "source": [
    "#### Accessing attirbutes\n",
    "* Each attribute in a class definition begins with a reference to the instance object by convention named `self`.\n",
    "* Any variable prefixed with `self` is available to every method in the class; it's also able to access these variables through any instance created from the class.\n",
    "* The syntax for getting access to an attibute *within the class* is  `self.attribute = something`\n",
    "* The syntax for getting access to *variables through an instance created from the class* is  `object_name.attribute`"
   ]
  },
  {
   "cell_type": "code",
   "execution_count": 6,
   "metadata": {},
   "outputs": [
    {
     "name": "stdout",
     "output_type": "stream",
     "text": [
      "Laika\n",
      "13\n"
     ]
    }
   ],
   "source": [
    "# you can access class attirbutes using `.` (dot)\n",
    "print (laika.name)\n",
    "print (laika.age)\n"
   ]
  },
  {
   "cell_type": "markdown",
   "metadata": {},
   "source": [
    "#### Calling Methods\n",
    "- To call a method, give the name of the instance (in this case, `laika`) and the method you want to call, separated by a dot. \n",
    "- When Python reads `laika.sit()`, it looks for the method `sit()` in the class Dog and runs that code.\n",
    "- Python interprets the line `laika.bark()` in the same way."
   ]
  },
  {
   "cell_type": "code",
   "execution_count": 8,
   "metadata": {},
   "outputs": [
    {
     "name": "stdout",
     "output_type": "stream",
     "text": [
      "Laika rolled over!\n",
      "Laika is now sitting.\n"
     ]
    }
   ],
   "source": [
    "laika.bark()\n",
    "laika.sit()"
   ]
  },
  {
   "cell_type": "code",
   "execution_count": 9,
   "metadata": {},
   "outputs": [
    {
     "name": "stdout",
     "output_type": "stream",
     "text": [
      "Reksio rolled over!\n",
      "Reksio is now sitting.\n"
     ]
    }
   ],
   "source": [
    "reksio.bark()\n",
    "reksio.sit()"
   ]
  },
  {
   "cell_type": "markdown",
   "metadata": {},
   "source": [
    "**Excercise 1**\n",
    "- Make a class called `Restaurant`. \n",
    "- The `__init__()` method for `Restaurant` should store two attributes: \n",
    "    - a `restaurant_name`,\n",
    "    - a `cuisine_type`. \n",
    "- Make a method called `describe_restaurant()` that prints these two pieces of information, \n",
    "- Make a method called `open_restaurant()` that prints a message indicating that the restaurant is open.\n",
    "- Make an instance called restaurant from your class. Print the two attributes individually, and then call both methods."
   ]
  },
  {
   "cell_type": "code",
   "execution_count": null,
   "metadata": {},
   "outputs": [],
   "source": []
  },
  {
   "cell_type": "markdown",
   "metadata": {},
   "source": [
    "**Excercise 2**\n",
    "- Start with your class from *Exercise 1*. \n",
    "- Create three different instances from the class, and call `describe_restaurant()` for each instance."
   ]
  },
  {
   "cell_type": "code",
   "execution_count": null,
   "metadata": {},
   "outputs": [],
   "source": []
  },
  {
   "cell_type": "markdown",
   "metadata": {},
   "source": [
    "**Excercise 3**\n",
    "- Make a class called `User`. \n",
    "- Create two attributes called `first_name` and `last_name`, and then create several other attributes that are typically stored in a user profile. \n",
    "- Make a method called `describe_user()` that prints a summary of the user’s information. \n",
    "- Make another method called `greet_user()` that prints a personalized greeting to the user.\n",
    "- Create several instances representing different users, and call both methods for each user."
   ]
  },
  {
   "cell_type": "code",
   "execution_count": null,
   "metadata": {},
   "outputs": [],
   "source": []
  },
  {
   "cell_type": "markdown",
   "metadata": {},
   "source": [
    "#### Setting a Default Value for an Attribute"
   ]
  },
  {
   "cell_type": "code",
   "execution_count": 22,
   "metadata": {},
   "outputs": [
    {
     "name": "stdout",
     "output_type": "stream",
     "text": [
      "2018 Mazda 6\n",
      "This car has 0 kilometers on it.\n"
     ]
    }
   ],
   "source": [
    "class Car:\n",
    "    \"\"\"A simple attempt to represent a car.\"\"\"\n",
    "\n",
    "    def __init__(self, make, model, year):\n",
    "        \"\"\"Initialize attributes to describe a car.\"\"\"\n",
    "        self.make = make\n",
    "        self.model = model\n",
    "        self.year = year\n",
    "        self.odometer_reading = 0\n",
    "\n",
    "    def get_descriptive_name(self):\n",
    "        \"\"\"Return a neatly formatted descriptive name.\"\"\"\n",
    "        long_name = f\"{self.year} {self.make} {self.model}\"\n",
    "        long_name = long_name.title() + f\"\\nThis car has {self.odometer_reading} kilometers on it.\"\n",
    "        return long_name\n",
    "\n",
    "    def update_odometer(self, kilometers):\n",
    "        \"\"\"Set the odometer reading to the given value.\"\"\"\n",
    "        self.odometer_reading = kilometers\n",
    "\n",
    "my_new_car = Car('mazda', '6', 2018)\n",
    "print(my_new_car.get_descriptive_name())"
   ]
  },
  {
   "cell_type": "markdown",
   "metadata": {},
   "source": [
    "**Modifying an attribute’s value directly**"
   ]
  },
  {
   "cell_type": "code",
   "execution_count": 23,
   "metadata": {},
   "outputs": [
    {
     "name": "stdout",
     "output_type": "stream",
     "text": [
      "2018 Mazda 6\n",
      "This car has 1000 kilometers on it.\n"
     ]
    }
   ],
   "source": [
    "my_new_car.odometer_reading = 1000\n",
    "print(my_new_car.get_descriptive_name())"
   ]
  },
  {
   "cell_type": "markdown",
   "metadata": {},
   "source": [
    "**Modifying an attribute’s value through method**"
   ]
  },
  {
   "cell_type": "code",
   "execution_count": 24,
   "metadata": {},
   "outputs": [
    {
     "name": "stdout",
     "output_type": "stream",
     "text": [
      "2018 Mazda 6\n",
      "This car has 2000 kilometers on it.\n"
     ]
    }
   ],
   "source": [
    "my_new_car.update_odometer(2000)\n",
    "print(my_new_car.get_descriptive_name())"
   ]
  },
  {
   "cell_type": "markdown",
   "metadata": {},
   "source": [
    "**Excercise 4**\n",
    "\n",
    "- Start with your program from *Exercise 1*. \n",
    "- Add an attribute called `number_served` with a default value of `0`. \n",
    "- Create an instance called restaurant from this class. \n",
    "- Print the number of customers the restaurant has served, and then change this value and print it again.\n",
    "- Add a method called `set_number_served()` that lets you set the number of customers that have been served. \n",
    "- Call this method with a new number and print the value again.\n",
    "- Add a method called `increment_number_served()` that lets you increment the number of customers who’ve been served. \n",
    "- Call this method with any number you like that could represent how many customers were served in, say, a day of business."
   ]
  },
  {
   "cell_type": "code",
   "execution_count": null,
   "metadata": {},
   "outputs": [],
   "source": []
  },
  {
   "cell_type": "markdown",
   "metadata": {},
   "source": [
    "**Excercise 5**\n",
    "\n",
    "- Add an attribute called `login_attempts` to your `User` class from *Exercise 3*. \n",
    "- Write a method called `increment_login_attempts()` that increments the value of login_attempts by 1. \n",
    "- Write another method called `reset_login_attempts()` that resets the value of login_attempts to 0.\n",
    "- Make an instance of the `User` class and call `increment_login_attempts()` several times.\n",
    "- Print the value of login_attempts to make sure it was incremented properly, and then call `reset_login_attempts()`. \n",
    "- Print `login_attempts` again to make sure it was reset to 0."
   ]
  },
  {
   "cell_type": "code",
   "execution_count": null,
   "metadata": {},
   "outputs": [],
   "source": []
  },
  {
   "cell_type": "markdown",
   "metadata": {},
   "source": [
    "#### Class and Object Variables \n",
    "- **Class variables**:\n",
    "    - belong to the class as a whole, \n",
    "    - there is only one copy of class variable which is shared by all objects of particualr class type\n",
    "    - by convention, they are placed before the `__init__()`\n",
    "- **Instance variables**\n",
    "    - data that belongs to individual objects,\n",
    "    - every object has its own copy of instance variable"
   ]
  },
  {
   "cell_type": "markdown",
   "metadata": {},
   "source": [
    "* **Class Object Attributes** are the same for any instance of the class,\n",
    "    * You can create the attribute `species` for the `Dog` class. Dgs, regardless of their breed, name, or other attributes, will always be mammals\n",
    "* **Class Object Attributes** are defined outside of any methods in the class\n",
    "    * By convention, they are placed before the `__init__()`"
   ]
  },
  {
   "cell_type": "code",
   "execution_count": 37,
   "metadata": {},
   "outputs": [
    {
     "name": "stdout",
     "output_type": "stream",
     "text": [
      "Pi is:  3.14\n",
      "Radius is:  2\n",
      "Pi is:  3.14\n",
      "Radius is:  22\n"
     ]
    }
   ],
   "source": [
    "class Circle:\n",
    "    # Class variables\n",
    "    pi = 3.14\n",
    "\n",
    "    # Circle gets instantiated with a radius (default is 1)\n",
    "    def __init__(self, radius=1):\n",
    "        self.radius = radius \n",
    "\n",
    "    # Method for resetting Radius\n",
    "    def setRadius(self, new_radius):\n",
    "        self.radius = new_radius\n",
    "\n",
    "    # Method for getting Circumference\n",
    "    def getArea(self):\n",
    "        return self.radius * self.radius * Circle.pi\n",
    "    \n",
    "    # Method for getting Circumference\n",
    "    def getCircumference(self):\n",
    "        return self.radius * self.pi * 2\n",
    "    \n",
    "    def printInfo(self):\n",
    "        print('Pi is: ', self.pi)\n",
    "        print('Radius is: ', self.radius)\n",
    "\n",
    "\n",
    "c1 = Circle(radius=2)\n",
    "c2 = Circle(radius=22)\n",
    "\n",
    "c1.printInfo()\n",
    "c2.printInfo()"
   ]
  }
 ],
 "metadata": {
  "kernelspec": {
   "display_name": "Python 3",
   "language": "python",
   "name": "python3"
  },
  "language_info": {
   "codemirror_mode": {
    "name": "ipython",
    "version": 3
   },
   "file_extension": ".py",
   "mimetype": "text/x-python",
   "name": "python",
   "nbconvert_exporter": "python",
   "pygments_lexer": "ipython3",
   "version": "3.7.4"
  }
 },
 "nbformat": 4,
 "nbformat_minor": 1
}
