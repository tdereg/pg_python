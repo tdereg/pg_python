{
 "cells": [
  {
   "cell_type": "markdown",
   "metadata": {},
   "source": [
    "## Inheritance\n",
    "* Inheritance is a way to form new classes using classes that have already been defined. \n",
    "* When one class inherits from another, it takes on the attributes and methods of the first class.\n",
    "* The newly formed classes are called ***child classes***, the classes that we derive from are called ***parent classes*. \n",
    "* The ***child classes*** (derived) override or extend the functionality of ***paren classes*** (base).\n",
    "* The ***child class*** can inherit any or all of the attributes and methods of its ***parent class***, but it’s also free to define new attributes and methods of its own.\n",
    "* Important benefits of inheritance are code reuse and reduction of complexity of a program. \n",
    "\n",
    "* Used for code reuse and extensibility in the form of either classes or prototypes. \n",
    "* Allows classes to be arranged in a hierarchy that represents \"is-a-type-of\" relationships e.g. \n",
    "    * class `Employee` might inherit from class `Person`,\n",
    "    * all the data and methods available to the parent class also appear in the child class with the same names e.g. class `Person` might define variables `first_name` and `last_name` with method `make_full_name()`. These will also be available in class `Employee`, which might add the variables `position` and `salary`\n",
    "* Inheritance allows easy re-use of the same procedures and data definitions, in addition to potentially mirroring real-world relationships in an intuitive way\n",
    "\n",
    "Let's see an example by incorporating our previous work on the Dog class:"
   ]
  },
  {
   "cell_type": "code",
   "execution_count": null,
   "metadata": {},
   "outputs": [],
   "source": [
    "class Animal:\n",
    "    def __init__(self):\n",
    "        print(\"Animal created\")\n",
    "\n",
    "    def whoAmI(self):\n",
    "        print(\"Animal\")\n",
    "\n",
    "    def eat(self):\n",
    "        print(\"Eating\")\n",
    "\n",
    "\n",
    "class Dog(Animal):\n",
    "    def __init__(self):\n",
    "        #Animal.__init__(self)\n",
    "        super().__init__()\n",
    "        print(\"Dog created\")\n",
    "    \n",
    "    def whoAmI(self):\n",
    "        \"\"\" overrirde method from base class \"\"\"\n",
    "        #super().whoAmI()\n",
    "        print(\"Dog\")\n",
    "\n",
    "    def bark(self):\n",
    "        \"\"\" new method \"\"\"\n",
    "        print(\"Woof!\")"
   ]
  },
  {
   "cell_type": "code",
   "execution_count": null,
   "metadata": {},
   "outputs": [],
   "source": [
    "d = Dog()"
   ]
  },
  {
   "cell_type": "code",
   "execution_count": null,
   "metadata": {},
   "outputs": [],
   "source": [
    "d.whoAmI()"
   ]
  },
  {
   "cell_type": "code",
   "execution_count": null,
   "metadata": {},
   "outputs": [],
   "source": [
    "d.eat()"
   ]
  },
  {
   "cell_type": "code",
   "execution_count": null,
   "metadata": {},
   "outputs": [],
   "source": [
    "d.bark()"
   ]
  },
  {
   "cell_type": "markdown",
   "metadata": {},
   "source": [
    "In this example, we have two classes: `Animal` and `Dog`. The `Animal` is the base class, the `Dog` is the derived class. \n",
    "- When you create a child class, the parent class must be part of the current file and must appear before the child class in the file. \n",
    "- The name of the parent class must be included in parentheses in the definition of a child class.\n",
    "- Subclasses can override the methods defined by superclasses\n",
    "- Once you have a child class that inherits from a parent class, you can add any new attributes and methods necessary to differentiate the child class from the parent class:\n",
    "    - The derived class ***inherits*** the functionality of the base class (shown by the `eat()` method). \n",
    "    - The derived class ***can modify (override)*** existing behavior of the base class (shown by the `whoAmI`() method). \n",
    "        - You can override any method from the parent class that doesn’t fit what you’re trying to model with the child class. \n",
    "        - To do this, you define a method in the child class with the same name as the method you want to override in the parent class. \n",
    "        - Python will disregard the parent class method and only pay attention to the method you define in the child class.\n",
    "\n",
    "    - The derived class ***extends*** the functionality of the base class, by defining a new `bark()` method.\n",
    "- When an object of derived class is created, it ***first*** runs ***contructor*** (`__init__()`) ***of the parent*** calss, and ***only than*** the constructor of ***child class***  \n",
    "- The `super()` function is a special function that allows you to call a method from the parent class. "
   ]
  },
  {
   "cell_type": "markdown",
   "metadata": {},
   "source": [
    "## Instances as Attributes\n",
    "- When modeling something from the real world in code, you may find that you’re adding more and more detail to a class. \n",
    "- You’ll find that you have a growing list of attributes and methods and that your files are becoming lengthy. \n",
    "- In these situations, you might recognize that part of one class can be written as a separate class. \n",
    "- You can break your large class into smaller classes that work together."
   ]
  },
  {
   "cell_type": "code",
   "execution_count": null,
   "metadata": {},
   "outputs": [],
   "source": [
    "class Car:\n",
    "    \"\"\"A simple attempt to represent a car.\"\"\"\n",
    "    \n",
    "    def __init__(self, make, model, year):\n",
    "        self.make = make\n",
    "        self.model = model\n",
    "        self.year = year\n",
    "        self.odometer_reading = 0\n",
    "    \n",
    "    def get_descriptive_name(self):\n",
    "        long_name = f\"{self.year} {self.make} {self.model}\"\n",
    "        return long_name.title()\n",
    "    \n",
    "    def read_odometer(self):\n",
    "        print(f\"This car has {self.odometer_reading} miles on it.\")\n",
    "    \n",
    "    def update_odometer(self, mileage):\n",
    "        if mileage >= self.odometer_reading:\n",
    "            self.odometer_reading = mileage\n",
    "        else:\n",
    "            print(\"You can't roll back an odometer!\")\n",
    "    \n",
    "    def increment_odometer(self, miles):\n",
    "        self.odometer_reading += miles"
   ]
  },
  {
   "cell_type": "code",
   "execution_count": null,
   "metadata": {},
   "outputs": [],
   "source": [
    "class Battery:\n",
    "    \"\"\"A simple attempt to model a battery for an electric car.\"\"\"\n",
    "    \n",
    "    def __init__(self, battery_size=75):\n",
    "        \"\"\"Initialize the battery's attributes.\"\"\"\n",
    "        self.battery_size = battery_size\n",
    "    \n",
    "    def describe_battery(self):\n",
    "        \"\"\"Print a statement describing the battery size.\"\"\"\n",
    "        print(f\"This car has a {self.battery_size}-kWh battery.\")"
   ]
  },
  {
   "cell_type": "code",
   "execution_count": null,
   "metadata": {},
   "outputs": [],
   "source": [
    "class ElectricCar(Car):\n",
    "    \"\"\"Represent aspects of a car, specific to electric vehicles.\"\"\"\n",
    "\n",
    "    def __init__(self, make, model, year):\n",
    "        \"\"\"\n",
    "        Initialize attributes of the parent class.\n",
    "        Then initialize attributes specific to an electric car.\n",
    "        \"\"\"\n",
    "        super().__init__(make, model, year)\n",
    "        self.battery = Battery()"
   ]
  },
  {
   "cell_type": "code",
   "execution_count": null,
   "metadata": {},
   "outputs": [],
   "source": [
    "my_tesla = ElectricCar('tesla', 'model s', 2019)\n",
    "print(my_tesla.get_descriptive_name())\n",
    "my_tesla.battery.describe_battery()"
   ]
  },
  {
   "cell_type": "markdown",
   "metadata": {},
   "source": [
    "**Excercise 1**\n",
    "\n",
    "- An ice cream stand is a specific kind of restaurant. \n",
    "- Write a class called `IceCreamStand` that inherits from the `Restaurant` class\n",
    "- Add an attribute called `flavors` that stores a list of ice cream flavors. \n",
    "- Write a method that displays these flavors. \n",
    "- Create an instance of `IceCreamStand`, and call all its methods."
   ]
  },
  {
   "cell_type": "code",
   "execution_count": null,
   "metadata": {},
   "outputs": [],
   "source": [
    "class Restaurant:\n",
    "    def __init__(self, restaurant_name, cuisine_type):\n",
    "        self.restaurant_name = restaurant_name\n",
    "        self.cuisine_type = cuisine_type\n",
    "        \n",
    "    def describe_restaurant(self):\n",
    "        print (f\"Restarurnt name: {self.restaurant_name}\\nCuisine type: {self.cuisine_type}\\n\")\n",
    "        \n",
    "    def open_restaurant(self):\n",
    "        print (f\"Restaurant is open\")"
   ]
  },
  {
   "cell_type": "markdown",
   "metadata": {},
   "source": [
    "**Excercise 2**\n",
    "\n",
    "- Make a class called `User`.\n",
    "    - Create two attributes called `first_name` and `last_name`.\n",
    "    - Make a method called `describe_user()` that prints a summary of the user’s information.\n",
    "    - Make another method called `greet_user()` that prints a personalized greeting to the user.\n",
    "- Write a class called `Admin` that inherits from the `User` class (administrator is a special kind of user)\n",
    "    - Add an attribute, `privileges`, that stores a list of strings like `\"can add post\"`, `\"can delete post\"`, `\"can ban user\"`, and so on. \n",
    "- Write a method called `show_privileges()` that lists the administrator’s set of privileges. \n",
    "- Create an instance of `Admin`, and call all its methods"
   ]
  },
  {
   "cell_type": "code",
   "execution_count": null,
   "metadata": {},
   "outputs": [],
   "source": []
  },
  {
   "cell_type": "markdown",
   "metadata": {},
   "source": [
    "**Excercise 3**\n",
    "\n",
    "- Write a separate `Privileges` class. \n",
    "    - The class should have one attribute, `privileges`, that stores a list of strings as described in previous exercise\n",
    "    - Move the `show_privileges()` method to this class. \n",
    "- Make a `Privileges` instance as an attribute in the `Admin` class. \n",
    "- Create a new instance of `Admin` and use your method to show its privileges."
   ]
  },
  {
   "cell_type": "markdown",
   "metadata": {},
   "source": [
    "## Importing\n",
    "\n",
    "- Importing classes is an effective way to program. \n",
    "- Picture how long program file would be if all used in it classes were included. \n",
    "- When you instead move the class to a module and import the module, you still get all the same functionality, but you keep your main program file clean and easy to read.\n",
    "- You also store most of the logic in separate files; once your classes work as you want them to, you can leave those files alone and focus on the higherlevel logic of your main program."
   ]
  },
  {
   "cell_type": "markdown",
   "metadata": {},
   "source": [
    "#### Importing a Single Class\n",
    "\n",
    "- The `import` statement tells Python to open the car module (`car.py`) and import the class `Car`. \n",
    "- Now we can use the `Car` class as if it were defined in this file."
   ]
  },
  {
   "cell_type": "code",
   "execution_count": null,
   "metadata": {},
   "outputs": [],
   "source": [
    "from car import Car\n",
    "\n",
    "my_new_car = Car('audi', 'a4', 2019)\n",
    "print(my_new_car.get_descriptive_name())\n",
    "\n",
    "my_new_car.odometer_reading = 23\n",
    "my_new_car.read_odometer()"
   ]
  },
  {
   "cell_type": "markdown",
   "metadata": {},
   "source": [
    "#### Importing an entire module\n",
    "\n",
    "- You can store as many classes as you need in a single module, although each class in a module should be related somehow.\n",
    "- You can also import an entire module and then access the classes you need using dot notation. \n",
    "- This approach is simple and results in code that is easy to read. \n",
    "- Because every call that creates an instance of a class includes the module name, you won’t have naming conflicts with any names used in the current file"
   ]
  },
  {
   "cell_type": "code",
   "execution_count": null,
   "metadata": {},
   "outputs": [],
   "source": [
    "import car\n",
    "\n",
    "my_tesla = car.ElectricCar('tesla', 'model s', 2019)\n",
    "print(my_tesla.get_descriptive_name())\n",
    "my_tesla.battery.describe_battery()\n",
    "my_tesla.battery.get_range()"
   ]
  },
  {
   "cell_type": "markdown",
   "metadata": {},
   "source": [
    "#### Importing all classes from a module\n",
    "\n",
    "This method is not recommended for severakl reasons:\n",
    "\n",
    "1. With this approach it’s unclear which classes you’re using from the module. \n",
    "1. This approach can also lead to confusion with names in the file. \n",
    "1. If you accidentally import a class with the same name as something else in your program file, you can create "
   ]
  },
  {
   "cell_type": "code",
   "execution_count": null,
   "metadata": {},
   "outputs": [],
   "source": [
    "from car import *\n",
    "\n",
    "my_tesla = car.ElectricCar('tesla', 'model s', 2019)\n",
    "print(my_tesla.get_descriptive_name())\n",
    "my_tesla.battery.describe_battery()\n",
    "my_tesla.battery.get_range()"
   ]
  },
  {
   "cell_type": "markdown",
   "metadata": {},
   "source": [
    "#### Using aliases\n",
    "\n",
    "- Aliases can be quite helpful when using modules to organize your projects’ code. \n",
    "- You can use aliases when importing classes as well"
   ]
  },
  {
   "cell_type": "code",
   "execution_count": null,
   "metadata": {},
   "outputs": [],
   "source": [
    "from car import ElectricCar as EC\n",
    "\n",
    "my_tesla = EC('tesla', 'model s', 2019)\n",
    "print(my_tesla.get_descriptive_name())\n",
    "my_tesla.battery.describe_battery()\n",
    "my_tesla.battery.get_range()"
   ]
  },
  {
   "cell_type": "markdown",
   "metadata": {},
   "source": [
    "**Excercise 4**\n",
    "\n",
    "- Using your `Restaurant` class from *Excercise 1*, store it in a module. \n",
    "- Make a separate file that imports `Restaurant`. \n",
    "- Make a `Restaurant` instance, and call one of `Restaurant`’s methods to show that the import statement is working properly."
   ]
  },
  {
   "cell_type": "code",
   "execution_count": null,
   "metadata": {},
   "outputs": [],
   "source": []
  },
  {
   "cell_type": "markdown",
   "metadata": {},
   "source": [
    "**Excercise 5**\n",
    "\n",
    "- Start with your work from *Exercise 3*. \n",
    "- Store the classes `User`, `Privileges`, and `Admin` in one module. \n",
    "- Write a code below which makes an `Admin` instance, and calls `show_privileges()` to show that everything is working correctly."
   ]
  },
  {
   "cell_type": "code",
   "execution_count": null,
   "metadata": {},
   "outputs": [],
   "source": []
  },
  {
   "cell_type": "markdown",
   "metadata": {},
   "source": [
    "## Encapsulation\n",
    "\n",
    "* OOP concept that binds together the data and functions that manipulate the data\n",
    "* Allowes to keep data and functions safe from outside interference and misuse\n",
    "* Data encapsulation led to the important OOP concept of data hiding.\n",
    "* Often class does not allow calling code to access internal object data and permits access through methods only. this is a strong form of **abstraction** or **information hiding** known as **encapsulation**\n",
    "* In some progrmming languages (e.g. Java) it's possible to enforce access restrictions (to varaibles and methods) explicitly by denoting internal data with the *private*, *protected* or *public* keywords\n",
    "* Encapsulation prevents external code from being concerned with the internal workings of an object; it allows the author of the class to change how objects of that class represent their data internally without changing any external code (as long as \"public\" method calls work the same way). "
   ]
  },
  {
   "cell_type": "markdown",
   "metadata": {},
   "source": [
    "## Composition\n",
    "* Objects contain other objects in their instance variables e.g. an object in the `Employee` class might contain an object in the `Address` class, in addition to its own instance variables like `first_name` and `position`,\n",
    "* Object composition is used to represent \"has-a\" relationships: every employee has an address."
   ]
  },
  {
   "cell_type": "markdown",
   "metadata": {},
   "source": [
    "## Polymorphism\n",
    "\n",
    "In Python, *polymorphism* refers to the way in which different object classes can share the same method name, and those methods can be called from the same place even though a variety of different objects might be passed in. The best way to explain this is by example:"
   ]
  },
  {
   "cell_type": "code",
   "execution_count": null,
   "metadata": {},
   "outputs": [],
   "source": [
    "class Dog:\n",
    "    def __init__(self, name):\n",
    "        self.name = name\n",
    "\n",
    "    def speak(self):\n",
    "        return self.name+' says Woof!'\n",
    "    \n",
    "class Cat:\n",
    "    def __init__(self, name):\n",
    "        self.name = name\n",
    "\n",
    "    def speak(self):\n",
    "        return self.name+' says Meow!' \n",
    "    \n",
    "niko = Dog('Niko')\n",
    "felix = Cat('Felix')\n",
    "\n",
    "print(niko.speak())\n",
    "print(felix.speak())"
   ]
  },
  {
   "cell_type": "markdown",
   "metadata": {},
   "source": [
    "Here we have a Dog class and a Cat class, and each has a `.speak()` method. When called, each object's `.speak()` method returns a result unique to the object.\n",
    "\n",
    "There a few different ways to demonstrate polymorphism. First, with a for loop:"
   ]
  },
  {
   "cell_type": "code",
   "execution_count": null,
   "metadata": {},
   "outputs": [],
   "source": [
    "for pet in [niko,felix]:\n",
    "    print(pet.speak())"
   ]
  },
  {
   "cell_type": "markdown",
   "metadata": {},
   "source": [
    "Another is with functions:"
   ]
  },
  {
   "cell_type": "code",
   "execution_count": null,
   "metadata": {},
   "outputs": [],
   "source": [
    "def pet_speak(pet):\n",
    "    print(pet.speak())\n",
    "\n",
    "pet_speak(niko)\n",
    "pet_speak(felix)"
   ]
  },
  {
   "cell_type": "markdown",
   "metadata": {
    "slideshow": {
     "slide_type": "slide"
    }
   },
   "source": [
    "In both cases we were able to pass in different object types, and we obtained object-specific results from the same mechanism.\n",
    "\n",
    "A more common practice is to use abstract classes and inheritance. An abstract class is one that never expects to be instantiated. For example, we will never have an Animal object, only Dog and Cat objects, although Dogs and Cats are derived from Animals:"
   ]
  },
  {
   "cell_type": "code",
   "execution_count": null,
   "metadata": {},
   "outputs": [],
   "source": [
    "class Animal:\n",
    "    def __init__(self, name):    # Constructor of the class\n",
    "        self.name = name\n",
    "\n",
    "    def speak(self):              # Abstract method, defined by convention only\n",
    "        raise NotImplementedError(\"Subclass must implement abstract method\")\n",
    "\n",
    "\n",
    "class Dog(Animal):\n",
    "    \n",
    "    def speak(self):\n",
    "        return self.name+' says Woof!'\n",
    "    \n",
    "class Cat(Animal):\n",
    "\n",
    "    def speak(self):\n",
    "        return self.name+' says Meow!'\n",
    "    \n",
    "fido = Dog('Fido')\n",
    "isis = Cat('Isis')\n",
    "\n",
    "print(fido.speak())\n",
    "print(isis.speak())"
   ]
  },
  {
   "cell_type": "markdown",
   "metadata": {},
   "source": [
    "## Special Methods\n",
    "* Classes in Python can implement certain operations with special method names. \n",
    "* These methods are not actually called directly but by Python specific language syntax. \n",
    "* These special methods are defined by their use of underscores.\n",
    "* Example of *special methods* in Pytho:\n",
    "    * `__init__()`, \n",
    "    * `__str__()`, \n",
    "    * `__len__()`, \n",
    "    * `__del__()`.\n",
    "For example let's create a Book class:"
   ]
  },
  {
   "cell_type": "code",
   "execution_count": null,
   "metadata": {},
   "outputs": [],
   "source": [
    "class Book:\n",
    "    def __init__(self, title, author, pages):\n",
    "        print(\"A book is created\")\n",
    "        self.title = title\n",
    "        self.author = author\n",
    "        self.pages = pages\n",
    "\n",
    "    def __str__(self):\n",
    "        return \"Title: %s, author: %s, pages: %s\" %(self.title, self.author, self.pages)\n",
    "\n",
    "    def __len__(self):\n",
    "        return self.pages\n",
    "\n",
    "    def __del__(self):\n",
    "        print(\"A book is destroyed\")"
   ]
  },
  {
   "cell_type": "code",
   "execution_count": null,
   "metadata": {},
   "outputs": [],
   "source": [
    "book = Book(\"Python Rocks!\", \"Jose Portilla\", 159)\n",
    "\n",
    "#Special Methods\n",
    "print(book)\n",
    "print(len(book))\n",
    "del book"
   ]
  },
  {
   "cell_type": "markdown",
   "metadata": {},
   "source": [
    "Most of the theory in this chapter was taken from [Wikipedia](https://www.wikiwand.com/en/Object-oriented_programming)\n",
    "\n",
    "For more great resources on this topic, check out:\n",
    "\n",
    " * [Jeff Knupp's Post](https://jeffknupp.com/blog/2014/06/18/improve-your-python-python-classes-and-object-oriented-programming/)\n",
    " * [Tutorial's Point](http://www.tutorialspoint.com/python/python_classes_objects.htm)\n",
    " * [Official Documentation](https://docs.python.org/3/tutorial/classes.html)"
   ]
  }
 ],
 "metadata": {
  "kernelspec": {
   "display_name": "Python 3",
   "language": "python",
   "name": "python3"
  },
  "language_info": {
   "codemirror_mode": {
    "name": "ipython",
    "version": 3
   },
   "file_extension": ".py",
   "mimetype": "text/x-python",
   "name": "python",
   "nbconvert_exporter": "python",
   "pygments_lexer": "ipython3",
   "version": "3.7.4"
  }
 },
 "nbformat": 4,
 "nbformat_minor": 1
}
