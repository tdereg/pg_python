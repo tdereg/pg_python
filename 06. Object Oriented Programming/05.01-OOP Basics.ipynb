{
 "cells": [
  {
   "cell_type": "markdown",
   "metadata": {
    "collapsed": true
   },
   "source": [
    "# Object Oriented Programming\n",
    "Object Oriented Programming is quite a wide topic. We are going to limit ourselves to the following aspect of Object Oriented Programming in Python:\n",
    "\n",
    "* Object Oriented Programming\n",
    "* *Objects* and *Classes*\n",
    "* Using the *class* keyword\n",
    "* Creating *class* attributes\n",
    "* Creating *class* methods\n",
    "* *Inheritance*\n",
    "* *Polymorphism*\n",
    "* *Class* special methods"
   ]
  },
  {
   "cell_type": "markdown",
   "metadata": {},
   "source": [
    "## Object Oriented Programming (OOP) \n",
    "* Programming paradigm based on the concept of **Objects**, which can contain:\n",
    "    * **Variables** (**attributes**, **properties**)\n",
    "        * An *attribute* is a characteristic of an object.\n",
    "        * store information formatted in multiple  data types (e.g. strings, lists, numbers...) \n",
    "        * variables are stored in the form of fields (often known as attributes or properties), \n",
    "    * **Procedures** (business logic also known as **functions** or **methods**a\n",
    "        * a **method** is an operation we can perform with the object.\n",
    "        * procedures take input, generate output, and manipulate data.\n",
    "        * object's procedures (methods) can access and modify the data fields of the object with which they are associated (objects have a notion of *this* or *self*),\n",
    "* In OOP, programs are designed by making them out of objects that interact with one another.\n"
   ]
  },
  {
   "cell_type": "markdown",
   "metadata": {},
   "source": [
    "## *Objects* and *Classes*\n",
    "* **Classes** \n",
    "    * The definition of data format and available procedures for a given type of class (class of object) \n",
    "    * Class is a blueprint that defines the nature of a future object \n",
    "    * From class we create object - class instance,\n",
    "* **Objects** \n",
    "    * **Instance of** particular **class**, \n",
    "    * Class determines type of ovject: we can have class *Car* and several objects of this class e.g. *Mazda* or *Tesla*)\n",
    "    * Objects often correspond to things found in the real world e.g. circle, invoice, customer, menu... \n",
    "* Procedures in object-oriented programming are known as methods; variables are also known as fields, members, attributes, or properties. This leads to the following terms:\n",
    "    * **Class variables** – belong to the class as a whole; there is only one copy of class variable which is shared by all objects of particualr class type\n",
    "    * **Instance variables** or **attributes** – data that belongs to individual objects: every object has its own copy of instance variable\n",
    "    * **Member variables** – refers to both the class and instance variables that are defined by a particular class\n",
    "    * **Class methods** – belong to the class as a whole and have access only to class variables and inputs from the procedure call\n",
    "    * **Instance methods** – belong to individual objects, and have access to instance variables for the specific object they are called on, inputs, and class variables\n",
    "* In Python, *everything is an object*,\n",
    "* Use `type()` to check the type of object."
   ]
  },
  {
   "cell_type": "code",
   "execution_count": 3,
   "metadata": {},
   "outputs": [
    {
     "name": "stdout",
     "output_type": "stream",
     "text": [
      "<class 'int'>\n",
      "<class 'list'>\n",
      "<class 'tuple'>\n",
      "<class 'dict'>\n"
     ]
    }
   ],
   "source": [
    "print(type(1))\n",
    "print(type([]))\n",
    "print(type(()))\n",
    "print(type({}))"
   ]
  },
  {
   "cell_type": "markdown",
   "metadata": {},
   "source": [
    "Create new Class using the <code>class</code> keyword"
   ]
  },
  {
   "cell_type": "code",
   "execution_count": 4,
   "metadata": {},
   "outputs": [
    {
     "name": "stdout",
     "output_type": "stream",
     "text": [
      "<class '__main__.Sample'>\n"
     ]
    }
   ],
   "source": [
    "# Create a new class called Sample\n",
    "class Sample:\n",
    "    pass\n",
    "\n",
    "# x is a reference to new instance of Sample class\n",
    "x = Sample()\n",
    "\n",
    "print(type(x))"
   ]
  },
  {
   "cell_type": "markdown",
   "metadata": {},
   "source": [
    "* By convention class name starts with a capital letter,\n",
    "* Inside the class you can define class attributes and methods (see below) e.g. class `Dog` can have attributes such as dog's breed or its name and method `.bark()` which returns a sound."
   ]
  },
  {
   "cell_type": "markdown",
   "metadata": {},
   "source": [
    "### Attributes\n",
    "* The syntax for creating an attribute is `self.attribute = something`\n",
    "* There is a special method called `__init__()` which is used to initialize the attributes of an object. It is called right after new object is created\n",
    "* Each attribute in a class definition begins with a reference to the instance object by convention named `self`. \n"
   ]
  },
  {
   "cell_type": "code",
   "execution_count": 1,
   "metadata": {},
   "outputs": [],
   "source": [
    "class Dog:\n",
    "    def __init__(self,breed):\n",
    "        self.breed = breed\n",
    "        \n",
    "sam = Dog(breed='Lab') # value of class atribute is passed during initialization process\n",
    "frank = Dog(breed='Huskie')"
   ]
  },
  {
   "cell_type": "code",
   "execution_count": 2,
   "metadata": {},
   "outputs": [
    {
     "data": {
      "text/plain": [
       "'Lab'"
      ]
     },
     "execution_count": 2,
     "metadata": {},
     "output_type": "execute_result"
    }
   ],
   "source": [
    "# you can access class attirbutes using `.` (dot)\n",
    "sam.breed\n"
   ]
  },
  {
   "cell_type": "code",
   "execution_count": 3,
   "metadata": {},
   "outputs": [
    {
     "data": {
      "text/plain": [
       "'Huskie'"
      ]
     },
     "execution_count": 3,
     "metadata": {},
     "output_type": "execute_result"
    }
   ],
   "source": [
    "frank.breed"
   ]
  },
  {
   "cell_type": "code",
   "execution_count": 4,
   "metadata": {},
   "outputs": [
    {
     "ename": "TypeError",
     "evalue": "__init__() missing 1 required positional argument: 'breed'",
     "output_type": "error",
     "traceback": [
      "\u001b[0;31m---------------------------------------------------------------------------\u001b[0m",
      "\u001b[0;31mTypeError\u001b[0m                                 Traceback (most recent call last)",
      "\u001b[0;32m<ipython-input-4-4a01c031a78a>\u001b[0m in \u001b[0;36m<module>\u001b[0;34m\u001b[0m\n\u001b[1;32m      1\u001b[0m \u001b[0;31m# what will happen if you won't initialize class attirbute while creating new instance of an object?\u001b[0m\u001b[0;34m\u001b[0m\u001b[0;34m\u001b[0m\u001b[0;34m\u001b[0m\u001b[0m\n\u001b[0;32m----> 2\u001b[0;31m \u001b[0mlaika\u001b[0m \u001b[0;34m=\u001b[0m \u001b[0mDog\u001b[0m\u001b[0;34m(\u001b[0m\u001b[0;34m)\u001b[0m\u001b[0;34m\u001b[0m\u001b[0;34m\u001b[0m\u001b[0m\n\u001b[0m",
      "\u001b[0;31mTypeError\u001b[0m: __init__() missing 1 required positional argument: 'breed'"
     ]
    }
   ],
   "source": [
    "# what will happen if you won't initialize class attirbute while creating new instance of an object?\n",
    "laika = Dog()"
   ]
  },
  {
   "cell_type": "markdown",
   "metadata": {},
   "source": [
    "## Class object attributes\n",
    "* **Class Object Attributes** are the same for any instance of the class,\n",
    "* You can create the attribute `species` for the `Dog` class. Dogs, regardless of their breed, name, or other attributes, will always be mammals\n",
    "* **Class Object Attributes** are defined outside of any methods in the class\n",
    "* By convention, they are placed before the `__init__()`"
   ]
  },
  {
   "cell_type": "code",
   "execution_count": 8,
   "metadata": {},
   "outputs": [],
   "source": [
    "class Dog:\n",
    "    \n",
    "    # Class Object Attribute\n",
    "    species = 'mammal'\n",
    "    \n",
    "    def __init__(self,breed,name):\n",
    "        self.breed = breed\n",
    "        self.name = name"
   ]
  },
  {
   "cell_type": "code",
   "execution_count": 9,
   "metadata": {},
   "outputs": [],
   "source": [
    "sam = Dog('Lab','Sam')"
   ]
  },
  {
   "cell_type": "code",
   "execution_count": 10,
   "metadata": {},
   "outputs": [
    {
     "data": {
      "text/plain": [
       "'Sam'"
      ]
     },
     "execution_count": 10,
     "metadata": {},
     "output_type": "execute_result"
    }
   ],
   "source": [
    "sam.name"
   ]
  },
  {
   "cell_type": "code",
   "execution_count": 11,
   "metadata": {},
   "outputs": [
    {
     "data": {
      "text/plain": [
       "'mammal'"
      ]
     },
     "execution_count": 11,
     "metadata": {},
     "output_type": "execute_result"
    }
   ],
   "source": [
    "sam.species"
   ]
  },
  {
   "cell_type": "markdown",
   "metadata": {},
   "source": [
    "## Methods\n",
    "\n",
    "* Functions defined inside the body of a class,\n",
    "* Used to perform operations with the attributes of our objects\n",
    "* Key concept of the OOP paradigm - they are essential to dividing responsibilities in programming, especially in large applications.\n",
    "\n",
    "Think of methods as functions acting on an Object that take the Object itself into account through its *self* argument."
   ]
  },
  {
   "cell_type": "code",
   "execution_count": 5,
   "metadata": {},
   "outputs": [
    {
     "name": "stdout",
     "output_type": "stream",
     "text": [
      "Radius is:  1\n",
      "Area is:  3.14\n",
      "Circumference is:  6.28\n"
     ]
    }
   ],
   "source": [
    "class Circle:\n",
    "    pi = 3.14\n",
    "\n",
    "    # Circle gets instantiated with a radius (default is 1)\n",
    "    def __init__(self, radius=1):\n",
    "        self.radius = radius \n",
    "\n",
    "    # Method for resetting Radius\n",
    "    def setRadius(self, new_radius):\n",
    "        self.radius = new_radius\n",
    "\n",
    "    # Method for getting Circumference\n",
    "    def getArea(self):\n",
    "        return self.radius * self.radius * Circle.pi\n",
    "    \n",
    "    # Method for getting Circumference\n",
    "    def getCircumference(self):\n",
    "        return self.radius * self.pi * 2\n",
    "\n",
    "\n",
    "c = Circle()\n",
    "\n",
    "print('Radius is: ',c.radius)\n",
    "print('Area is: ',c.getArea())\n",
    "print('Circumference is: ',c.getCircumference())"
   ]
  },
  {
   "cell_type": "code",
   "execution_count": 6,
   "metadata": {},
   "outputs": [
    {
     "name": "stdout",
     "output_type": "stream",
     "text": [
      "Radius is:  12\n",
      "Area is:  452.16\n",
      "Circumference is:  75.36\n"
     ]
    }
   ],
   "source": [
    "# Change the radius and see how that affects our Circle object:\n",
    "c.setRadius(12)\n",
    "print('Radius is: ',c.radius)\n",
    "print('Area is: ',c.getArea())\n",
    "print('Circumference is: ',c.getCircumference())"
   ]
  },
  {
   "cell_type": "markdown",
   "metadata": {},
   "source": [
    "## Encapsulation\n",
    "\n",
    "* OOP concept that binds together the data and functions that manipulate the data\n",
    "* Allowes to keep data and functions safe from outside interference and misuse\n",
    "* Data encapsulation led to the important OOP concept of data hiding.\n",
    "* Often class does not allow calling code to access internal object data and permits access through methods only. this is a strong form of **abstraction** or **information hiding** known as **encapsulation**\n",
    "* In some progrmming languages (e.g. Java) it's possible to enforce access restrictions (to varaibles and methods) explicitly by denoting internal data with the *private*, *protected* or *public* keywords\n",
    "* Encapsulation prevents external code from being concerned with the internal workings of an object; it allows the author of the class to change how objects of that class represent their data internally without changing any external code (as long as \"public\" method calls work the same way). "
   ]
  },
  {
   "cell_type": "markdown",
   "metadata": {},
   "source": [
    "## Composition\n",
    "* Objects contain other objects in their instance variables e.g. an object in the `Employee` class might contain an object in the `Address` class, in addition to its own instance variables like `first_name` and `position`,\n",
    "* Object composition is used to represent \"has-a\" relationships: every employee has an address."
   ]
  },
  {
   "cell_type": "markdown",
   "metadata": {},
   "source": [
    "## Inheritance\n",
    "* Inheritance is a way to form new classes using classes that have already been defined. \n",
    "* The newly formed classes are called *derived classes*, the classes that we derive from are called *base classes*. \n",
    "* Important benefits of inheritance are code reuse and reduction of complexity of a program. \n",
    "* The *derived classes* (descendants) override or extend the functionality of *base classes* (ancestors).\n",
    "* Used for code reuse and extensibility in the form of either classes or prototypes. \n",
    "* Allows classes to be arranged in a hierarchy that represents \"is-a-type-of\" relationships e.g. \n",
    "    * class `Employee` might inherit from class `Person`,\n",
    "    * all the data and methods available to the parent class also appear in the child class with the same names e.g. class `Person` might define variables `first_name` and `last_name` with method `make_full_name()`. These will also be available in class `Employee`, which might add the variables `position` and `salary`\n",
    "* Inheritance allows easy re-use of the same procedures and data definitions, in addition to potentially mirroring real-world relationships in an intuitive way\n",
    "* Subclasses can override the methods defined by superclasses\n",
    "\n",
    "Let's see an example by incorporating our previous work on the Dog class:"
   ]
  },
  {
   "cell_type": "code",
   "execution_count": 7,
   "metadata": {},
   "outputs": [],
   "source": [
    "class Animal:\n",
    "    def __init__(self):\n",
    "        print(\"Animal created\")\n",
    "\n",
    "    def whoAmI(self):\n",
    "        print(\"Animal\")\n",
    "\n",
    "    def eat(self):\n",
    "        print(\"Eating\")\n",
    "\n",
    "\n",
    "class Dog(Animal):\n",
    "    def __init__(self):\n",
    "        Animal.__init__(self)\n",
    "        print(\"Dog created\")\n",
    "    \n",
    "    # overrirde method from base class\n",
    "    def whoAmI(self):\n",
    "        print(\"Dog\")\n",
    "\n",
    "    # new method\n",
    "    def bark(self):\n",
    "        print(\"Woof!\")"
   ]
  },
  {
   "cell_type": "code",
   "execution_count": 8,
   "metadata": {},
   "outputs": [
    {
     "name": "stdout",
     "output_type": "stream",
     "text": [
      "Animal created\n",
      "Dog created\n"
     ]
    }
   ],
   "source": [
    "d = Dog()"
   ]
  },
  {
   "cell_type": "code",
   "execution_count": 9,
   "metadata": {},
   "outputs": [
    {
     "name": "stdout",
     "output_type": "stream",
     "text": [
      "Dog\n"
     ]
    }
   ],
   "source": [
    "d.whoAmI()"
   ]
  },
  {
   "cell_type": "code",
   "execution_count": 17,
   "metadata": {},
   "outputs": [
    {
     "name": "stdout",
     "output_type": "stream",
     "text": [
      "Eating\n"
     ]
    }
   ],
   "source": [
    "d.eat()"
   ]
  },
  {
   "cell_type": "code",
   "execution_count": 18,
   "metadata": {},
   "outputs": [
    {
     "name": "stdout",
     "output_type": "stream",
     "text": [
      "Woof!\n"
     ]
    }
   ],
   "source": [
    "d.bark()"
   ]
  },
  {
   "cell_type": "markdown",
   "metadata": {},
   "source": [
    "In this example, we have two classes: `Animal` and `Dog`. The `Animal` is the base class, the `Dog` is the derived class. \n",
    "\n",
    "The derived class inherits the functionality of the base class. \n",
    "\n",
    "* It is shown by the `eat()` method. \n",
    "\n",
    "The derived class modifies existing behavior of the base class.\n",
    "\n",
    "* Shown by the `whoAmI`() method. \n",
    "\n",
    "Finally, the derived class extends the functionality of the base class, by defining a new `bark()` method.\n",
    "\n",
    "* Shown by the `bark ()` method. "
   ]
  },
  {
   "cell_type": "markdown",
   "metadata": {},
   "source": [
    "## Polymorphism\n",
    "\n",
    "In Python, *polymorphism* refers to the way in which different object classes can share the same method name, and those methods can be called from the same place even though a variety of different objects might be passed in. The best way to explain this is by example:"
   ]
  },
  {
   "cell_type": "code",
   "execution_count": 19,
   "metadata": {},
   "outputs": [
    {
     "name": "stdout",
     "output_type": "stream",
     "text": [
      "Niko says Woof!\n",
      "Felix says Meow!\n"
     ]
    }
   ],
   "source": [
    "class Dog:\n",
    "    def __init__(self, name):\n",
    "        self.name = name\n",
    "\n",
    "    def speak(self):\n",
    "        return self.name+' says Woof!'\n",
    "    \n",
    "class Cat:\n",
    "    def __init__(self, name):\n",
    "        self.name = name\n",
    "\n",
    "    def speak(self):\n",
    "        return self.name+' says Meow!' \n",
    "    \n",
    "niko = Dog('Niko')\n",
    "felix = Cat('Felix')\n",
    "\n",
    "print(niko.speak())\n",
    "print(felix.speak())"
   ]
  },
  {
   "cell_type": "markdown",
   "metadata": {},
   "source": [
    "Here we have a Dog class and a Cat class, and each has a `.speak()` method. When called, each object's `.speak()` method returns a result unique to the object.\n",
    "\n",
    "There a few different ways to demonstrate polymorphism. First, with a for loop:"
   ]
  },
  {
   "cell_type": "code",
   "execution_count": 20,
   "metadata": {},
   "outputs": [
    {
     "name": "stdout",
     "output_type": "stream",
     "text": [
      "Niko says Woof!\n",
      "Felix says Meow!\n"
     ]
    }
   ],
   "source": [
    "for pet in [niko,felix]:\n",
    "    print(pet.speak())"
   ]
  },
  {
   "cell_type": "markdown",
   "metadata": {},
   "source": [
    "Another is with functions:"
   ]
  },
  {
   "cell_type": "code",
   "execution_count": 21,
   "metadata": {},
   "outputs": [
    {
     "name": "stdout",
     "output_type": "stream",
     "text": [
      "Niko says Woof!\n",
      "Felix says Meow!\n"
     ]
    }
   ],
   "source": [
    "def pet_speak(pet):\n",
    "    print(pet.speak())\n",
    "\n",
    "pet_speak(niko)\n",
    "pet_speak(felix)"
   ]
  },
  {
   "cell_type": "markdown",
   "metadata": {
    "slideshow": {
     "slide_type": "slide"
    }
   },
   "source": [
    "In both cases we were able to pass in different object types, and we obtained object-specific results from the same mechanism.\n",
    "\n",
    "A more common practice is to use abstract classes and inheritance. An abstract class is one that never expects to be instantiated. For example, we will never have an Animal object, only Dog and Cat objects, although Dogs and Cats are derived from Animals:"
   ]
  },
  {
   "cell_type": "code",
   "execution_count": 22,
   "metadata": {},
   "outputs": [
    {
     "name": "stdout",
     "output_type": "stream",
     "text": [
      "Fido says Woof!\n",
      "Isis says Meow!\n"
     ]
    }
   ],
   "source": [
    "class Animal:\n",
    "    def __init__(self, name):    # Constructor of the class\n",
    "        self.name = name\n",
    "\n",
    "    def speak(self):              # Abstract method, defined by convention only\n",
    "        raise NotImplementedError(\"Subclass must implement abstract method\")\n",
    "\n",
    "\n",
    "class Dog(Animal):\n",
    "    \n",
    "    def speak(self):\n",
    "        return self.name+' says Woof!'\n",
    "    \n",
    "class Cat(Animal):\n",
    "\n",
    "    def speak(self):\n",
    "        return self.name+' says Meow!'\n",
    "    \n",
    "fido = Dog('Fido')\n",
    "isis = Cat('Isis')\n",
    "\n",
    "print(fido.speak())\n",
    "print(isis.speak())"
   ]
  },
  {
   "cell_type": "markdown",
   "metadata": {},
   "source": [
    "## Special Methods\n",
    "* Classes in Python can implement certain operations with special method names. \n",
    "* These methods are not actually called directly but by Python specific language syntax. \n",
    "* These special methods are defined by their use of underscores.\n",
    "* Example of *special methods* in Pytho:\n",
    "    * `__init__()`, \n",
    "    * `__str__()`, \n",
    "    * `__len__()`, \n",
    "    * `__del__()`.\n",
    "For example let's create a Book class:"
   ]
  },
  {
   "cell_type": "code",
   "execution_count": 12,
   "metadata": {},
   "outputs": [],
   "source": [
    "class Book:\n",
    "    def __init__(self, title, author, pages):\n",
    "        print(\"A book is created\")\n",
    "        self.title = title\n",
    "        self.author = author\n",
    "        self.pages = pages\n",
    "\n",
    "    def __str__(self):\n",
    "        return \"Title: %s, author: %s, pages: %s\" %(self.title, self.author, self.pages)\n",
    "\n",
    "    def __len__(self):\n",
    "        return self.pages\n",
    "\n",
    "    def __del__(self):\n",
    "        print(\"A book is destroyed\")"
   ]
  },
  {
   "cell_type": "code",
   "execution_count": 15,
   "metadata": {},
   "outputs": [
    {
     "name": "stdout",
     "output_type": "stream",
     "text": [
      "A book is created\n",
      "Title: Python Rocks!, author: Jose Portilla, pages: 159\n",
      "159\n",
      "A book is destroyed\n"
     ]
    }
   ],
   "source": [
    "book = Book(\"Python Rocks!\", \"Jose Portilla\", 159)\n",
    "\n",
    "#Special Methods\n",
    "print(book)\n",
    "print(len(book))\n",
    "del book"
   ]
  },
  {
   "cell_type": "markdown",
   "metadata": {},
   "source": [
    "Most of the theory in this chapter was taken from [Wikipedia](https://www.wikiwand.com/en/Object-oriented_programming)\n",
    "\n",
    "For more great resources on this topic, check out:\n",
    "\n",
    " * [Jeff Knupp's Post](https://jeffknupp.com/blog/2014/06/18/improve-your-python-python-classes-and-object-oriented-programming/)\n",
    " * [Tutorial's Point](http://www.tutorialspoint.com/python/python_classes_objects.htm)\n",
    " * [Official Documentation](https://docs.python.org/3/tutorial/classes.html)"
   ]
  }
 ],
 "metadata": {
  "kernelspec": {
   "display_name": "Python 3",
   "language": "python",
   "name": "python3"
  },
  "language_info": {
   "codemirror_mode": {
    "name": "ipython",
    "version": 3
   },
   "file_extension": ".py",
   "mimetype": "text/x-python",
   "name": "python",
   "nbconvert_exporter": "python",
   "pygments_lexer": "ipython3",
   "version": "3.7.4"
  }
 },
 "nbformat": 4,
 "nbformat_minor": 1
}
